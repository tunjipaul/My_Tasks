{
 "cells": [
  {
   "cell_type": "markdown",
   "id": "a872aa79",
   "metadata": {},
   "source": [
    "# **Modularizing Your Code 1**"
   ]
  },
  {
   "cell_type": "markdown",
   "id": "3fffc514",
   "metadata": {},
   "source": [
    "### **1. Introduction to Modularity**"
   ]
  },
  {
   "cell_type": "markdown",
   "id": "3f697c41",
   "metadata": {},
   "source": [
    " - What modular programming means\n",
    "\n",
    " - Why modularity is important (readability, reusability, debugging, teamwork)"
   ]
  },
  {
   "cell_type": "markdown",
   "id": "a9197559",
   "metadata": {},
   "source": [
    "**What is Modular Programming?**\n",
    "- Modular programming is a way of writing programs by dividing them into smaller, independent, and reusable parts (modules) instead of writing one long block of code.\n",
    "\n",
    "- A module can be a function, a class, or a Python file (.py) that performs a specific task.\n",
    "\n",
    "- These modules can then be combined to build a complete program.\n",
    "\n",
    "- In simple words, modular programming `=` breaking big problems into smaller, manageable solutions."
   ]
  },
  {
   "cell_type": "markdown",
   "id": "8252325a",
   "metadata": {},
   "source": [
    "**Why Modularity is Important**\n",
    " \n",
    " - *1. Readability*\n",
    "  - Breaking code into smaller modules makes it easier to read and understand.\n",
    "\n",
    "  - Instead of scrolling through hundreds of lines inside a file, you can just put them in different files within a folder and look at the specific file that has the codes you need.\n",
    " \n",
    " - *2. Reusability*\n",
    "  - Once you create a module, you can reuse it in different programs.\n",
    "\n",
    "  - No need to rewrite the same code over and over again.\n",
    "\n",
    "  - For example, A function that calculates the area of a circle can be used in a school project, an engineering project, or even in a game.\n",
    "\n",
    "  - *3. Debugging and Maintenance*\n",
    "\n",
    "   - If there’s an error, you only need to check the specific module where the problem is, instead of combing through the whole program.\n",
    "   \n",
    "   - Updating or improving one module doesn’t break the rest of the system.\n",
    "   \n",
    "   - LEts say, you are building a banking application. If the `payment module` in the app has a bug, the `user login module` is unaffected.\n",
    "\n",
    "   - *4. Teamwork and Collaboration*\n",
    "\n",
    "     - In real-world projects, different developers can work on different modules simultaneously.\n",
    "\n",
    "     - Later, all modules are combined into the main project.\n",
    "\n",
    "     - For example,In building a school management system.\n",
    "\n",
    "        - One developer handles student records\n",
    "\n",
    "        - Another handles teacher records\n",
    "\n",
    "        - Another handles payment system\n",
    "\n",
    "     - All parts are then combined to make one big system."
   ]
  },
  {
   "cell_type": "markdown",
   "id": "caed7f68",
   "metadata": {},
   "source": [
    "**Lets Put things in perspective**\n",
    "\n",
    " - Imagine we are planning a wedding event. If one person tries to do everything (cook, decorate, handle invitations, music, photography), it becomes chaotic or nearly impossible.\n",
    "\n",
    "- Instead, tasks are divided:\n",
    "\n",
    "  - The caterer handles food\n",
    "  - The decorator handles decoration\n",
    "  - The DJ handles music\n",
    "  - The photographer handles pictures\n",
    "\n",
    "- At the end, when everyone brings their contribution together, the event runs smoothly.\n",
    "\n",
    "- This is exactly how modular programming works in coding. Each part (module) does its job, and together they form the complete program.\n",
    "\n",
    "*Do you understand?*"
   ]
  },
  {
   "cell_type": "markdown",
   "id": "0322f605",
   "metadata": {},
   "source": []
  },
  {
   "cell_type": "markdown",
   "id": "a0e17f12",
   "metadata": {},
   "source": [
    "____________________________________________________________________________"
   ]
  },
  {
   "cell_type": "markdown",
   "id": "f42726cd",
   "metadata": {},
   "source": [
    "### **2. Functions (first level of modularity)**"
   ]
  },
  {
   "cell_type": "markdown",
   "id": "bdcb172c",
   "metadata": {},
   "source": [
    "\n",
    "_____________________________________________________________________________\n",
    "\n",
    " - Definition of a function\n",
    "\n",
    " - Defining and calling functions\n",
    "\n",
    " - Function parameters and arguments\n",
    "\n",
    " - Return values\n",
    "\n",
    " - Use cases (math operations, repeated tasks, formatting output)"
   ]
  },
  {
   "cell_type": "markdown",
   "id": "9c20d1b2",
   "metadata": {},
   "source": [
    "**Definition of a Function**\n",
    "\n",
    "- A function is a block of organized, reusable code that performs a single specific task. In python, we have the inbuilt functions, the user defined functions and lambda function(which is also a type of user defined function)"
   ]
  },
  {
   "cell_type": "markdown",
   "id": "8bc38795",
   "metadata": {},
   "source": [
    "##### **Python Built-in Functions**"
   ]
  },
  {
   "cell_type": "markdown",
   "id": "bfcae873",
   "metadata": {},
   "source": [
    "\n",
    "\n",
    "- Built-in functions are functions that come pre-installed with Python. You don’t need to import any library to use them. They are always available, just like how a phone comes with default apps (calculator, messages, clock). And you have used some of them without even knowing.\n",
    "\n",
    "**Common Categories of Built-in Functions**\n",
    "\n",
    "1. Input and Output Functions\n",
    "\n",
    "```\n",
    "print() # Displays output.\n",
    "\n",
    "input() # Takes user input.\n",
    "\n",
    "```\n",
    "\n",
    "2. Type Conversion Functions\n",
    "\n",
    " - `int()`, `float()`, `str()`, `bool()`, `list()`, `dict()`, `tuple()`, `set()`\n",
    "\n",
    "3. Mathematical Functions\n",
    "\n",
    "```\n",
    "abs() # Absolute value\n",
    "\n",
    "pow(x, y) # x raised to power y\n",
    "\n",
    "round() # Round numbers to the defined decimal places\n",
    "\n",
    "min(), max() # Find smallest/largest\n",
    "```\n",
    "\n",
    "4. Sequence and Collection Functions\n",
    "\n",
    "```\n",
    "len() # Length of a sequence\n",
    "\n",
    "sum() # Sum of elements\n",
    "\n",
    "sorted() # Sort items\n",
    "\n",
    "enumerate() # Track index and value\n",
    "\n",
    "```\n",
    "\n",
    "5. Utility Functions\n",
    "\n",
    "```\n",
    "type() # Shows the type of an object(variables,datatypes, data structures, functions, classes)\n",
    "\n",
    "id() # Returns unique ID of object in memory\n",
    "\n",
    "help() # Documentation about an object\n",
    "```\n",
    "\n",
    "6. Special Built-ins\n",
    "\n",
    "```\n",
    "range() # Generates a sequence of numbers\n",
    "\n",
    "zip() # Combines two lists element by element\n",
    "\n",
    "map() # Applies a function to all elements in a sequence\n",
    "\n",
    "filter() # Filters elements in a sequence based on condition\n",
    "```"
   ]
  },
  {
   "cell_type": "code",
   "execution_count": 9,
   "id": "d6b539f2",
   "metadata": {},
   "outputs": [
    {
     "name": "stdout",
     "output_type": "stream",
     "text": [
      "0\n",
      "1\n",
      "2\n",
      "Esther scored 85\n",
      "Precious scored 90\n",
      "Kennie scored 75\n",
      "[1, 4, 9, 16]\n",
      "[2, 4]\n"
     ]
    }
   ],
   "source": [
    "# See Examples of use here\n",
    "\n",
    "# range()\n",
    "for i in range(3):\n",
    "    print(i)   # 0, 1, 2\n",
    "\n",
    "# zip()\n",
    "names = [\"Esther\", \"Precious\", \"Kennie\"]\n",
    "scores = [85, 90, 75]\n",
    "for n, s in zip(names, scores):\n",
    "    print(n, \"scored\", s)\n",
    "\n",
    "\n",
    "# It's Ok, if don't know what lambda is  or how to use it. I will touch on it later. Just focus on  the outputs\n",
    "# map()\n",
    "nums = [1, 2, 3, 4]\n",
    "squared = list(map(lambda x: x**2, nums))\n",
    "print(squared)  # [1, 4, 9, 16]\n",
    "\n",
    "# filter()\n",
    "even_nums = list(filter(lambda x: x % 2 == 0, nums))\n",
    "print(even_nums)  # [2, 4]\n"
   ]
  },
  {
   "cell_type": "markdown",
   "id": "b56fd7e8",
   "metadata": {},
   "source": [
    "**Take a long look at the code below, please**"
   ]
  },
  {
   "cell_type": "code",
   "execution_count": 10,
   "id": "3e05cc2b",
   "metadata": {},
   "outputs": [
    {
     "ename": "ValueError",
     "evalue": "invalid literal for int() with base 10: ''",
     "output_type": "error",
     "traceback": [
      "\u001b[1;31m---------------------------------------------------------------------------\u001b[0m",
      "\u001b[1;31mValueError\u001b[0m                                Traceback (most recent call last)",
      "Cell \u001b[1;32mIn[10], line 5\u001b[0m\n\u001b[0;32m      1\u001b[0m \u001b[38;5;66;03m# Student Performance & Feedback System\u001b[39;00m\n\u001b[0;32m      2\u001b[0m \n\u001b[0;32m      3\u001b[0m \u001b[38;5;66;03m# Step 1: Input student data\u001b[39;00m\n\u001b[0;32m      4\u001b[0m name1 \u001b[38;5;241m=\u001b[39m \u001b[38;5;28minput\u001b[39m(\u001b[38;5;124m\"\u001b[39m\u001b[38;5;124mEnter first student name: \u001b[39m\u001b[38;5;124m\"\u001b[39m)\n\u001b[1;32m----> 5\u001b[0m score1 \u001b[38;5;241m=\u001b[39m \u001b[38;5;28;43mint\u001b[39;49m\u001b[43m(\u001b[49m\u001b[38;5;28;43minput\u001b[39;49m\u001b[43m(\u001b[49m\u001b[38;5;124;43m\"\u001b[39;49m\u001b[38;5;124;43mEnter score for \u001b[39;49m\u001b[38;5;124;43m\"\u001b[39;49m\u001b[43m \u001b[49m\u001b[38;5;241;43m+\u001b[39;49m\u001b[43m \u001b[49m\u001b[43mname1\u001b[49m\u001b[43m \u001b[49m\u001b[38;5;241;43m+\u001b[39;49m\u001b[43m \u001b[49m\u001b[38;5;124;43m\"\u001b[39;49m\u001b[38;5;124;43m: \u001b[39;49m\u001b[38;5;124;43m\"\u001b[39;49m\u001b[43m)\u001b[49m\u001b[43m)\u001b[49m\n\u001b[0;32m      7\u001b[0m name2 \u001b[38;5;241m=\u001b[39m \u001b[38;5;28minput\u001b[39m(\u001b[38;5;124m\"\u001b[39m\u001b[38;5;124mEnter second student name: \u001b[39m\u001b[38;5;124m\"\u001b[39m)\n\u001b[0;32m      8\u001b[0m score2 \u001b[38;5;241m=\u001b[39m \u001b[38;5;28mint\u001b[39m(\u001b[38;5;28minput\u001b[39m(\u001b[38;5;124m\"\u001b[39m\u001b[38;5;124mEnter score for \u001b[39m\u001b[38;5;124m\"\u001b[39m \u001b[38;5;241m+\u001b[39m name2 \u001b[38;5;241m+\u001b[39m \u001b[38;5;124m\"\u001b[39m\u001b[38;5;124m: \u001b[39m\u001b[38;5;124m\"\u001b[39m))\n",
      "\u001b[1;31mValueError\u001b[0m: invalid literal for int() with base 10: ''"
     ]
    }
   ],
   "source": [
    "# Student Performance & Feedback System\n",
    "\n",
    "# Step 1: Input student data\n",
    "name1 = input(\"Enter first student name: \")\n",
    "score1 = int(input(\"Enter score for \" + name1 + \": \"))\n",
    "\n",
    "name2 = input(\"Enter second student name: \")\n",
    "score2 = int(input(\"Enter score for \" + name2 + \": \"))\n",
    "\n",
    "name3 = input(\"Enter third student name: \")\n",
    "score3 = int(input(\"Enter score for \" + name3 + \": \"))\n",
    "\n",
    "# Step 2: Store in lists\n",
    "names = [name1, name2, name3]\n",
    "scores = [score1, score2, score3]\n",
    "\n",
    "# Step 3: Display data\n",
    "print(\"\\nStudent Data:\")\n",
    "for index, (n, s) in enumerate(zip(names, scores)):\n",
    "    print(f\"{index + 1}. {n} - {s}\")\n",
    "\n",
    "# Step 4: Summary using built-ins\n",
    "total = sum(scores)\n",
    "average = round(total / len(scores), 2)\n",
    "highest = max(scores)\n",
    "lowest = min(scores)\n",
    "\n",
    "print(\"\\nPerformance Summary:\")\n",
    "print(\"Total Score:\", total)\n",
    "print(\"Average Score:\", average)\n",
    "print(\"Highest Score:\", highest)\n",
    "print(\"Lowest Score:\", lowest)\n",
    "\n",
    "# Step 5: Ranking (using sorted and zip)\n",
    "ranked = sorted(zip(scores, names), reverse=True)\n",
    "print(\"\\nRanking:\")\n",
    "for rank, (score, name) in enumerate(ranked, 1):\n",
    "    print(f\"{rank}. {name} - {score}\")\n",
    "\n",
    "# Step 6: Check data types\n",
    "print(\"\\nData Type Checks:\")\n",
    "print(\"Type of names:\", type(names))\n",
    "print(\"Type of scores:\", type(scores))\n",
    "print(\"ID of names list:\", id(names))\n",
    "print(\"ID of scores list:\", id(scores))\n",
    "\n",
    "# Step 7: Filter passing students (>=50)\n",
    "passing = list(filter(lambda s: s >= 50, scores))\n",
    "print(\"\\nPassing Scores:\", passing)\n",
    "\n",
    "# Step 8: Map names to uppercase\n",
    "upper_names = list(map(lambda n: n.upper(), names))\n",
    "print(\"Uppercase Names:\", upper_names)\n",
    "\n",
    "# Step 9: Use help() to show documentation of len\n",
    "print(\"\\nHelp on len():\")\n",
    "help(len)\n",
    "\n",
    "\n",
    "# I just made use of most of the built-in functions. You can write your own version of this code. Just think through it."
   ]
  },
  {
   "cell_type": "markdown",
   "id": "fbf47acc",
   "metadata": {},
   "source": [
    "##### **User Defined Function**"
   ]
  },
  {
   "cell_type": "markdown",
   "id": "0f73a79f",
   "metadata": {},
   "source": [
    "\n",
    "___________________________________________________"
   ]
  },
  {
   "cell_type": "markdown",
   "id": "915e9424",
   "metadata": {},
   "source": [
    "\n",
    "- Instead of writing the same code again and again, we put it inside a function and just call it whenever we need it.\n",
    "\n",
    " - So functions make programs cleaner, shorter, and easier to manage.\n",
    "\n",
    "- Now, I need you to think of a function like a machine in a factory.\n",
    "\n",
    "  - You put something in (input),\n",
    "\n",
    "  - The machine works on it (process),\n",
    "\n",
    "  - Then gives you something out (output)."
   ]
  },
  {
   "cell_type": "markdown",
   "id": "ee82261a",
   "metadata": {},
   "source": [
    "- In Python, we use the `def` keyword to define a function.\n",
    "Then we call the function whenever we want to use it.\n",
    "\n",
    "- Lets see the function structure\n",
    "\n",
    "```\n",
    "def function_name(takes in input):\n",
    "    process block\n",
    "    output block\n",
    "```\n",
    "\n",
    "- More explanation\n",
    "\n",
    "```\n",
    "def function_name(input - here, you will insert an item or list of what the function will need to work):\n",
    "\n",
    "    \"process block -here will contain the logic or what you want the function to do\"\n",
    "\n",
    "    \" output - Then here will contain what you want the function to output. You can either use the 'return' keyword or'print()' or 'yield'\"\n",
    "``"
   ]
  },
  {
   "cell_type": "code",
   "execution_count": null,
   "id": "a730ba6c",
   "metadata": {},
   "outputs": [],
   "source": [
    "# Defining a function\n",
    "def greet():\n",
    "    print(\"Hello, welcome to AI Fellowship!\")\n",
    "\n",
    "# When you want to use a function, this is how to call it.\n",
    "# And you can call it as many times as possible.\n",
    "greet()\n",
    "greet()\n",
    "greet()\n"
   ]
  },
  {
   "cell_type": "markdown",
   "id": "ff8ef2e7",
   "metadata": {},
   "source": [
    "**Function Arguments and Parameters**\n",
    "\n",
    "- *Arguments* are variables you add inside the function parenthesis when defining the function (placeholders). Sometimes, they can be optional.\n",
    "\n",
    "- *Parameters* are the actual values you pass inside the function parenthesis when calling the function."
   ]
  },
  {
   "cell_type": "code",
   "execution_count": null,
   "id": "64263cbd",
   "metadata": {},
   "outputs": [],
   "source": [
    "# Function with an argument - the placeholder\n",
    "def greet(name):\n",
    "    print(\"Hello\", name, \"welcome to Python learning!\")\n",
    "\n",
    "# Calling with parameter- the actual name\n",
    "greet(\"Class rep\")\n",
    "greet(\"Ridwan\")\n"
   ]
  },
  {
   "cell_type": "markdown",
   "id": "a4f1a5ff",
   "metadata": {},
   "source": [
    "**When to Use `return`, `print()`, and `yield` keywords inside a function**"
   ]
  },
  {
   "cell_type": "markdown",
   "id": "181ccee9",
   "metadata": {},
   "source": [
    "- **a. print()** \n",
    " - You can use it if you are just interested in displaying your output (Not Storing). It does not give back a value you can use later.\n",
    "\n",
    " - Think of it like shouting information out loud, but not recording it for reference purpose.\n",
    "\n",
    " - So you use it when you just want to show results to the user.  Example: printing menus, reports, or logs."
   ]
  },
  {
   "cell_type": "code",
   "execution_count": null,
   "id": "b062b37b",
   "metadata": {},
   "outputs": [],
   "source": [
    "def greet(name):\n",
    "    print(\"Hello\", name)\n",
    "\n",
    "\n",
    "# Function call\n",
    "result = greet(\"Esther\")\n",
    "\n",
    "# You will notice that it did not store the name\n",
    "print(\"Result:\", result)\n"
   ]
  },
  {
   "cell_type": "markdown",
   "id": "e03a7c5c",
   "metadata": {},
   "source": [
    "- **b. return** \n",
    " - You can use it if you want to give back a value.\n",
    " - `return` sends a value back to the function caller.\n",
    "\n",
    " - The function ends immediately once it hits return.\n",
    "\n",
    " - Think of it like filling a form and handing it back, the caller now owns the result and can reuse it.\n",
    "\n",
    " - So you can use `return` when you need the result for further computation or storage.For example, math calculations, data processing, formatting text."
   ]
  },
  {
   "cell_type": "code",
   "execution_count": null,
   "id": "967755f5",
   "metadata": {},
   "outputs": [],
   "source": [
    "def add(a, b):\n",
    "    return a + b\n",
    "\n",
    "# Function call\n",
    "\n",
    "result = add(4, 6)\n",
    "print(\"The sum is:\", result)\n",
    "\n",
    "# Note the output and compare it with that of print()"
   ]
  },
  {
   "cell_type": "markdown",
   "id": "4b5ff2c4",
   "metadata": {},
   "source": [
    "**3. yield** \n",
    "\n",
    " – This is used for  producing a Sequence (Generators)\n",
    "\n",
    " - `yield` works like return, but instead of ending the function, it pauses it and remembers its state.\n",
    "\n",
    " - Next time you call it, it resumes from where it stopped.\n",
    "\n",
    " - This creates a generator. \n",
    " - You can use it when working with large data or infinite sequences. "
   ]
  },
  {
   "cell_type": "code",
   "execution_count": null,
   "id": "1588dfdb",
   "metadata": {},
   "outputs": [
    {
     "name": "stdout",
     "output_type": "stream",
     "text": [
      "1\n",
      "2\n",
      "3\n",
      "4\n",
      "5\n"
     ]
    }
   ],
   "source": [
    "def count_up_to(n):\n",
    "    i = 1\n",
    "    while i <= n:\n",
    "        yield i   # pause and return i\n",
    "        i += 1\n",
    "\n",
    "# Using the generator\n",
    "for number in count_up_to(5):\n",
    "    print(number)\n",
    "\n",
    "# Note the output: Instead of giving all numbers at once, the function yields them one at a time."
   ]
  },
  {
   "cell_type": "markdown",
   "id": "3d24ca3b",
   "metadata": {},
   "source": [
    "**More on Function Arguments(Types of Arguments)**\n",
    "\n",
    "- Functions can accept different types of arguments depending on how we want to pass data. Understanding these makes functions flexible and powerful."
   ]
  },
  {
   "cell_type": "markdown",
   "id": "d07ba1ce",
   "metadata": {},
   "source": [
    "**1. Positional Arguments**\n",
    "- These are the most common.\n",
    "\n",
    "- The order matters: values are assigned to parameters in the same order as they appear.\n",
    "\n",
    "- Think of it like lining up children in the same order as roll call."
   ]
  },
  {
   "cell_type": "code",
   "execution_count": null,
   "id": "aeccf42f",
   "metadata": {},
   "outputs": [],
   "source": [
    "def introduce(name, track):\n",
    "    print(\"My name is\", name)\n",
    "    print(\"I am learning\", track, \".\")\n",
    "\n",
    "# function call\n",
    "introduce(\"Ngozi\", \"AI Engineering\")   # Correct order\n",
    "\n",
    "# Change the arrangment and watch the output\n",
    "\n",
    "introduce(\"AI Engineering\",\"Ngozi\")   # Incorrect order, this will throw a semantic error"
   ]
  },
  {
   "cell_type": "markdown",
   "id": "a665d927",
   "metadata": {},
   "source": [
    "**2. Keyword Arguments**\n",
    "\n",
    "- Here, you explicitly mention the parameter name when calling the function.\n",
    "\n",
    "- Order doesn’t matter, since Python knows which value goes where.\n",
    "\n",
    "- Think of it like addressing an envelope by name instead of position in line."
   ]
  },
  {
   "cell_type": "code",
   "execution_count": null,
   "id": "c1d90236",
   "metadata": {},
   "outputs": [],
   "source": [
    "def introduce(name, track):\n",
    "    print(\"My name is\", name)\n",
    "    print(\"I am learning\", track,\".\")\n",
    "\n",
    "# function call\n",
    "introduce(name = \"Ngozi\", track = \"AI Engineering\")\n",
    "\n",
    "# Change the arrangment and watch the output\n",
    "\n",
    "introduce(track = \"AI Engineering\",name = \"Ngozi\")   # HEre you notice that order does not batter"
   ]
  },
  {
   "cell_type": "markdown",
   "id": "d13a32db",
   "metadata": {},
   "source": [
    "**3. Default Arguments**\n",
    "- HERe, you can give parameters a default value.\n",
    "\n",
    " - Even if no value is provided when calling, the default is used.\n",
    "\n",
    " - Think of it like a restaurant menu where rice is served by default if you don’t choose otherwise."
   ]
  },
  {
   "cell_type": "code",
   "execution_count": null,
   "id": "1a8d2751",
   "metadata": {},
   "outputs": [],
   "source": [
    "def introduce(name, track = \"AI Engineering\"):\n",
    "    print(\"My name is\", name)\n",
    "    print(\"I am learning\", track,\".\")\n",
    "\n",
    "# function call\n",
    "# Without specifying the default argument, but watch the ouput\n",
    "introduce(\"Paul\")  "
   ]
  },
  {
   "cell_type": "code",
   "execution_count": null,
   "id": "e09a339b",
   "metadata": {},
   "outputs": [],
   "source": [
    "# Specify the default argument and watch the output\n",
    "\n",
    "introduce(\"Tunji Paul\", track = \"AI Development\")"
   ]
  },
  {
   "cell_type": "markdown",
   "id": "561056f2",
   "metadata": {},
   "source": [
    "**4. Varying Length Arguments**\n",
    "\n",
    "- Sometimes we don’t know how many arguments will be passed. Python provides two special symbols(that is the asterisk)\n",
    "\n",
    " - single asterisk for non-keyword arguments or tuple(*args)\n",
    " - Double asterisk for keyword arguments or dictionary(**kwargs)"
   ]
  },
  {
   "cell_type": "markdown",
   "id": "245b04d1",
   "metadata": {},
   "source": [
    "**a. non-keyword (tuple)**\n",
    "\n",
    "- Collects extra positional arguments into a tuple.\n",
    "\n",
    "- Think of it like packing extra clothes into a bag."
   ]
  },
  {
   "cell_type": "code",
   "execution_count": null,
   "id": "4d55f216",
   "metadata": {},
   "outputs": [],
   "source": [
    "def add_numbers(*args):\n",
    "    total = 0\n",
    "    for num in args:\n",
    "        total += num\n",
    "    print(\"Sum:\", total)\n",
    "\n",
    "# function call \n",
    "# Take note of the output\n",
    "add_numbers(2, 4, 6)\n",
    "add_numbers(10, 20, 30, 40, 50)"
   ]
  },
  {
   "cell_type": "markdown",
   "id": "0815a557",
   "metadata": {},
   "source": [
    "**b. keyword argument (dictionary)**\n",
    "\n",
    "- Collects extra keyword arguments into a dictionary.\n",
    "\n",
    "- Think of it like a labeled container where each item has a name tag."
   ]
  },
  {
   "cell_type": "code",
   "execution_count": null,
   "id": "85316360",
   "metadata": {},
   "outputs": [],
   "source": [
    "def student_details(**kwargs):\n",
    "    for key, value in kwargs.items():\n",
    "        print(key, \":\", value)\n",
    "\n",
    "\n",
    "# function call - Take note of the output\n",
    "student_details(name=\"Peter\", track = \"AI Engineering\", interest=\"Block Chain\")\n"
   ]
  },
  {
   "cell_type": "markdown",
   "id": "1f26697c",
   "metadata": {},
   "source": [
    "**Lets implement on full code**"
   ]
  },
  {
   "cell_type": "code",
   "execution_count": null,
   "id": "0ff64002",
   "metadata": {},
   "outputs": [],
   "source": [
    "# Define student profile function\n",
    "\n",
    "# Ensure to not the order of arrangement of the types of arguments used.\n",
    "# This is how to arrange it of you are using everything or some of the together\n",
    "\n",
    "def participant_profile(name, age, track=\"AI Development\", *skills, **extra_info):\n",
    "    \"\"\"\n",
    "    Generate a profile for a bootcamp participant using different types of arguments.\n",
    "    \"\"\"\n",
    "    profile = f\"\\n--- Bootcamp Participant Profile ---\\n\"\n",
    "    profile += f\"Name: {name}\\n\"\n",
    "    profile += f\"Age: {age}\\n\"\n",
    "    profile += f\"Track: {track}\\n\"\n",
    "\n",
    "    # Skills (from *args)\n",
    "    if skills:\n",
    "        profile += \"Skills: \" + \", \".join(skills) + \"\\n\"\n",
    "    else:\n",
    "        profile += \"Skills: Not yet specified\\n\"\n",
    "\n",
    "    # Extra info (from **kwargs)\n",
    "    if extra_info:\n",
    "        profile += \"Additional Info:\\n\"\n",
    "        for key, value in extra_info.items():\n",
    "            profile += f\" - {key.capitalize()}: {value}\\n\"\n",
    "\n",
    "    return profile  # Do you remember `return` and why it is used? We are using it so it can be reused in other places\n"
   ]
  },
  {
   "cell_type": "code",
   "execution_count": null,
   "id": "91d90227",
   "metadata": {},
   "outputs": [],
   "source": [
    "\n",
    "# ---------- LEts test ----------\n",
    "\n",
    "# Example 1: Using only positional arguments\n",
    "print(participant_profile(\"Peter\", 24))"
   ]
  },
  {
   "cell_type": "code",
   "execution_count": null,
   "id": "27fec5e8",
   "metadata": {},
   "outputs": [],
   "source": [
    "\n",
    "# Example 2: Adding keyword/default argument\n",
    "print(participant_profile(\"Ridwan\", 29, track=\"AI Engineering\"))"
   ]
  },
  {
   "cell_type": "code",
   "execution_count": null,
   "id": "8ffefe8d",
   "metadata": {},
   "outputs": [],
   "source": [
    "# Example 3: Adding variable-length positional arguments (*args)\n",
    "print(participant_profile(\"David\", 27, \"Data Science\", \"Python\", \"SQL\", \"Machine Learning\"))\n"
   ]
  },
  {
   "cell_type": "code",
   "execution_count": null,
   "id": "39b450df",
   "metadata": {},
   "outputs": [],
   "source": [
    "# Example 4: Adding variable-length keyword arguments (**kwargs)\n",
    "print(participant_profile(\n",
    "    \"Sophia\", 30, \"Cybersecurity\",\n",
    "    \"Networking\", \"Ethical Hacking\", \"Python\",\n",
    "    interest=\"Blockchain\", city=\"Shagamu\", phone=\"08123456789\"\n",
    "))"
   ]
  },
  {
   "cell_type": "markdown",
   "id": "2289c143",
   "metadata": {},
   "source": [
    "##### ****Namespaces and Scope****"
   ]
  },
  {
   "cell_type": "markdown",
   "id": "fdcdd71f",
   "metadata": {},
   "source": [
    "___________________________________\n",
    "**Namespace**\n",
    "\n",
    "- A namespace is like a “container” that holds names (variables, functions, objects) and maps them to the actual data stored in memory.\n",
    "\n",
    "- Think of it as a dictionary where keys are names and values are objects.\n",
    "\n",
    "- Python uses namespaces to avoid name conflicts.\n",
    "\n",
    "- Lets imagine a company where different departments can have employees with the same name.\n",
    "\n",
    "  - In the IT department, there may be a \"Chris\".\n",
    "\n",
    "  - In the Training department, there may also be a \"Chris\".\n",
    "- Both exist, but they are identified by their department (namespace), so there’s no confusion."
   ]
  },
  {
   "cell_type": "markdown",
   "id": "ab54bea1",
   "metadata": {},
   "source": [
    "**Types of Namespaces**\n",
    "\n",
    " - 1. Built-in namespace -Provided by Python (e.g., len, print, list).\n",
    "\n",
    " - 2. Global namespace -Names defined at the top level of a script or module.\n",
    "\n",
    " - 3. Local namespace -Names created inside a function."
   ]
  },
  {
   "cell_type": "code",
   "execution_count": null,
   "id": "ba3669f6",
   "metadata": {},
   "outputs": [],
   "source": [
    "# Global Namespace\n",
    "employee = \"General Employee\"  \n",
    "\n",
    "def IT_department():\n",
    "    # Local Namespace inside IT_department\n",
    "    employee = \"Chris (IT)\"\n",
    "    print(\"Inside IT Department:\", employee)\n",
    "\n",
    "def Training_department():\n",
    "    # Local Namespace inside Training_department\n",
    "    employee = \"Chris (Training)\"\n",
    "    print(\"Inside Training Department:\", employee)\n",
    "\n",
    "print(\"In Global Namespace:\", employee)  # Refers to global variable\n",
    "\n",
    "IT_department()   # Uses local variable in IT\n",
    "Training_department()   # Uses local variable in Training\n",
    "\n",
    "# Using a built-in namespace function\n",
    "print(\"Length of 'Python':\", len(\"Python\"))  \n",
    "\n",
    "# So 'Chris' can exist in more than one namespace without conflict.\n",
    "# Please, take your time to study the output carefully."
   ]
  },
  {
   "cell_type": "markdown",
   "id": "a56a60ca",
   "metadata": {},
   "source": [
    "____________________________\n",
    "**Scope**\n",
    "\n",
    "- Scope defines where in the code a name is accessible.\n",
    "Python follows the *LEGB Rule* (order of search for a variable):\n",
    "\n",
    "L – Local → Inside the current function.\n",
    "\n",
    "E – Enclosing → Inside any enclosing function(s).\n",
    "\n",
    "G – Global → At the top level of the script/module.\n",
    "\n",
    "B – Built-in → Python’s built-in functions/objects."
   ]
  },
  {
   "cell_type": "code",
   "execution_count": null,
   "id": "bfbd408f",
   "metadata": {},
   "outputs": [],
   "source": [
    "x = \"global x\"   # Global Namespace\n",
    "\n",
    "def outer():\n",
    "    x = \"enclosing x\"  # Enclosing Namespace\n",
    "    \n",
    "    def inner():\n",
    "        x = \"local x\"  # Local Namespace\n",
    "        print(\"Inside inner:\", x)  # Local wins\n",
    "    \n",
    "    inner()\n",
    "    print(\"Inside outer:\", x)  # Enclosing\n",
    "    \n",
    "outer()\n",
    "print(\"In global:\", x)  # Global\n",
    "\n",
    "# Watch the output\n",
    "# Notice how Python searches in the order Local → Enclosing → Global → Built-in (LEGB)."
   ]
  },
  {
   "cell_type": "code",
   "execution_count": null,
   "id": "ab366419",
   "metadata": {},
   "outputs": [],
   "source": [
    "### Global keyword\n",
    "\n",
    "# Used when you want to modify a global variable inside a function.\n",
    "\n",
    "x = 5\n",
    "\n",
    "def change_global():\n",
    "    global x\n",
    "    x = 10   # modifies the global x\n",
    "\n",
    "change_global()\n",
    "print(x)  # Output: 10\n",
    "\n",
    "# Watch the output"
   ]
  },
  {
   "cell_type": "code",
   "execution_count": null,
   "id": "31980d4d",
   "metadata": {},
   "outputs": [],
   "source": [
    "# nonlocal keyword\n",
    "\n",
    "#Used in nested functions when you want to modify the variable from the enclosing scope (not global).\n",
    "\n",
    "def outer():\n",
    "    x = \"outer x\"\n",
    "    \n",
    "    def inner():\n",
    "        nonlocal x\n",
    "        x = \"changed by inner\"\n",
    "        print(\"Inside inner:\", x)\n",
    "    \n",
    "    inner()\n",
    "    print(\"Inside outer:\", x)\n",
    "\n",
    "outer()\n",
    "\n",
    "# Watch the output"
   ]
  },
  {
   "cell_type": "markdown",
   "id": "81eb1e6f",
   "metadata": {},
   "source": [
    "So understanding namespace and scope helps avoid name conflicts, makes modular code easier to read, and ensures functions and modules can work without interfering with each other."
   ]
  },
  {
   "cell_type": "markdown",
   "id": "e0d12da6",
   "metadata": {},
   "source": [
    "##### **Lamda Function**"
   ]
  },
  {
   "cell_type": "markdown",
   "id": "52a55acb",
   "metadata": {},
   "source": [
    "\n",
    "- A lambda function is a small, anonymous function (no name) defined using the lambda keyword.\n",
    "\n",
    "- It can have any number of arguments, but only one expression.\n",
    "\n",
    "- The result of the expression is automatically returned."
   ]
  },
  {
   "cell_type": "markdown",
   "id": "b52d2085",
   "metadata": {},
   "source": [
    "- This is the syntax\n",
    "\n",
    "```\n",
    "lambda arguments: expression\n",
    "```"
   ]
  },
  {
   "cell_type": "markdown",
   "id": "5822b952",
   "metadata": {},
   "source": [
    "You use lambda;\n",
    "\n",
    "- When you need a short, throwaway function(not reuseable).\n",
    "\n",
    "- To avoid writing full def functions for small tasks.\n",
    "\n",
    "- Used with functions like map(), filter(), sorted(), and reduce()."
   ]
  },
  {
   "cell_type": "code",
   "execution_count": null,
   "id": "78f03d3a",
   "metadata": {},
   "outputs": [],
   "source": [
    "# Normal function\n",
    "def square(x):\n",
    "    return x ** 2\n",
    "\n",
    "# Lambda function\n",
    "square_lambda = lambda x: x ** 2\n",
    "\n",
    "print(square(5))         \n",
    "print(square_lambda(5))  \n",
    "\n",
    "# Watch the output and note the difference"
   ]
  },
  {
   "cell_type": "code",
   "execution_count": null,
   "id": "19620450",
   "metadata": {},
   "outputs": [],
   "source": [
    "# This one has more that one arguments.\n",
    "\n",
    "add = lambda a, b: a + b\n",
    "print(add(3, 7))  # Output: 10"
   ]
  },
  {
   "cell_type": "code",
   "execution_count": null,
   "id": "e6dc002c",
   "metadata": {},
   "outputs": [],
   "source": [
    "# Let us lambda to apply the square function to a list\n",
    "\n",
    "numbers = [1, 2, 3, 4]\n",
    "squares = list(map(lambda x: x**2, numbers))\n",
    "print(squares)  # Output: [1, 4, 9, 16]\n"
   ]
  },
  {
   "cell_type": "code",
   "execution_count": null,
   "id": "1bb65ab5",
   "metadata": {},
   "outputs": [],
   "source": [
    "# Lets use lambda to filter even numbers \n",
    "\n",
    "numbers = [10, 15, 20, 25, 30]\n",
    "evens = list(filter(lambda x: x % 2 == 0, numbers))\n",
    "print(evens)  # Output: [10, 20, 30]\n"
   ]
  },
  {
   "cell_type": "code",
   "execution_count": null,
   "metadata": {},
   "outputs": [],
   "source": [
    "# Lets use lambda to sort the tuple within a list.\n",
    "\n",
    "students = [(\"Ayo\", 20), (\"Bola\", 18), (\"Chika\", 22)]\n",
    "# Sort by age\n",
    "sorted_students = sorted(students, key=lambda student: student[1])\n",
    "print(sorted_students)\n",
    "\n",
    "  \n",
    "# Output: [('Bola', 18), ('Ayo', 20), ('Chika', 22)]\n",
    "\n",
    "students_sorted_descending = sorted(students, key=lambda student: student[1], reverse=True)\n",
    "print(students_sorted_descending)\n",
    "\n",
    "# Output: [('Chika', 22), ('Ayo', 20), ('Bola', 18)]\n",
    "\n",
    "students_sorted_alphabetically = sorted(students, key=lambda student: student[0])\n",
    "print(students_sorted_alphabetically)\n",
    "\n",
    "# Output: [('Ayo', 20), ('Bola', 18), ('Chika', 22)]\n"
   ]
  }
 ],
 "metadata": {
  "kernelspec": {
   "display_name": "Python 3",
   "language": "python",
   "name": "python3"
  },
  "language_info": {
   "codemirror_mode": {
    "name": "ipython",
    "version": 3
   },
   "file_extension": ".py",
   "mimetype": "text/x-python",
   "name": "python",
   "nbconvert_exporter": "python",
   "pygments_lexer": "ipython3",
   "version": "3.10.11"
  }
 },
 "nbformat": 4,
 "nbformat_minor": 5
}
