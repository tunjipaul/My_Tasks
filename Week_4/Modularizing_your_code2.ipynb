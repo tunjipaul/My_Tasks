{
 "cells": [
  {
   "cell_type": "markdown",
   "id": "76817fe1",
   "metadata": {},
   "source": [
    "# **Modularizing Your Code 2**"
   ]
  },
  {
   "cell_type": "markdown",
   "id": "6f42b3c2",
   "metadata": {},
   "source": [
    "### **3. Python Modules**"
   ]
  },
  {
   "cell_type": "markdown",
   "id": "88704f27",
   "metadata": {},
   "source": [
    " - What a module is (a .py file that can be reused)\n",
    "\n",
    " - Importing built-in modules (math, random, datetime)\n",
    "\n",
    " - Writing your own module (creating my_module.py and importing it)\n",
    "\n",
    " - Aliasing modules (import numpy as np)"
   ]
  },
  {
   "cell_type": "code",
   "execution_count": null,
   "id": "67eaf8fc",
   "metadata": {},
   "outputs": [],
   "source": []
  },
  {
   "cell_type": "markdown",
   "id": "726666a3",
   "metadata": {},
   "source": [
    "**What is a Module?**\n",
    "\n",
    "- A module in Python is simply a file with .py extension that contains Python code (functions, variables, or classes) which can be reused in other programs.\n",
    "\n",
    "- Instead of writing the same code again and again, you can write it once in a module and then import it anywhere.\n",
    "\n",
    "\n",
    "- LEts think of a module as a toolbox. Each tool (function, variable, or class) can be taken out and used whenever needed, without rebuilding the tool from scratch."
   ]
  },
  {
   "cell_type": "markdown",
   "id": "034fae7f",
   "metadata": {},
   "source": [
    "**Importing Built-in Modules**"
   ]
  },
  {
   "cell_type": "markdown",
   "id": "0a1b238d",
   "metadata": {},
   "source": [
    "- Python already comes with many pre-built modules that you can use directly.\n",
    "- Some common examples are:\n",
    "\n",
    "- math -for mathematical operations\n",
    "\n",
    "- random - for generating random numbers\n",
    "\n",
    "- datetime - for working with dates and time.\n",
    "- etc.\n",
    "\n",
    "- To use built in modules, you have to load them into your environment, that is, `import` them."
   ]
  },
  {
   "cell_type": "markdown",
   "id": "0101534e",
   "metadata": {},
   "source": [
    "**Different Ways to Import Modules**"
   ]
  },
  {
   "cell_type": "code",
   "execution_count": null,
   "id": "72d46b31",
   "metadata": {},
   "outputs": [
    {
     "ename": "TypeError",
     "evalue": "math.sqrt() takes exactly one argument (0 given)",
     "output_type": "error",
     "traceback": [
      "\u001b[1;31m---------------------------------------------------------------------------\u001b[0m",
      "\u001b[1;31mTypeError\u001b[0m                                 Traceback (most recent call last)",
      "Cell \u001b[1;32mIn[4], line 8\u001b[0m\n\u001b[0;32m      3\u001b[0m \u001b[38;5;28;01mimport\u001b[39;00m\u001b[38;5;250m \u001b[39m\u001b[38;5;21;01mmath\u001b[39;00m\n\u001b[0;32m      6\u001b[0m \u001b[38;5;66;03m# Lets put it to use\u001b[39;00m\n\u001b[1;32m----> 8\u001b[0m \u001b[38;5;28mprint\u001b[39m(\u001b[43mmath\u001b[49m\u001b[38;5;241;43m.\u001b[39;49m\u001b[43msqrt\u001b[49m\u001b[43m(\u001b[49m\u001b[43m)\u001b[49m)\n\u001b[0;32m      9\u001b[0m \u001b[38;5;66;03m# - Note that you must specify the module name when calling a function within it.\u001b[39;00m\n",
      "\u001b[1;31mTypeError\u001b[0m: math.sqrt() takes exactly one argument (0 given)"
     ]
    }
   ],
   "source": [
    "#1. Import the whole module\n",
    "\n",
    "import math\n",
    "\n",
    "\n",
    "# Lets put it to use\n",
    "\n",
    "print(math.sqrt(9))\n",
    "# - Note that you must specify the module name when calling a function within it."
   ]
  },
  {
   "cell_type": "code",
   "execution_count": null,
   "id": "3b9fb8af",
   "metadata": {},
   "outputs": [],
   "source": [
    "# 1. import as an alias\n",
    "\n",
    "import math as m\n",
    "\n",
    "# lets put it to use\n",
    "\n",
    "print(m.sqrt(25))\n",
    "\n",
    "# - This shortens the module name, this is common with libraries like numpy, pandas, etc"
   ]
  },
  {
   "cell_type": "code",
   "execution_count": null,
   "id": "4e2a8bff",
   "metadata": {},
   "outputs": [],
   "source": [
    "# 3. Import specific functions or variables\n",
    "\n",
    "from math import sqrt, pie\n",
    "\n",
    "print(sqrt(36))\n",
    "print(pie)\n",
    "\n",
    "# - here you dont need the prefix 'math.' anymore"
   ]
  },
  {
   "cell_type": "code",
   "execution_count": null,
   "id": "0290a21d",
   "metadata": {},
   "outputs": [],
   "source": [
    "# 4. Import everything from the module\n",
    "\n",
    "from math import *\n",
    "\n",
    "print(sqrt(49))\n",
    "print(pi)\n",
    "\n",
    "# - This is usually not recommended because it can cause name conflits if two modules have functions with the same name"
   ]
  },
  {
   "cell_type": "markdown",
   "id": "c4d1c12f",
   "metadata": {},
   "source": [
    "**Writing Your Own Module**\n",
    "\n",
    "- step1: Create a folder. Name it my_module\n",
    "\n",
    "- step2: Create a file inside the folder. Name it first.py\n",
    "\n",
    "- step3: Create another file inside the same folder. Name it second.py\n",
    "\n",
    "- Step4: Create another file still inside the same folder. Name it main.py"
   ]
  },
  {
   "cell_type": "markdown",
   "id": "c5973c2c",
   "metadata": {},
   "source": [
    "- here is the folder structure\n",
    "```\n",
    "project_folder/\n",
    "│\n",
    "├── my_module/\n",
    "│   ├── first.py\n",
    "│   ├── second.py\n",
    "│   └── main.py\n",
    "\n",
    "```\n",
    "- Note that anyone with forward slash is a folder while the ones with extensions are the files."
   ]
  },
  {
   "cell_type": "code",
   "execution_count": null,
   "id": "2958c64e",
   "metadata": {},
   "outputs": [],
   "source": [
    "# my_module/first.py\n",
    "\n",
    "def add(a, b):\n",
    "    return a + b\n",
    "\n",
    "\n",
    "def subtract(a, b):\n",
    "    return a - b\n",
    "\n",
    "\n",
    "def multiply(a, b):\n",
    "    return a * b\n",
    "\n",
    "\n",
    "def divide(a, b):\n",
    "    if b != 0:\n",
    "        return a / b\n",
    "    else:\n",
    "        return \"Cannot divide by zero\"\n",
    "    "
   ]
  },
  {
   "cell_type": "code",
   "execution_count": null,
   "id": "ac620b60",
   "metadata": {},
   "outputs": [],
   "source": [
    "# my_module/second.py\n",
    "\n",
    "def greet(name):\n",
    "    return f\"Hello, {name}! I am creating my own module\"\n",
    "\n",
    "\n",
    "def reverse_string(string):\n",
    "    return string[::-1]\n",
    "\n",
    "\n",
    "def count_characters(string):\n",
    "    return len(string)\n",
    "\n",
    "\n",
    "def count_words(string):\n",
    "    return len(string.split())\n"
   ]
  },
  {
   "cell_type": "code",
   "execution_count": null,
   "id": "01479e79",
   "metadata": {},
   "outputs": [],
   "source": [
    "# my_module/main.py\n",
    "\n",
    "import first\n",
    "import second\n",
    "\n",
    "# lets use the functions in the first.py file\n",
    "\n",
    "\n",
    "print(\"=== Math Functions ===\")\n",
    "print(\"5 + 3 =\", first.add(5, 3))\n",
    "print(\"10 - 4 =\", first.subtract(10, 4))\n",
    "print(\"6 * 7 =\", first.multiply(6, 7))\n",
    "print(\"20 / 5 =\", first.divide(20, 5))\n",
    "\n",
    "# Lets us the functions in the second.py file\n",
    "print(\"\\n=== String Functions ===\")\n",
    "print(second.greet(\"Ridwan\"))\n",
    "print(\"Reverse of 'Python' =\", second.reverse_string(\"Python\"))\n",
    "print(\"Character count in sentence =\", second.count_characters(\"Python modules are powerful\"))\n",
    "print(\"Word count in sentence =\", second.count_words(\"Python modules are powerful\"))\n"
   ]
  },
  {
   "cell_type": "markdown",
   "id": "17513afc",
   "metadata": {},
   "source": [
    "### **4. Python Packages**"
   ]
  },
  {
   "cell_type": "markdown",
   "id": "fdb91e14",
   "metadata": {},
   "source": [
    "\n",
    "- What a package is (a folder with __init__.py)\n",
    "\n",
    "- Installing and using third-party packages (pip install requests, import requests)\n",
    "\n",
    "- Organizing multiple modules into a package"
   ]
  },
  {
   "cell_type": "markdown",
   "id": "61442008",
   "metadata": {},
   "source": [
    "**What is a Package?**\n",
    "\n",
    "- A package in Python is a way to organize related modules together into a folder.\n",
    "\n",
    "- Inside this folder, there must be a special file called `__init__.py` (can be empty). This file tells Python that the folder should be treated as a package.\n",
    "\n",
    "- uhmm, let think of a package as a standard mechanic workshop, and each module is a different toolbox inside the workshop. The __init__.py file is like the label on the workshop telling passerbys that this is a mechanic workshop.\n",
    "\n",
    "*Do you understand?*"
   ]
  },
  {
   "cell_type": "markdown",
   "id": "2b26f68a",
   "metadata": {},
   "source": [
    "**Third-Party Packages**\n",
    "\n",
    "- Python comes with some built-in modules, but you can also install extra packages created by others.\n",
    "\n",
    "These packages are stored in the Python Package Index (PyPI).\n",
    "\n",
    "We install them using pip (Python’s package manager) or conda a\n"
   ]
  },
  {
   "cell_type": "markdown",
   "id": "6cc5506a",
   "metadata": {},
   "source": [
    "**How to Install Python Packages**"
   ]
  },
  {
   "cell_type": "markdown",
   "id": "4451821c",
   "metadata": {},
   "source": [
    "**1. Using `pip`**\n",
    "- This is te most common method.\n",
    "- It installs packages from PyPI. It is the Python's central package repository."
   ]
  },
  {
   "cell_type": "markdown",
   "id": "69c1983e",
   "metadata": {},
   "source": [
    "- To work with it, you ave to use it in your terminal\n",
    "\n",
    "```\n",
    "pip install requests                # Install latest version\n",
    "\n",
    "pip install requests==2.28         # Install specific version\n",
    "\n",
    "pip install --upgrade requests     # Upgrade existing package\n",
    "\n",
    "pip uninstall requests             # Remove package\n",
    "```"
   ]
  },
  {
   "cell_type": "markdown",
   "id": "e02c4f9e",
   "metadata": {},
   "source": [
    "**2. Using `uv`**\n",
    "\n",
    "- Thisi is the modern, super-fast package and project manager\n",
    "- IT is a RUST-based that unifies package installation, virtual environment and pyton version management into one fast, modern CLI.\n",
    "\n",
    "- To use uv\n",
    "\n",
    "```\n",
    "# Run this command on your terminal depending on your OS\n",
    "\n",
    "# Recommended method: standalone installer\n",
    " # macOS/Linux\n",
    "\n",
    "curl -LsSf https://astral.sh/uv/install.sh | sh\n",
    "\n",
    "# or\n",
    "\n",
    "# Windows\n",
    "\n",
    "powershell -ExecutionPolicy ByPass -c \"irm https://astral.sh/uv/install.ps1 | iex\"  \n",
    "```\n",
    "\n",
    "- After installation, verify version.\n",
    "\n",
    "```\n",
    "uv --version\n",
    "```\n",
    "\n",
    "- Using uv to install packages\n",
    "- But before it works you must have a workin `virtual environment` \n",
    "\n",
    "```\n",
    "uv add requests              # Install package and update project files\n",
    "\n",
    "uv pip install flask         # Works like pip but much faster\n",
    "\n",
    "uv remove requests           # Uninstall\n",
    "\n",
    "uv venv                      # Create a virtual environment automatically\n",
    "\n",
    "uv run script.py             # Run scripts in the managed environment\n",
    "\n",
    "```"
   ]
  },
  {
   "cell_type": "markdown",
   "id": "d6a4b9b6",
   "metadata": {},
   "source": [
    "- Other package managers that you should try exploring\n",
    "\n",
    "| Method                            | Description                     | Best For                                 |\n",
    "| --------------------------------- | ------------------------------- | ---------------------------------------- |\n",
    "| `pip install ...`                 | Standard installation from PyPI | Most common and simple use case          |\n",
    "| `pip install -r requirements.txt` | Batch install from file         | Reproducible projects                    |\n",
    "| Virtualenv + `pip`                | Isolated environments           | Independent project setups               |\n",
    "| `conda install ...`               | Data science ecosystem          | Scientific and system-level dependencies |\n",
    "| Clone + `pip install .`           | Custom or non-PyPI packages     | Local development and experiments        |\n",
    "| `.whl install`                    | Prebuilt package install        | Faster installations                     |\n",
    "| `pip install -e .`                | Editable (development) install  | Active package development               |\n",
    "| `uv ...`                          | All-in-one modern manager       | Speed, simplicity, and full workflow     |\n"
   ]
  },
  {
   "cell_type": "markdown",
   "id": "0a8031c7",
   "metadata": {},
   "source": [
    "#### **Creating a virtual Environment**"
   ]
  },
  {
   "cell_type": "markdown",
   "id": "8907161c",
   "metadata": {},
   "source": [
    "- What is a Virtual Environment?\n",
    "- A virtual environment (venv) is an isolated workspace where you can install and manage Python packages without affecting the global/system Python installation.\n",
    "\n",
    "- Each project can have its own dependencies, even if they conflict with other projects.\n",
    "\n",
    "- Why should you form the habit of always creating a Venv before starting a project?\n",
    "\n",
    " - It keeps project dependencies separate.\n",
    " - It prevents version conflicts.\n",
    " - It makes collaboration easier (everyone uses the same environment).\n",
    " - It is required in many production setups."
   ]
  },
  {
   "cell_type": "markdown",
   "id": "33b98e8b",
   "metadata": {},
   "source": [
    "**How to create a Virtual Environment**\n",
    "\n",
    "```\n",
    "# Create a virtual environment\n",
    "python -m venv virtual_environment_name\n",
    "\n",
    "\n",
    "# This will create a folder inside your working folder with the name \"virtual_environment_name\"\n",
    "```\n",
    "\n",
    "- To use it, you have to activate it.\n",
    "\n",
    "```\n",
    "# 1. Click on the folder\n",
    "\n",
    "# 2. Look for Script and open it.\n",
    "\n",
    "# 3. Look for 'activate'\n",
    "\n",
    "#4.  Right click on it and look for copy relative path\n",
    "\n",
    "#5. Click on it.\n",
    "\n",
    "#6.  Finally to your terminal and select Command prompt then paste the path you copied.\n",
    "```\n",
    "\n",
    "\n",
    "- Altenatively, you can use this script.\n",
    "\n",
    "```\n",
    "virtual_environment_name\\Scripts\\activate  # For windows\n",
    "\n",
    " source virtual_environment_name/bin/activate # linux or macOS\n",
    "```\n",
    "\n",
    "**Deactivating a virtual Environment**\n",
    "\n",
    "```\n",
    "deactivate\n",
    "```\n",
    "\n",
    "**Saving and Sharing Requirements**\n",
    "\n",
    "\n",
    "```\n",
    "\n",
    "# To freeze the installed packages into a file\n",
    "pip freeze > requirements.txt\n",
    "\n",
    "\n",
    "# To install them later\n",
    "\n",
    "pip install -r requirements.txt\n",
    "```"
   ]
  },
  {
   "cell_type": "markdown",
   "id": "a66b17c4",
   "metadata": {},
   "source": []
  },
  {
   "cell_type": "markdown",
   "id": "7563a335",
   "metadata": {},
   "source": [
    "##### **Creating Your Package**"
   ]
  },
  {
   "cell_type": "markdown",
   "id": "39f60ed7",
   "metadata": {},
   "source": [
    "```\n",
    "my_project/\n",
    "│\n",
    "├── my_package/              # Package folder\n",
    "│   ├── __init__.py          # Makes this folder a package\n",
    "│   ├── math_utils.py        # Module 1\n",
    "│   ├── string_utils.py      # Module 2\n",
    "│\n",
    "└── main.py                  # Script that uses the package\n",
    "\n",
    "```"
   ]
  },
  {
   "cell_type": "markdown",
   "id": "3b876ca4",
   "metadata": {},
   "source": [
    "**1.__init__.py **\n",
    "\n",
    "- This is a special file tells python that my_package is a package. It can be empty or used to initialize the package."
   ]
  },
  {
   "cell_type": "code",
   "execution_count": null,
   "id": "2ac441c3",
   "metadata": {},
   "outputs": [],
   "source": [
    "# __init__.py\n",
    "print(\"my_package is being imported\")\n",
    "\n",
    "# Optional: import functions directly for easier access\n",
    "from .math_utils import add, subtract\n",
    "from .string_utils import capitalize_text"
   ]
  },
  {
   "cell_type": "markdown",
   "id": "d24d4e74",
   "metadata": {},
   "source": [
    "**2. math_utils.py**\n",
    "\n",
    "- Module for math operations"
   ]
  },
  {
   "cell_type": "code",
   "execution_count": null,
   "id": "5fbad262",
   "metadata": {},
   "outputs": [],
   "source": [
    "# math_utils.py\n",
    "\n",
    "def add(a, b):\n",
    "    return a + b\n",
    "\n",
    "def subtract(a, b):\n",
    "    return a - b\n"
   ]
  },
  {
   "cell_type": "markdown",
   "id": "ac1c5780",
   "metadata": {},
   "source": [
    "**3. String_utils.py**\n",
    "- Module for string operations."
   ]
  },
  {
   "cell_type": "code",
   "execution_count": null,
   "id": "a1fd33f1",
   "metadata": {},
   "outputs": [],
   "source": [
    "# string_utils.py\n",
    "\n",
    "def capitalize_text(text):\n",
    "    return text.capitalize()\n",
    "\n",
    "def reverse_text(text):\n",
    "    return text[::-1]"
   ]
  },
  {
   "cell_type": "markdown",
   "id": "bfa187c8",
   "metadata": {},
   "source": [
    "**4. main.py**\n",
    "- Using the package."
   ]
  },
  {
   "cell_type": "code",
   "execution_count": null,
   "id": "b6343021",
   "metadata": {},
   "outputs": [],
   "source": [
    "# main.py\n",
    "\n",
    "# Import the whole package\n",
    "import my_package\n",
    "\n",
    "print(my_package.add(5, 3))           # 8\n",
    "print(my_package.subtract(10, 4))     # 6\n",
    "print(my_package.capitalize_text(\"python\"))  # Python\n",
    "\n",
    "# OR import specific modules\n",
    "from my_package import string_utils\n",
    "\n",
    "print(string_utils.reverse_text(\"hello\"))  # olleh"
   ]
  },
  {
   "cell_type": "markdown",
   "id": "b75807e0",
   "metadata": {},
   "source": [
    "### **5. Code Reusability**"
   ]
  },
  {
   "cell_type": "markdown",
   "id": "25fe6243",
   "metadata": {},
   "source": [
    "**What is Code Reusability?**\n",
    "\n",
    "- Code reusability means writing code once and using it multiple times instead of rewriting it.\n",
    "\n",
    "- It helps make programs cleaner, faster to develop, and easier to maintain.\n",
    "\n",
    "- In Python, code reusability is achieved using;\n",
    "\n",
    "    - Functions (reusing blocks of code)\n",
    "\n",
    "    - Modules (saving functions in .py files to import later)\n",
    "\n",
    "    - Packages (organizing modules in folders)\n",
    "\n",
    "    - Classes & Objects (OOP makes reusable blueprints)\n",
    "\n",
    "    - Libraries (built-in or third-party)"
   ]
  },
  {
   "cell_type": "markdown",
   "id": "b3e808d2",
   "metadata": {},
   "source": [
    "\n",
    "\n",
    "🔹 Why Reuse Code?\n",
    "\n",
    "    - Saves time – no need to rewrite the same logic.\n",
    "\n",
    "    - Avoids duplication – reduces errors from copy and paste.\n",
    "\n",
    "    - Improves readability – your code is modular and organized.\n",
    "\n",
    "    - Easy to maintain – update once, reuse everywhere."
   ]
  },
  {
   "cell_type": "markdown",
   "id": "ce90dbbe",
   "metadata": {},
   "source": [
    "### **6. Organizing a Python Project**"
   ]
  },
  {
   "cell_type": "markdown",
   "id": "ee48af1f",
   "metadata": {},
   "source": [
    "- A modular project is a way of organizing your code into separate files and folders, each responsible for a specific task.\n",
    "\n",
    "- This makes the project easier to read, test, and maintain."
   ]
  },
  {
   "cell_type": "markdown",
   "id": "dd8b7e2a",
   "metadata": {},
   "source": [
    "**Why Use Modular Structure?**\n",
    "\n",
    "- Separates concerns – Each file has one responsibility.\n",
    "\n",
    "- Easier to debug – You can fix issues in one place without breaking others.\n",
    "\n",
    "- Reusability – Functions/modules can be reused in other projects.\n",
    "\n",
    "- Collaboration-friendly – Multiple developers can work on different parts."
   ]
  },
  {
   "cell_type": "markdown",
   "id": "fee55385",
   "metadata": {},
   "source": [
    "**Folder & File Structure**\n",
    "\n",
    "- Let’s say we want to build a Student Records Project.\n",
    "- We will first structure our folder and files like this.\n",
    "\n",
    "```\n",
    "student_project/\n",
    "│\n",
    "├── data.py        # Handles storing and retrieving student data\n",
    "├── utils.py       # Contains helper functions (e.g., calculations, formatting)\n",
    "├── main.py        # Entry point to run the project\n",
    "\n",
    "```\n"
   ]
  },
  {
   "cell_type": "code",
   "execution_count": null,
   "id": "1a5aac56",
   "metadata": {},
   "outputs": [],
   "source": [
    "# data.py\n",
    "\n",
    "students = []\n",
    "\n",
    "def add_student(name, track):\n",
    "    students.append({\"name\": name, \"track\": track})\n",
    "\n",
    "def get_students():\n",
    "    return students\n"
   ]
  },
  {
   "cell_type": "code",
   "execution_count": null,
   "id": "4318411d",
   "metadata": {},
   "outputs": [],
   "source": [
    "# utils.py\n",
    "\n",
    "def format_student(student):\n",
    "    return f\"{student['name']} is learning {student['track']} at NCC Digital Industrial Park, Abeokuta.\"\n"
   ]
  },
  {
   "cell_type": "code",
   "execution_count": null,
   "id": "2ce4f8b5",
   "metadata": {},
   "outputs": [],
   "source": [
    "# main.py → Project entry point\n",
    "\n",
    "# main.py\n",
    "\n",
    "import data\n",
    "import utils\n",
    "\n",
    "# Add some students\n",
    "data.add_student(\"Paul\", \"AI Engineering\")\n",
    "data.add_student(\"Blessing\", \"AI Development\")\n",
    "\n",
    "# Print formatted student records\n",
    "for s in data.get_students():\n",
    "    print(utils.format_student(s))"
   ]
  },
  {
   "cell_type": "markdown",
   "id": "7c4ab9eb",
   "metadata": {},
   "source": [
    "**Let's Try A Bigger Project Structure**\n",
    "- As the project grow, we can organize into folders."
   ]
  },
  {
   "cell_type": "markdown",
   "id": "641f2b64",
   "metadata": {},
   "source": [
    "```\n",
    "student_project/\n",
    "│\n",
    "├── data/                 # Data-related files\n",
    "│   ├── __init__.py\n",
    "│   └── data.py\n",
    "│\n",
    "├── utils/                # Helper functions\n",
    "│   ├── __init__.py\n",
    "│   └── utils.py\n",
    "│\n",
    "├── main.py               # Entry point\n",
    "└── requirements.txt      # List of dependencies (if any)\n",
    "\n",
    "```"
   ]
  },
  {
   "cell_type": "markdown",
   "id": "50cf2778",
   "metadata": {},
   "source": []
  },
  {
   "cell_type": "markdown",
   "id": "c76e7a1d",
   "metadata": {},
   "source": [
    "**Lets work on Library Management System**\n",
    "\n",
    "- The goal of this project is to\n",
    " - Manage books in a library\n",
    " - Add books, list books, and borrow books.\n",
    " - Organized into folders and files for modularity."
   ]
  },
  {
   "cell_type": "markdown",
   "id": "b9385ff3",
   "metadata": {},
   "source": [
    "**Lets structure the folder and possible files**\n",
    "\n",
    "```\n",
    "\n",
    "library_project/\n",
    "│\n",
    "├── data/                   # Handles storage & retrieval\n",
    "│   ├── __init__.py\n",
    "│   └── data.py\n",
    "│\n",
    "├── utils/                  # Helper functions\n",
    "│   ├── __init__.py\n",
    "│   └── helpers.py\n",
    "│\n",
    "├── services/               # Core business logic\n",
    "│   ├── __init__.py\n",
    "│   └── library.py\n",
    "│\n",
    "├── main.py                 # Entry point of the program\n",
    "└── requirements.txt        # (optional) external dependencies\n",
    "```"
   ]
  },
  {
   "cell_type": "markdown",
   "id": "fe360a24",
   "metadata": {},
   "source": [
    "**Lets implement the project**"
   ]
  },
  {
   "cell_type": "code",
   "execution_count": null,
   "id": "068ec88b",
   "metadata": {},
   "outputs": [],
   "source": [
    "# data/data.py - This will handle data storage\n",
    "\n",
    "books = []\n",
    "\n",
    "def add_book(title, author):\n",
    "    books.append({\"title\": title, \"author\": author, \"available\": True})\n",
    "\n",
    "def get_books():\n",
    "    return books\n"
   ]
  },
  {
   "cell_type": "code",
   "execution_count": null,
   "id": "bdae4713",
   "metadata": {},
   "outputs": [],
   "source": [
    "# utils/helpers.py - This will handle helper functions\n",
    "\n",
    "def format_book(book):\n",
    "    status = \"Available\" if book[\"available\"] else \"Borrowed\"\n",
    "    return f\"{book['title']} by {book['author']} - {status}\"\n"
   ]
  },
  {
   "cell_type": "code",
   "execution_count": null,
   "id": "13a0e7cb",
   "metadata": {},
   "outputs": [],
   "source": [
    "# services/library.py  - This will handle business logic\n",
    "\n",
    "import data.data as data\n",
    "\n",
    "def borrow_book(title):\n",
    "    for book in data.get_books():\n",
    "        if book[\"title\"].lower() == title.lower() and book[\"available\"]:\n",
    "            book[\"available\"] = False\n",
    "            return f\"You have borrowed '{book['title']}'\"\n",
    "    return \"Book not available.\""
   ]
  },
  {
   "cell_type": "code",
   "execution_count": null,
   "id": "e9a6eadc",
   "metadata": {},
   "outputs": [],
   "source": [
    "# main.py - This will be our project entry point\n",
    "\n",
    "\n",
    "from data import data\n",
    "from utils import helpers\n",
    "from services import library\n",
    "\n",
    "# Add some books\n",
    "data.add_book(\"Python Basics\", \"John Doe\")\n",
    "data.add_book(\"Advanced Python\", \"Jane Smith\")\n",
    "\n",
    "# Display all books\n",
    "print(\"Library Collection:\")\n",
    "for b in data.get_books():\n",
    "    print(helpers.format_book(b))\n",
    "\n",
    "# Borrow a book\n",
    "print(\"\\nBorrowing a book:\")\n",
    "print(library.borrow_book(\"Python Basics\"))\n",
    "\n",
    "# Display books again\n",
    "print(\"\\nUpdated Library Collection:\")\n",
    "for b in data.get_books():\n",
    "    print(helpers.format_book(b))\n"
   ]
  },
  {
   "cell_type": "markdown",
   "id": "40e29220",
   "metadata": {},
   "source": [
    "# LEts make the scope of the implementation broader and interactive**"
   ]
  },
  {
   "cell_type": "markdown",
   "id": "a72ccb76",
   "metadata": {},
   "source": [
    "- Lets have our project structure\n",
    "\n",
    "```\n",
    "library_project/\n",
    "│\n",
    "├── data/\n",
    "│   └── data.py\n",
    "│\n",
    "├── utils/\n",
    "│   └── helpers.py\n",
    "│\n",
    "├── services/\n",
    "│   └── library.py\n",
    "│\n",
    "└── main.py\n",
    "```"
   ]
  },
  {
   "cell_type": "markdown",
   "id": "b1886c49",
   "metadata": {},
   "source": [
    "- LEts implement it"
   ]
  },
  {
   "cell_type": "code",
   "execution_count": null,
   "id": "b5137751",
   "metadata": {},
   "outputs": [],
   "source": [
    "# data/data.py - This will handle data storage in json format\n",
    "\n",
    "import json\n",
    "import os\n",
    "\n",
    "FILE_PATH = \"library_data.json\"\n",
    "books = []\n",
    "\n",
    "def load_books():\n",
    "    \"\"\"Load books from JSON file if it exists\"\"\"\n",
    "    global books\n",
    "    if os.path.exists(FILE_PATH):\n",
    "        with open(FILE_PATH, \"r\") as f:\n",
    "            books = json.load(f)\n",
    "    else:\n",
    "        books = []\n",
    "\n",
    "def save_books():\n",
    "    \"\"\"Save current books list to JSON file\"\"\"\n",
    "    with open(FILE_PATH, \"w\") as f:\n",
    "        json.dump(books, f, indent=4)\n",
    "\n",
    "def add_book(title, author):\n",
    "    books.append({\"title\": title, \"author\": author, \"available\": True})\n",
    "    save_books()\n",
    "\n",
    "def get_books():\n",
    "    return books\n"
   ]
  },
  {
   "cell_type": "code",
   "execution_count": null,
   "id": "8d276a54",
   "metadata": {},
   "outputs": [],
   "source": [
    "# utils/helpers.py - This will handle helper functions\n",
    "\n",
    "def format_book(book, index):\n",
    "    status = \"Available\" if book[\"available\"] else \"Borrowed\"\n",
    "    return f\"{index}. {book['title']} by {book['author']} - {status}\"\n"
   ]
  },
  {
   "cell_type": "code",
   "execution_count": null,
   "id": "a8d9d11a",
   "metadata": {},
   "outputs": [],
   "source": [
    "# services/library.py - This will update to save after borrow/return\n",
    "import data.data as data\n",
    "\n",
    "def borrow_book(title):\n",
    "    for book in data.get_books():\n",
    "        if book[\"title\"].lower() == title.lower() and book[\"available\"]:\n",
    "            book[\"available\"] = False\n",
    "            data.save_books()\n",
    "            return f\"You have borrowed '{book['title']}'\"\n",
    "    return \"Book not available.\"\n",
    "\n",
    "def return_book(title):\n",
    "    for book in data.get_books():\n",
    "        if book[\"title\"].lower() == title.lower() and not book[\"available\"]:\n",
    "            book[\"available\"] = True\n",
    "            data.save_books()\n",
    "            return f\"You have returned '{book['title']}'\"\n",
    "    return \"Book not found or not borrowed.\"\n"
   ]
  },
  {
   "cell_type": "code",
   "execution_count": null,
   "id": "dd9a2855",
   "metadata": {},
   "outputs": [],
   "source": [
    "# main.py - This intitialize by loading books at start up\n",
    "from data import data\n",
    "from utils import helpers\n",
    "from services import library\n",
    "\n",
    "def show_books():\n",
    "    books = data.get_books()\n",
    "    if not books:\n",
    "        print(\"No books in the library yet.\")\n",
    "        return\n",
    "    for i, b in enumerate(books, start=1):\n",
    "        print(helpers.format_book(b, i))\n",
    "\n",
    "def main():\n",
    "    data.load_books()  # Load books when app starts\n",
    "    \n",
    "    while True:\n",
    "        print(\"\\n__Library Menu__\")\n",
    "        print(\"1. Add Book\")\n",
    "        print(\"2. List Books\")\n",
    "        print(\"3. Borrow Book\")\n",
    "        print(\"4. Return Book\")\n",
    "        print(\"5. Exit\")\n",
    "\n",
    "        choice = input(\"Enter your choice (1-5): \")\n",
    "\n",
    "        if choice == \"1\":\n",
    "            title = input(\"Enter book title: \")\n",
    "            author = input(\"Enter book author: \")\n",
    "            data.add_book(title, author)\n",
    "            print(f\"'{title}' by {author} added to library.\")\n",
    "\n",
    "        elif choice == \"2\":\n",
    "            print(\"\\nLibrary Collection:\")\n",
    "            show_books()\n",
    "\n",
    "        elif choice == \"3\":\n",
    "            title = input(\"Enter book title to borrow: \")\n",
    "            print(library.borrow_book(title))\n",
    "\n",
    "        elif choice == \"4\":\n",
    "            title = input(\"Enter book title to return: \")\n",
    "            print(library.return_book(title))\n",
    "\n",
    "        elif choice == \"5\":\n",
    "            print(\"Exiting... Goodbye!\")\n",
    "            break\n",
    "\n",
    "        else:\n",
    "            print(\"Invalid choice! Please select 1-5.\")\n",
    "\n",
    "if __name__ == \"__main__\":\n",
    "    main()\n"
   ]
  },
  {
   "cell_type": "markdown",
   "id": "b25d3903",
   "metadata": {},
   "source": [
    "\n"
   ]
  }
 ],
 "metadata": {
  "kernelspec": {
   "display_name": "Python 3",
   "language": "python",
   "name": "python3"
  },
  "language_info": {
   "codemirror_mode": {
    "name": "ipython",
    "version": 3
   },
   "file_extension": ".py",
   "mimetype": "text/x-python",
   "name": "python",
   "nbconvert_exporter": "python",
   "pygments_lexer": "ipython3",
   "version": "3.10.11"
  }
 },
 "nbformat": 4,
 "nbformat_minor": 5
}
