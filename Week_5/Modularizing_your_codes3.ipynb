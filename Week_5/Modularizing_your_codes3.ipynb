{
 "cells": [
  {
   "cell_type": "markdown",
   "id": "f31051bd",
   "metadata": {},
   "source": [
    "###  Modularizing Your Codes 3 (Object Oriented Programming)"
   ]
  },
  {
   "cell_type": "markdown",
   "id": "49c820f0",
   "metadata": {},
   "source": [
    "### Table of Contents"
   ]
  },
  {
   "cell_type": "markdown",
   "id": "4a4ca6c2",
   "metadata": {},
   "source": [
    "1. Introduction to Classes\n",
    "2. Why Classes are Important\n",
    "3. Basic Class Structure\n",
    "4. Objects and Instances\n",
    "5. The __init__ Method\n",
    "6. Understanding `self`\n",
    "7. Attributes\n",
    "8. Methods\n",
    "9. Other Important Methods\n",
    "10. Simple Examples\n",
    "11. Intermediate Examples\n",
    "12. Complex Examples\n",
    "13. Best Practices"
   ]
  },
  {
   "cell_type": "markdown",
   "id": "418a9c1b",
   "metadata": {},
   "source": [
    "**What is a Class?**\n",
    "\n",
    "A class is like a blueprint or template that defines what something should look like and what it can do. Think of it as a meat pie cutter - it defines the shape and characteristics, but it's not the actual meat pie itself.\n",
    "\n",
    "- Take a look at this;\n",
    "\n",
    " - A house blueprint shows where rooms go, but it's not a house you can live in.\n",
    " - A car design document describes features, but you can't drive the design.\n",
    " - A recipe tells you how to make a cake, but the recipe is not edible."
   ]
  },
  {
   "cell_type": "markdown",
   "id": "b95019e7",
   "metadata": {},
   "source": [
    "**Object/Instance**\n",
    "\n",
    "**What is an Object/Instance?**\n",
    "\n",
    "An object (also called an instance) is a specific, real item created from a class blueprint. It's the actual \"thing\" you can use and interact with.\n",
    "\n",
    "- Take a loop at this;\n",
    "  - Your actual house built from the blueprint.\n",
    "  - A specific Toyota Camry manufactured from car designs.\n",
    "  - The delicious cake baked from the recipe."
   ]
  },
  {
   "cell_type": "markdown",
   "id": "c37fc899",
   "metadata": {},
   "source": [
    "### Key Characteristics of Classes\n",
    "\n",
    "- Encapsulation: Groups related data and functions together\n",
    "- Abstraction: Hides complex implementation details\n",
    "- Inheritance: Can create new classes based on existing ones (Reusability -Write once, use many times)"
   ]
  },
  {
   "cell_type": "markdown",
   "id": "cf9b4ca6",
   "metadata": {},
   "source": [
    "### Why Classes are Important\n",
    "\n",
    "- Classes help us:\n",
    "\n",
    "   - Organize Code: Keep related data and functions together\n",
    "   - Model Real World: Represent real-world entities in code\n",
    "   - Reduce Repetition: Avoid writing the same code multiple times\n",
    "   - Maintain Code: Easier to update and fix bugs\n",
    "   - Scale Applications: Build larger, more complex programs"
   ]
  },
  {
   "cell_type": "markdown",
   "id": "f7329828",
   "metadata": {},
   "source": [
    "**The Foundation**"
   ]
  },
  {
   "cell_type": "markdown",
   "id": "a6916d50",
   "metadata": {},
   "source": [
    "-  `__init__` and `self`\n",
    "\n",
    "   - Before we dive into attributes and methods, we need to understand two special concepts that make everything work: __init__ and self."
   ]
  },
  {
   "cell_type": "markdown",
   "id": "97deaa11",
   "metadata": {},
   "source": [
    "**What is __init__?**"
   ]
  },
  {
   "cell_type": "markdown",
   "id": "51425100",
   "metadata": {},
   "source": [
    "`__init__` is a special method (called a constructor) that automatically runs when you create a new object. Think of it as the \"birth certificate\" process - it sets up all the basic information about the new object.\n",
    "\n"
   ]
  },
  {
   "cell_type": "markdown",
   "id": "d7d92ed6",
   "metadata": {},
   "source": [
    "**Real-World Analogy**\n",
    "\n",
    "- When a baby is born in Nigeria, certain things happen automatically:\n",
    "\n",
    "   - Birth certificate is created\n",
    "   - Name is assigned\n",
    "   - Parents are recorded\n",
    "-  - Date of birth is noted\n",
    "\n",
    "- Similarly, when an object is \"born\" (created), `__init__` automatically:\n",
    "\n",
    "   - Sets up the object's attributes\n",
    "   - Assigns initial values\n",
    "   - Prepares the object for use"
   ]
  },
  {
   "cell_type": "code",
   "execution_count": null,
   "id": "d74712e5",
   "metadata": {},
   "outputs": [
    {
     "ename": "",
     "evalue": "",
     "output_type": "error",
     "traceback": [
      "\u001b[1;31mRunning cells with 'python310 (Python 3.10.15)' requires the ipykernel package.\n",
      "\u001b[1;31m<a href='command:jupyter.createPythonEnvAndSelectController'>Create a Python Environment</a> with the required packages.\n",
      "\u001b[1;31mOr install 'ipykernel' using the command: 'conda install -n python310 ipykernel --update-deps --force-reinstall'"
     ]
    }
   ],
   "source": [
    "class Student:\n",
    "    def __init__(self, name, course, level):  # This runs automatically\n",
    "        print(\"Creating a new student...\")\n",
    "        self.name = name\n",
    "        self.course = course\n",
    "        self.level = level\n",
    "        print(f\"Student {name} has been created!\")"
   ]
  },
  {
   "cell_type": "code",
   "execution_count": null,
   "id": "67ab2802",
   "metadata": {},
   "outputs": [],
   "source": [
    "# When you create a student, __init__ runs automatically\n",
    "kemi = Student(\"Kemi Adebayo\", \"Computer Science\", 300)"
   ]
  },
  {
   "cell_type": "markdown",
   "id": "a4342e21",
   "metadata": {},
   "source": [
    "**What is self ?**\n",
    "`self` is a reference to the specific object you're working with. It's like saying \"this particular student\" or \"this specific bank account.\"\n",
    "\n",
    "**Real-World Analogy**\n",
    "- In a classroom with many students:\n",
    " \n",
    "   - When the teacher says \"Kemi, what is your course?\" - \"your\" refers to Kemi specifically\n",
    "   - When the teacher says \"Chinedu, what is your level?\" - \"your\" refers to Chinedu specifically\n",
    "\n",
    "- In programming:\n",
    "\n",
    "   - self.name means \"this specific object's name\"\n",
    "   - self.course means \"this specific object's course\""
   ]
  },
  {
   "cell_type": "markdown",
   "id": "e2b73f50",
   "metadata": {},
   "source": [
    "**Visual Illustration**\n",
    "```\n",
    "Class: Student (The Template)\n",
    "├── def __init__(self, name, course):\n",
    "│   ├── self.name = name      ← \"Give THIS object a name\"\n",
    "│   └── self.course = course  ← \"Give THIS object a course\"\n",
    "\n",
    "Creating Objects:\n",
    "├── kemi = Student(\"Kemi\", \"CS\")\n",
    "│   └── self refers to kemi → kemi.name = \"Kemi\"\n",
    "├── chinedu = Student(\"Chinedu\", \"Engineering\") \n",
    "│   └── self refers to chinedu → chinedu.name = \"Chinedu\"\n",
    "└── fatima = Student(\"Fatima\", \"Medicine\")\n",
    "    └── self refers to fatima → fatima.name = \"Fatima\"\n",
    "\n",
    "```"
   ]
  },
  {
   "cell_type": "markdown",
   "id": "8b7bd54b",
   "metadata": {},
   "source": [
    "**How __init__ and self Work Together**"
   ]
  },
  {
   "cell_type": "code",
   "execution_count": null,
   "id": "f697d70f",
   "metadata": {},
   "outputs": [],
   "source": [
    "class NigerianStudent:\n",
    "    def __init__(self, name, state, course):\n",
    "        print(f\"Step 1: Creating student object...\")\n",
    "        self.name = name           # Step 2: Assign name to THIS object\n",
    "        self.state_of_origin = state    # Step 3: Assign state to THIS object\n",
    "        self.course = course       # Step 4: Assign course to THIS object\n",
    "        self.student_id = self.generate_id()  # Step 5: Generate ID for THIS object\n",
    "        print(f\"Step 6: {self.name} from {self.state_of_origin} is ready!\")\n",
    "    \n",
    "    def generate_id(self):\n",
    "        import random\n",
    "        return f\"UNISAIL{random.randint(1000, 9999)}\"\n"
   ]
  },
  {
   "cell_type": "code",
   "execution_count": null,
   "id": "d659079a",
   "metadata": {},
   "outputs": [],
   "source": [
    "\n",
    "# When you create an object, here's what happens:\n",
    "ayo = NigerianStudent(\"Ayo Daniel\", \"Lagos\", \"Street Statistics\")"
   ]
  },
  {
   "cell_type": "code",
   "execution_count": null,
   "id": "e5793fa5",
   "metadata": {},
   "outputs": [],
   "source": [
    "print(ayo.name)        \n",
    "print(ayo.student_id)  "
   ]
  },
  {
   "cell_type": "markdown",
   "id": "1c39d3f5",
   "metadata": {},
   "source": [
    "_more exaple_"
   ]
  },
  {
   "cell_type": "code",
   "execution_count": null,
   "id": "28394c5c",
   "metadata": {},
   "outputs": [],
   "source": [
    "class PhoneUser:\n",
    "    def __init__(self, name, network):\n",
    "        self.name = name\n",
    "        self.network = network\n",
    "        self.airtime = 0\n",
    "        print(f\"{self.name} joined {self.network} network\")\n",
    "    \n",
    "    def buy_airtime(self, amount):\n",
    "        self.airtime += amount  # self ensures it goes to the RIGHT person\n",
    "        return f\"{self.name} now has ₦{self.airtime} airtime\"\n"
   ]
  },
  {
   "cell_type": "code",
   "execution_count": null,
   "id": "d2d4d106",
   "metadata": {},
   "outputs": [],
   "source": [
    "\n",
    "# Creating multiple users\n",
    "abeeb = PhoneUser(\"Abeeb Bakare\", \"MTN\")     \n",
    "onisemo = PhoneUser(\"Onisemo Williams\", \"Airtel\")  "
   ]
  },
  {
   "cell_type": "code",
   "execution_count": null,
   "id": "535235ef",
   "metadata": {},
   "outputs": [],
   "source": [
    "# Each person's actions affect only their own account\n",
    "print(abeeb.buy_airtime(500))     # Tunde now has ₦500 airtime\n",
    "print(onisemo.buy_airtime(1000)) # Blessing now has ₦1000 airtime\n",
    "print(abeeb.airtime)              # 500 (Tunde's airtime unchanged)\n",
    "print(onisemo.airtime)           # 1000 (Blessing's airtime unchanged)"
   ]
  },
  {
   "cell_type": "markdown",
   "id": "63ca7930",
   "metadata": {},
   "source": [
    "**Key Rules**\n",
    "\n",
    "1. __init__ always takes self as first parameter\n",
    "2. All methods take self as first parameter\n",
    "3. Never pass self manually when calling methods\n",
    "4. Use self inside methods to access object's attributes\n",
    "5. self refers to the specific object being used"
   ]
  },
  {
   "cell_type": "markdown",
   "id": "815ce972",
   "metadata": {},
   "source": [
    "### Attributes"
   ]
  },
  {
   "cell_type": "markdown",
   "id": "0011425b",
   "metadata": {},
   "source": [
    "**What are Attributes?**\n",
    "Attributes are the characteristics, properties, or data that describe an object. They answer the question \"What does this object look like?\" or \"What information does this object store?\"\n",
    "\n",
    "**Real-World Analogy**\n",
    "\n",
    "- Think of a Nigerian National ID card\n",
    "\n",
    "    - me: \"Adebayo Tosin\"\n",
    "    - Age: 28\n",
    "    - State of Origin: \"Lagos\"\n",
    "    - LGA: \"Ikeja\"\n",
    "    - Occupation: \"Software Developer\"\n",
    "\n",
    "- These are all attributes - they describe WHO the person is, not what they can DO."
   ]
  },
  {
   "cell_type": "code",
   "execution_count": null,
   "id": "1c65b3d1",
   "metadata": {},
   "outputs": [
    {
     "ename": "",
     "evalue": "",
     "output_type": "error",
     "traceback": [
      "\u001b[1;31mRunning cells with 'python310 (Python 3.10.15)' requires the ipykernel package.\n",
      "\u001b[1;31m<a href='command:jupyter.createPythonEnvAndSelectController'>Create a Python Environment</a> with the required packages.\n",
      "\u001b[1;31mOr install 'ipykernel' using the command: 'conda install -n python310 ipykernel --update-deps --force-reinstall'"
     ]
    }
   ],
   "source": [
    "# Defining Attributes of a student\n",
    "class Student:\n",
    "    def __init__(self, name, course, level, state_of_origin):\n",
    "        self.name = name                   \n",
    "        self.course = course              \n",
    "        self.level = level                \n",
    "        self.state_of_origin = state_of_origin  \n",
    "        self.cgpa = 0.0                    \n"
   ]
  },
  {
   "cell_type": "code",
   "execution_count": null,
   "id": "69ac9f59",
   "metadata": {},
   "outputs": [],
   "source": [
    "# Creating a student object\n",
    "Fathia = Student(\"Fathia Abdul\", \"Biochemistry\", 300, \"Ogun State\")\n"
   ]
  },
  {
   "cell_type": "code",
   "execution_count": null,
   "id": "169c650f",
   "metadata": {},
   "outputs": [],
   "source": [
    "# Accessing attributes\n",
    "print(Fathia.name)             \n",
    "print(Fathia.course)        \n",
    "print(Fathia.state_of_origin)  "
   ]
  },
  {
   "cell_type": "markdown",
   "id": "87d8da39",
   "metadata": {},
   "source": [
    "#### Types of Attributes"
   ]
  },
  {
   "cell_type": "markdown",
   "id": "43fa7c97",
   "metadata": {},
   "source": [
    "1. Instance Attributes - Unique to each object"
   ]
  },
  {
   "cell_type": "code",
   "execution_count": null,
   "id": "71db4bd4",
   "metadata": {},
   "outputs": [],
   "source": [
    "student1 = Student(\"Anthony Johnson\", \"Engineering\", 200, \"Ogun\")\n",
    "student2 = Student(\"Fadilat Hassan\", \"Medicine\", 400, \"Lagos\")\n",
    "\n",
    "print(student1.name)  \n",
    "print(student2.name) "
   ]
  },
  {
   "cell_type": "markdown",
   "id": "79ff58fc",
   "metadata": {},
   "source": [
    "2. Class Attributes - Shared by all objects of the class"
   ]
  },
  {
   "cell_type": "code",
   "execution_count": null,
   "id": "131c7d08",
   "metadata": {},
   "outputs": [],
   "source": [
    "class Student:\n",
    "    university = \"Federal University of Technology Akure\"  \n",
    "    \n",
    "    def __init__(self, name, course):\n",
    "        self.name = name         \n",
    "        self.course = course\n",
    "\n",
    "print(Student.university)     \n",
    "print(student1.university)   \n",
    "print(student2.university)    "
   ]
  },
  {
   "cell_type": "markdown",
   "id": "b760e59e",
   "metadata": {},
   "source": [
    "### Methods: The Actions (What Objects CAN DO)"
   ]
  },
  {
   "cell_type": "markdown",
   "id": "89bb5821",
   "metadata": {},
   "source": [
    "**What are Methods?**\n",
    "\n",
    "Methods are functions that belong to a class. They define what actions an object can perform. They answer the question \"What can this object do?\"\n",
    "\n",
    "**Real-World Analogy**\n",
    " - Think of what a Nigerian student can do\n",
    "\n",
    "    - Study()\n",
    "    - WriteExam()\n",
    "    - PaySchoolFees()\n",
    "    - RegisterCourses()\n",
    "    - AttendLectures()\n",
    "\n",
    "These are all methods - they describe what the person can DO, not what they look like."
   ]
  },
  {
   "cell_type": "code",
   "execution_count": null,
   "id": "092d8cb6",
   "metadata": {},
   "outputs": [],
   "source": [
    "class Student:\n",
    "    def __init__(self, name, course, level):\n",
    "        # Attributes\n",
    "        self.name = name\n",
    "        self.course = course\n",
    "        self.level = level\n",
    "        self.cgpa = 0.0\n",
    "        self.fees_paid = False\n",
    "    \n",
    "\n",
    "     # Method: action the student can do\n",
    "    def pay_school_fees(self):                   \n",
    "        self.fees_paid = True\n",
    "        return f\"{self.name} has paid school fees for {self.level} level\"\n",
    "    \n",
    "    # Method: another action\n",
    "    def register_courses(self):                   \n",
    "        if self.fees_paid:\n",
    "            return f\"{self.name} has registered courses for {self.course}\"\n",
    "        else:\n",
    "            return f\"{self.name} must pay school fees first!\"\n",
    "    \n",
    "      # Method: calculates CGPA\n",
    "    def calculate_cgpa(self, grades):           \n",
    "        if grades:\n",
    "            self.cgpa = sum(grades) / len(grades)\n",
    "            return f\"{self.name}'s CGPA is now {self.cgpa:.2f}\"\n",
    "        return \"No grades provided\""
   ]
  },
  {
   "cell_type": "code",
   "execution_count": null,
   "id": "c1ecf539",
   "metadata": {},
   "outputs": [],
   "source": [
    "# Using methods\n",
    "Abiodun = Student(\"Abiodun Akinola\", \"Gistology\", 600)\n",
    "print(Abiodun.pay_school_fees())        \n",
    "print(Abiodun.register_courses())       \n",
    "print(Abiodun.calculate_cgpa([4.2, 3.8, 4.0, 3.5])) "
   ]
  },
  {
   "cell_type": "markdown",
   "id": "9a8a6135",
   "metadata": {},
   "source": [
    "#### Types of Methods"
   ]
  },
  {
   "cell_type": "markdown",
   "id": "6bbc24ad",
   "metadata": {},
   "source": [
    "1. Instance Methods - Work with specific object data"
   ]
  },
  {
   "cell_type": "code",
   "execution_count": null,
   "id": "f8da0c5e",
   "metadata": {},
   "outputs": [],
   "source": [
    "# 'self' refers to the specific student\n",
    "def pay_school_fees(self):  \n",
    "    return f\"{self.name} has paid school fees\""
   ]
  },
  {
   "cell_type": "markdown",
   "id": "20fe0fbf",
   "metadata": {},
   "source": [
    "2. Class Methods - Work with class-level data"
   ]
  },
  {
   "cell_type": "code",
   "execution_count": null,
   "id": "bae5eae5",
   "metadata": {},
   "outputs": [],
   "source": [
    "@classmethod\n",
    "def get_university(cls):\n",
    "    return cls.university"
   ]
  },
  {
   "cell_type": "markdown",
   "id": "571aaf90",
   "metadata": {},
   "source": [
    "3. Static Methods - Don't need object or class data"
   ]
  },
  {
   "cell_type": "code",
   "execution_count": null,
   "id": "18fb3757",
   "metadata": {},
   "outputs": [],
   "source": [
    "@staticmethod\n",
    "def academic_calendar():\n",
    "    return \"Academic session runs from September to July\""
   ]
  },
  {
   "cell_type": "markdown",
   "id": "9f2429cb",
   "metadata": {},
   "source": [
    "**How Attributes and Methods Work Together**\n",
    "\n",
    "- The Relationship\n",
    "\n",
    "  - Attributes store the data\n",
    "  - Methods use and modify that data"
   ]
  },
  {
   "cell_type": "code",
   "execution_count": null,
   "id": "22e1f0c8",
   "metadata": {},
   "outputs": [],
   "source": [
    "class BankAccount:\n",
    "    def __init__(self, owner, bank_name, balance=0):\n",
    "        # ATTRIBUTES - What the account HAS\n",
    "        self.owner = owner\n",
    "        self.bank_name = bank_name\n",
    "        self.balance = balance\n",
    "        self.account_number = self.generate_account_number()\n",
    "    \n",
    "    # METHODS - What the account can DO\n",
    "    def deposit(self, amount):\n",
    "        \"\"\"Add money to the account\"\"\"\n",
    "        if amount > 0:\n",
    "            self.balance += amount  # Method changes attribute\n",
    "            return f\"₦{amount:,} deposited to {self.owner}'s {self.bank_name} account. New balance: ₦{self.balance:,}\"\n",
    "        return \"Invalid deposit amount\"\n",
    "    \n",
    "    def withdraw(self, amount):\n",
    "        \"\"\"Remove money from the account\"\"\"\n",
    "        if amount > 0 and amount <= self.balance:\n",
    "            self.balance -= amount  # Method changes attribute\n",
    "            return f\"₦{amount:,} withdrawn from {self.owner}'s account. New balance: ₦{self.balance:,}\"\n",
    "        return \"Insufficient funds or invalid amount\"\n",
    "    \n",
    "    def transfer(self, amount, recipient):\n",
    "        \"\"\"Transfer money to another account\"\"\"\n",
    "        if amount > 0 and amount <= self.balance:\n",
    "            self.balance -= amount\n",
    "            return f\"₦{amount:,} transferred from {self.owner} to {recipient}. Remaining balance: ₦{self.balance:,}\"\n",
    "        return \"Transfer failed: Insufficient funds\"\n",
    "    \n",
    "    def check_balance(self):\n",
    "        \"\"\"Check current balance\"\"\"\n",
    "        return f\"{self.owner}'s {self.bank_name} account balance: ₦{self.balance:,}\"\n",
    "    \n",
    "    def generate_account_number(self):\n",
    "        \"\"\"Generate a unique account number\"\"\"\n",
    "        import random\n",
    "        return f\"01{random.randint(10000000, 99999999)}\"\n"
   ]
  },
  {
   "cell_type": "code",
   "execution_count": null,
   "id": "9e8b8ce5",
   "metadata": {},
   "outputs": [
    {
     "ename": "",
     "evalue": "",
     "output_type": "error",
     "traceback": [
      "\u001b[1;31mRunning cells with 'python310 (Python 3.10.15)' requires the ipykernel package.\n",
      "\u001b[1;31m<a href='command:jupyter.createPythonEnvAndSelectController'>Create a Python Environment</a> with the required packages.\n",
      "\u001b[1;31mOr install 'ipykernel' using the command: 'conda install -n python310 ipykernel --update-deps --force-reinstall'"
     ]
    }
   ],
   "source": [
    "# Creating and using the account\n",
    "adunni_account = BankAccount(\"Adunni Olaleye\", \"AXT Bank\", 50000)"
   ]
  },
  {
   "cell_type": "code",
   "execution_count": null,
   "id": "28715bee",
   "metadata": {},
   "outputs": [],
   "source": [
    "# Attributes (characteristics)\n",
    "print(f\"Owner: {adunni_account.owner}\")\n",
    "print(f\"Bank: {adunni_account.bank_name}\")\n",
    "print(f\"Account Number: {adunni_account.account_number}\")"
   ]
  },
  {
   "cell_type": "code",
   "execution_count": null,
   "id": "d03b0ef7",
   "metadata": {},
   "outputs": [],
   "source": [
    "\n",
    "# Methods (actions)\n",
    "print(adunni_account.deposit(25000))    \n",
    "print(adunni_account.withdraw(10000))  \n",
    "print(adunni_account.transfer(15000, \"Sunday James\"))  \n",
    "print(adunni_account.check_balance())   "
   ]
  },
  {
   "cell_type": "markdown",
   "id": "244fa1c3",
   "metadata": {},
   "source": [
    "**Visual Representation**\n",
    "\n",
    "CLASS: Danfo Bus\n",
    "├── ATTRIBUTES (What it HAS)\n",
    "│   ├── route = \"Garage to Ogolonto\"\n",
    "│   ├── conductor_name = \"Juwon\"\n",
    "│   ├── capacity = 4\n",
    "│   ├── current_passengers = 0\n",
    "│   └── fare = 200\n",
    "│\n",
    "└── METHODS (What it can DO)\n",
    "    ├── pick_passenger() → current_passengers increases\n",
    "    ├── drop_passenger() → current_passengers decreases\n",
    "    ├── collect_fare() → \"Pay your ₦200!\"\n",
    "    ├── announce_bus_stop() → \"Next stop: Ebute!\"\n",
    "    └── honk() → \"Pam pam pam!\"\n",
    "\n",
    "OBJECT: my_danfo\n",
    "├── Uses the attributes with specific values\n",
    "└── Can perform all the methods"
   ]
  },
  {
   "cell_type": "markdown",
   "id": "832cce2a",
   "metadata": {},
   "source": [
    "## Attributes vs Methods \n",
    "\n",
    "| **Attributes** | **Methods** |\n",
    "|----------------|-------------|\n",
    "| Store data/information | Perform actions |\n",
    "| Answer \"What is it?\" | Answer \"What can it do?\" |\n",
    "| Nouns (name, course, state) | Verbs (study, pay, register) |\n",
    "| Hold values | Execute code |\n",
    "| Can be read/changed | Can be called/executed |\n",
    "| `student.name` | `student.pay_fees()` |"
   ]
  },
  {
   "cell_type": "markdown",
   "id": "b639a67b",
   "metadata": {},
   "source": [
    "**Practice Exercise1**\n",
    "  - Given this class, identify the attributes and methods"
   ]
  },
  {
   "cell_type": "code",
   "execution_count": null,
   "id": "f4259473",
   "metadata": {},
   "outputs": [],
   "source": [
    "class NaijaPhone:\n",
    "    def __init__(self, brand, model, network_provider):\n",
    "        self.brand = brand\n",
    "        self.model = model\n",
    "        self.network_provider = network_provider\n",
    "        self.airtime_balance = 0\n",
    "        self.data_balance = 0\n",
    "        self.is_on = False\n",
    "    \n",
    "    def power_on(self):\n",
    "        self.is_on = True\n",
    "        return f\"{self.brand} phone is now on. Network: {self.network_provider}\"\n",
    "    \n",
    "    def buy_airtime(self, amount):\n",
    "        self.airtime_balance += amount\n",
    "        return f\"₦{amount} airtime purchased. Balance: ₦{self.airtime_balance}\"\n",
    "    \n",
    "    def make_call(self, number):\n",
    "        if self.is_on and self.airtime_balance > 0:\n",
    "            self.airtime_balance -= 10\n",
    "            return f\"Calling {number}... Remaining airtime: ₦{self.airtime_balance}\"\n",
    "        return \"Cannot make call. Check phone power and airtime balance\"\n",
    "    \n",
    "    def send_sms(self, message, number):\n",
    "        if self.airtime_balance >= 4:\n",
    "            self.airtime_balance -= 4\n",
    "            return f\"SMS sent to {number}: '{message}'. Remaining airtime: ₦{self.airtime_balance}\"\n",
    "        return \"Insufficient airtime to send SMS\""
   ]
  },
  {
   "cell_type": "code",
   "execution_count": null,
   "id": "a49bfc50",
   "metadata": {},
   "outputs": [],
   "source": [
    "# Type in the answer here, also run the code to see the output..."
   ]
  },
  {
   "cell_type": "markdown",
   "id": "34a27edf",
   "metadata": {},
   "source": [
    "**Practice Exercise2**\n",
    "  - Given this class, identify the attributes and methods"
   ]
  },
  {
   "cell_type": "code",
   "execution_count": null,
   "id": "1c53ce19",
   "metadata": {},
   "outputs": [],
   "source": [
    "class BRTBus:\n",
    "    def __init__(self, route, bus_number):\n",
    "       \n",
    "        self.route = route            \n",
    "        self.bus_number = bus_number    \n",
    "        self.current_stop = \"Ikorodu\"\n",
    "        self.passenger_count = 0\n",
    "        self.fare = 300\n",
    "    \n",
    " \n",
    "    def announce_stop(self):\n",
    "        return f\"Next stop: {self.current_stop}. Fare is ₦{self.fare}\"\n",
    "    \n",
    "    def board_passengers(self, count):\n",
    "        self.passenger_count += count\n",
    "        return f\"{count} passengers boarded. Total: {self.passenger_count}\""
   ]
  },
  {
   "cell_type": "markdown",
   "id": "8269285c",
   "metadata": {},
   "source": [
    "**Practice Exercise3**\n",
    "  - Given this class, identify the attributes and methods"
   ]
  },
  {
   "cell_type": "code",
   "execution_count": null,
   "id": "f1da759b",
   "metadata": {},
   "outputs": [],
   "source": [
    "class MarketTrader:\n",
    "    def __init__(self, name, market_name, goods):\n",
    "       \n",
    "        self.name = name                \n",
    "        self.market_name = market_name \n",
    "        self.goods = goods             \n",
    "        self.daily_sales = 0\n",
    "    \n",
    "  \n",
    "    def advertise_goods(self):\n",
    "        return f\"{self.name} at {self.market_name}: Fresh {', '.join(self.goods)} available!\"\n",
    "    \n",
    "    def make_sale(self, amount):\n",
    "        self.daily_sales += amount\n",
    "        return f\"Sale made! Today's total: ₦{self.daily_sales:,}\""
   ]
  },
  {
   "cell_type": "markdown",
   "id": "14fa9e9d",
   "metadata": {},
   "source": [
    "### Encapsulation"
   ]
  },
  {
   "cell_type": "markdown",
   "id": "5f98ec02",
   "metadata": {},
   "source": [
    "**What is Encapsulation?**\n",
    "\n",
    "Encapsulation is like putting related items in a box and controlling who can access them. It groups related data (attributes) and functions (methods) together in one class, and controls how they can be accessed from outside.\n",
    "\n",
    "- Real-World Analogy - Think of an ATM machine:\n",
    "\n",
    "   - Inside the ATM: Cash, card reader, computer system, cameras\n",
    "   - What you can access: Keypad, screen, card slot, cash dispenser\n",
    "   - What you cannot access: Internal cash storage, computer motherboard, security cameras\n",
    "\n",
    "- The ATM encapsulates all its internal components and only gives you safe ways to interact with it."
   ]
  },
  {
   "cell_type": "code",
   "execution_count": null,
   "id": "a7fa1bac",
   "metadata": {},
   "outputs": [],
   "source": [
    "class NigerianBankAccount:\n",
    "    def __init__(self, owner, initial_balance=0):\n",
    "        self.owner = owner\n",
    "        self._balance = initial_balance        # Protected attribute\n",
    "        self.__pin = \"1234\"                   # Private attribute\n",
    "        self._transaction_history = []        # Protected attribute\n",
    "    \n",
    "    # Public methods - anyone can use these\n",
    "    def deposit(self, amount):\n",
    "        if amount > 0:\n",
    "            self._balance += amount\n",
    "            self._transaction_history.append(f\"Deposited ₦{amount:,}\")\n",
    "            return f\"₦{amount:,} deposited successfully\"\n",
    "        return \"Invalid deposit amount\"\n",
    "    \n",
    "    def withdraw(self, amount, pin):\n",
    "        if self.__verify_pin(pin):  # Uses private method\n",
    "            if amount <= self._balance:\n",
    "                self._balance -= amount\n",
    "                self._transaction_history.append(f\"Withdrew ₦{amount:,}\")\n",
    "                return f\"₦{amount:,} withdrawn successfully\"\n",
    "            return \"Insufficient funds\"\n",
    "        return \"Invalid PIN\"\n",
    "    \n",
    "    def check_balance(self, pin):\n",
    "        if self.__verify_pin(pin):\n",
    "            return f\"Current balance: ₦{self._balance:,}\"\n",
    "        return \"Invalid PIN\"\n",
    "    \n",
    "    # Private method - only the class can use this\n",
    "    def __verify_pin(self, entered_pin):\n",
    "        return entered_pin == self.__pin\n",
    "    \n",
    "    # Protected method - subclasses can use this\n",
    "    def _get_transaction_history(self):\n",
    "        return self._transaction_history.copy()"
   ]
  },
  {
   "cell_type": "code",
   "execution_count": null,
   "id": "c899b959",
   "metadata": {},
   "outputs": [],
   "source": [
    "# Using the encapsulated account\n",
    "ibrahim_account = NigerianBankAccount(\"Ibrahim Orekunrin\", 50000)\n",
    "\n",
    "# These work - public interface\n",
    "print(ibrahim_account.deposit(10000))      # ₦10,000 deposited successfully\n",
    "print(ibrahim_account.withdraw(5000, \"1234\"))  # ₦5,000 withdrawn successfully\n",
    "print(ibrahim_account.check_balance(\"1234\"))   # Current balance: ₦55,000"
   ]
  },
  {
   "cell_type": "code",
   "execution_count": null,
   "id": "66911f0e",
   "metadata": {},
   "outputs": [],
   "source": [
    "# Try this out...\n",
    "\n",
    "# But it won't  work - private/protected data\n",
    "\n",
    "# print(ibrahim_account.__pin)           # Error! Cannot access private attribute\n",
    "# ibrahim_account.__verify_pin(\"1234\")   # Error! Cannot access private method"
   ]
  },
  {
   "cell_type": "markdown",
   "id": "b58d0356",
   "metadata": {},
   "source": [
    "**Benefits of Encapsulation**\n",
    "\n",
    "- Security: Sensitive data (like PIN) is protected\n",
    "- Organization: Related functions stay together\n",
    "- Control: You decide how data can be accessed\n",
    "- Maintenance: Changes inside don't break outside code"
   ]
  },
  {
   "cell_type": "markdown",
   "id": "8e60ee71",
   "metadata": {},
   "source": [
    "```python\n",
    "class Example:\n",
    "    def __init__(self):\n",
    "        self.public = \"Anyone can access\"           # Public\n",
    "        self._protected = \"Subclasses can access\"   # Protected (convention)\n",
    "        self.__private = \"Only this class can access\"  # Private (name mangling)\n",
    "\n",
    "```"
   ]
  },
  {
   "cell_type": "markdown",
   "id": "183b44af",
   "metadata": {},
   "source": [
    "### Abstraction"
   ]
  },
  {
   "cell_type": "markdown",
   "id": "e03990eb",
   "metadata": {},
   "source": [
    "**What is Abstraction?**\n",
    "\n",
    "Abstraction means hiding complex implementation details and showing only the essential features. It's like using a remote control - you press buttons to change channels, but you don't need to know how the TV circuits work.\n",
    "\n",
    "**Real-World Analogy** \n",
    "- When you board a Lagos Danfo\n",
    "\n",
    "   - What you see: Door, seats, conductor, driver\n",
    "   - What you use: \"Oya enter!\" (get in), pay fare, say \"Owa!\" (stop here)\n",
    "   - What you don't see: Engine mechanics, fuel injection, electrical wiring\n",
    "   - What you don't need to know: How the engine converts fuel to motion\n",
    "\n",
    "- The bus abstracts all the complex mechanical details. You just need to know how to be a passenger."
   ]
  },
  {
   "cell_type": "code",
   "execution_count": null,
   "id": "12cff548",
   "metadata": {},
   "outputs": [],
   "source": [
    "from abc import ABC, abstractmethod\n",
    "\n",
    "# Abstract base class - defines what a Nigerian student should do\n",
    "class NigerianStudent(ABC):\n",
    "    def __init__(self, name, course, level):\n",
    "        self.name = name\n",
    "        self.course = course\n",
    "        self.level = level\n",
    "        self.fees_paid = False\n",
    "    \n",
    "    # Concrete method - all students can do this\n",
    "    def pay_school_fees(self, amount):\n",
    "        self.fees_paid = True\n",
    "        return f\"{self.name} paid ₦{amount:,} school fees\"\n",
    "    \n",
    "    # Abstract method - each type of student implements differently\n",
    "    @abstractmethod\n",
    "    def study_method(self):\n",
    "        pass\n",
    "    \n",
    "    @abstractmethod\n",
    "    def take_exam(self):\n",
    "        pass\n",
    "\n",
    "# Concrete classes - specific implementations\n",
    "class MedicalStudent(NigerianStudent):\n",
    "    def study_method(self):\n",
    "        return f\"{self.name} studies anatomy books and practices on cadavers\"\n",
    "    \n",
    "    def take_exam(self):\n",
    "        return f\"{self.name} takes practical exam in the anatomy lab\"\n",
    "\n",
    "class EngineeringStudent(NigerianStudent):\n",
    "    def study_method(self):\n",
    "        return f\"{self.name} solves mathematical problems and builds prototypes\"\n",
    "    \n",
    "    def take_exam(self):\n",
    "        return f\"{self.name} takes exam with calculations and technical drawings\"\n",
    "\n",
    "class ComputerScienceStudent(NigerianStudent):\n",
    "    def study_method(self):\n",
    "        return f\"{self.name} codes programs and debugs software\"\n",
    "    \n",
    "    def take_exam(self):\n",
    "        return f\"{self.name} takes practical programming exam on computer\""
   ]
  },
  {
   "cell_type": "code",
   "execution_count": null,
   "id": "4d68eaa2",
   "metadata": {},
   "outputs": [],
   "source": [
    "# Using abstraction\n",
    "students = [\n",
    "    MedicalStudent(\"Dr.Adeyinka Ogunsanya\", \"Medicine\", 400),\n",
    "    EngineeringStudent(\"Dr. Ajala Gift\", \"Mechanical Engineering\", 300),\n",
    "    ComputerScienceStudent(\"Fatima Hassan\", \"Computer Science\", 200)\n",
    "]"
   ]
  },
  {
   "cell_type": "code",
   "execution_count": null,
   "id": "a2c13469",
   "metadata": {},
   "outputs": [],
   "source": [
    "\n",
    "# Same interface, different implementations\n",
    "for student in students:\n",
    "    print(student.pay_school_fees(150000))  # Same for all\n",
    "    print(student.study_method())           # Different for each\n",
    "    print(student.take_exam())              # Different for each\n",
    "    print(\"---\")"
   ]
  },
  {
   "cell_type": "markdown",
   "id": "591ba593",
   "metadata": {},
   "source": [
    "_more example on abstraction_"
   ]
  },
  {
   "cell_type": "code",
   "execution_count": null,
   "id": "fe5c73a3",
   "metadata": {},
   "outputs": [],
   "source": [
    "#Simple abstraction for phone interface\n",
    "\n",
    "class SimplePhone:\n",
    "    def __init__(self, brand):\n",
    "        self.brand = brand\n",
    "        self._complex_internal_system = \"Very complicated stuff\"\n",
    "    \n",
    "    # Simple interface - user doesn't need to know internal complexity\n",
    "    def make_call(self, number):\n",
    "        self._establish_network_connection()\n",
    "        self._encode_voice_signal()\n",
    "        self._transmit_to_tower()\n",
    "        return f\"Calling {number} from {self.brand} phone...\"\n",
    "    \n",
    "    def send_sms(self, message, number):\n",
    "        self._connect_to_sms_center()\n",
    "        self._format_message()\n",
    "        self._send_through_network()\n",
    "        return f\"SMS sent to {number}: '{message}'\"\n",
    "    \n",
    "    # Complex internal methods - hidden from user\n",
    "    def _establish_network_connection(self):\n",
    "        # Complex networking code here\n",
    "        pass\n",
    "    \n",
    "    def _encode_voice_signal(self):\n",
    "        # Complex audio processing here\n",
    "        pass\n",
    "    \n",
    "    def _transmit_to_tower(self):\n",
    "        # Complex radio transmission here\n",
    "        pass"
   ]
  },
  {
   "cell_type": "code",
   "execution_count": null,
   "id": "876c2c67",
   "metadata": {},
   "outputs": [],
   "source": [
    "# User only needs to know the simple interface\n",
    "my_phone = SimplePhone(\"Tecno\")\n",
    "print(my_phone.make_call(\"08012345678\"))  # Simple to use\n",
    "print(my_phone.send_sms(\"How far?\", \"08098765432\"))  # Don't need to know internals"
   ]
  },
  {
   "cell_type": "markdown",
   "id": "aaeaf377",
   "metadata": {},
   "source": [
    "**Benefits of Abstraction**\n",
    "\n",
    "- Simplicity: Complex systems become easy to use\n",
    "- Focus: Users focus on what matters, not how it works\n",
    "- Flexibility: Implementation can change without affecting users\n",
    "- Reusability: Same interface works for different implementations"
   ]
  },
  {
   "cell_type": "markdown",
   "id": "2f364d09",
   "metadata": {},
   "source": [
    "### Inheritance - Building on What Already Exists\n"
   ]
  },
  {
   "cell_type": "markdown",
   "id": "ec03ae51",
   "metadata": {},
   "source": [
    "**What is Inheritance?**\n",
    "\n",
    "Inheritance allows you to create new classes based on existing ones. The new class (child) inherits attributes and methods from the parent class, and can add its own features or modify existing ones.\n",
    "\n",
    "- Real-World Analogy\n",
    "   - Think of a Nigerian family\n",
    "\n",
    "       - Parent (Father): Adebayo Ogundimu - has surname, family traditions, property\n",
    "       - Child 1 (Son): Kemi Ogundimu - inherits surname, traditions, gets family property + adds his own career as doctor\n",
    "       - Child 2 (Daughter): Tunde Ogundimu - inherits surname, traditions, gets family property + adds her own career as engineer\n",
    "\n",
    "- The children inherit from their father but also have their own unique characteristics."
   ]
  },
  {
   "cell_type": "code",
   "execution_count": null,
   "id": "8aa42de1",
   "metadata": {},
   "outputs": [],
   "source": [
    "# Parent class - Base Nigerian Person\n",
    "class NigerianPerson:\n",
    "    def __init__(self, first_name, last_name, state_of_origin):\n",
    "        self.first_name = first_name\n",
    "        self.last_name = last_name\n",
    "        self.state_of_origin = state_of_origin\n",
    "        self.can_speak_english = True\n",
    "    \n",
    "    def introduce(self):\n",
    "        return f\"My name is {self.first_name} {self.last_name} from {self.state_of_origin}\"\n",
    "    \n",
    "    def greet(self):\n",
    "        return \"Good morning!\"\n",
    "    \n",
    "    def speak_local_language(self):\n",
    "        return \"I speak my local language\"\n",
    "\n",
    "# Child class 1 - Nigerian Student inherits from NigerianPerson\n",
    "class NigerianStudent(NigerianPerson):\n",
    "    def __init__(self, first_name, last_name, state_of_origin, course, level):\n",
    "        # Inherit parent's initialization\n",
    "        super().__init__(first_name, last_name, state_of_origin)\n",
    "        # Add student-specific attributes\n",
    "        self.course = course\n",
    "        self.level = level\n",
    "        self.cgpa = 0.0\n",
    "    \n",
    "    # Override parent method with student-specific version\n",
    "    def introduce(self):\n",
    "        parent_intro = super().introduce()  # Get parent's introduction\n",
    "        return f\"{parent_intro}. I'm a {self.level} level {self.course} student\"\n",
    "    \n",
    "    # Add student-specific methods\n",
    "    def study(self):\n",
    "        return f\"{self.first_name} is studying {self.course}\"\n",
    "    \n",
    "    def take_exam(self):\n",
    "        return f\"{self.first_name} is writing {self.course} exam\"\n",
    "\n",
    "# Child class 2 - Nigerian Worker inherits from NigerianPerson\n",
    "class NigerianWorker(NigerianPerson):\n",
    "    def __init__(self, first_name, last_name, state_of_origin, job_title, company):\n",
    "        super().__init__(first_name, last_name, state_of_origin)\n",
    "        self.job_title = job_title\n",
    "        self.company = company\n",
    "        self.salary = 0\n",
    "    \n",
    "    def introduce(self):\n",
    "        parent_intro = super().introduce()\n",
    "        return f\"{parent_intro}. I work as a {self.job_title} at {self.company}\"\n",
    "    \n",
    "    def work(self):\n",
    "        return f\"{self.first_name} is working as a {self.job_title}\"\n",
    "    \n",
    "    def receive_salary(self, amount):\n",
    "        self.salary += amount\n",
    "        return f\"{self.first_name} received ₦{amount:,} salary\"\n",
    "\n",
    "# Child class 3 - Nigerian Teacher (inherits from NigerianWorker)\n",
    "class NigerianTeacher(NigerianWorker):\n",
    "    def __init__(self, first_name, last_name, state_of_origin, subject, school):\n",
    "        # Teacher is a type of worker\n",
    "        super().__init__(first_name, last_name, state_of_origin, \"Teacher\", school)\n",
    "        self.subject = subject\n",
    "        self.students = []\n",
    "    \n",
    "    def introduce(self):\n",
    "        return f\"My name is {self.first_name} {self.last_name} from {self.state_of_origin}. I teach {self.subject} at {self.company}\"\n",
    "    \n",
    "    def teach(self):\n",
    "        return f\"Teacher {self.first_name} is teaching {self.subject}\"\n",
    "    \n",
    "    def grade_students(self):\n",
    "        return f\"Teacher {self.first_name} is grading {self.subject} assignments\""
   ]
  },
  {
   "cell_type": "code",
   "execution_count": null,
   "id": "1084391e",
   "metadata": {},
   "outputs": [],
   "source": [
    "# Using inheritance\n",
    "# Create different types of people\n",
    "student = NigerianStudent(\"Kemi\", \"Adebayo\", \"Lagos State\", \"Computer Science\", 300)\n",
    "worker = NigerianWorker(\"Chinedu\", \"Okafor\", \"Anambra State\", \"Software Developer\", \"Sail Innovation Lab\")\n",
    "teacher = NigerianTeacher(\"Chris\", \"Ekwugum\", \"Lagos State\", \"Data Science\", \"Sail Innovation Lab\")"
   ]
  },
  {
   "cell_type": "code",
   "execution_count": null,
   "id": "66cd3f87",
   "metadata": {},
   "outputs": [],
   "source": [
    "# All inherit basic Nigerian person abilities\n",
    "print(\"=== Basic Inherited Methods ===\")\n",
    "print(student.greet())                    # Good morning! (inherited)\n",
    "print(worker.speak_local_language())      # I speak my local language (inherited)\n",
    "print(teacher.greet())                    # Good morning! (inherited)\n",
    "\n",
    "print(\"\\n=== Customized Introductions ===\")\n",
    "print(student.introduce())    # Customized for students\n",
    "print(worker.introduce())     # Customized for workers  \n",
    "print(teacher.introduce())    # Customized for teachers\n",
    "\n",
    "print(\"\\n=== Specific Abilities ===\")\n",
    "print(student.study())        # Only students can do this\n",
    "print(worker.work())          # Only workers can do this\n",
    "print(teacher.teach())        # Only teachers can do this"
   ]
  },
  {
   "cell_type": "markdown",
   "id": "4733282d",
   "metadata": {},
   "source": [
    "**Inheritance Hierarchy Visualization**\n",
    "\n",
    "NigerianPerson (Parent)\n",
    "├── Attributes: first_name, last_name, state_of_origin\n",
    "├── Methods: introduce(), greet(), speak_local_language()\n",
    "│\n",
    "├── NigerianStudent (Child)\n",
    "│   ├── Inherits: All parent attributes and methods\n",
    "│   ├── Adds: course, level, cgpa\n",
    "│   └── Adds: study(), take_exam()\n",
    "│\n",
    "├── NigerianWorker (Child)\n",
    "│   ├── Inherits: All parent attributes and methods\n",
    "│   ├── Adds: job_title, company, salary\n",
    "│   ├── Adds: work(), receive_salary()\n",
    "│   │\n",
    "│   └── NigerianTeacher (Grandchild)\n",
    "│       ├── Inherits: Everything from NigerianWorker + NigerianPerson\n",
    "│       ├── Adds: subject, students\n",
    "│       └── Adds: teach(), grade_students()"
   ]
  },
  {
   "cell_type": "markdown",
   "id": "9ddc9fff",
   "metadata": {},
   "source": [
    "**Types of Inheritance**"
   ]
  },
  {
   "cell_type": "code",
   "execution_count": null,
   "id": "fafea246",
   "metadata": {},
   "outputs": [],
   "source": [
    "# 1. Single Inheritance - One parent\n",
    "class Parent:\n",
    "    pass\n",
    "\n",
    "class Child(Parent):  # Child inherits from Parent\n",
    "    pass\n"
   ]
  },
  {
   "cell_type": "code",
   "execution_count": null,
   "id": "f25b3d24",
   "metadata": {},
   "outputs": [],
   "source": [
    "# 2. Multiple Inheritance - Multiple parents\n",
    "class Father:\n",
    "    def father_trait(self):\n",
    "        return \"Strong\"\n",
    "\n",
    "class Mother:\n",
    "    def mother_trait(self):\n",
    "        return \"Caring\"\n",
    "\n",
    "class Child(Father, Mother):  # Inherits from both parents\n",
    "    pass"
   ]
  },
  {
   "cell_type": "code",
   "execution_count": null,
   "id": "2f3e5e0e",
   "metadata": {},
   "outputs": [],
   "source": [
    "child = Child()\n",
    "print(child.father_trait())  # Strong\n",
    "print(child.mother_trait())  # Caring"
   ]
  },
  {
   "cell_type": "markdown",
   "id": "9a70bd5f",
   "metadata": {},
   "source": [
    "**Benefits of Inheritance**\n",
    "\n",
    "- Code Reuse: Don't write the same code multiple times\n",
    "- Organization: Related classes are grouped logically\n",
    "- Maintenance: Fix bugs in parent class, all children benefit\n",
    "- Extensibility: Easy to add new types without changing existing code"
   ]
  },
  {
   "cell_type": "markdown",
   "id": "a5244c70",
   "metadata": {},
   "source": [
    "**How All (Abstraction,Encapsulation,inheritance) Work Together**"
   ]
  },
  {
   "cell_type": "code",
   "execution_count": null,
   "id": "306737b9",
   "metadata": {},
   "outputs": [],
   "source": [
    "# Nigerian School Management System\n",
    "\n",
    "# Abstraction - Define what all school members should do\n",
    "from abc import ABC, abstractmethod\n",
    "\n",
    "class SchoolMember(ABC):\n",
    "    def __init__(self, name, id_number):\n",
    "        self._name = name           # Encapsulation - protected attribute\n",
    "        self._id_number = id_number # Encapsulation - protected attribute\n",
    "    \n",
    "    @abstractmethod\n",
    "    def daily_activity(self):       # Abstraction - must be implemented\n",
    "        pass\n",
    "    \n",
    "    def get_info(self):            # Common method for all\n",
    "        return f\"Name: {self._name}, ID: {self._id_number}\"\n",
    "\n",
    "# Inheritance - Student inherits from SchoolMember\n",
    "class Student(SchoolMember):\n",
    "    def __init__(self, name, id_number, class_level):\n",
    "        super().__init__(name, id_number)  # Inheritance\n",
    "        self.__grades = []                 # Encapsulation - private\n",
    "    \n",
    "    def daily_activity(self):              # Abstraction - implementation\n",
    "        return f\"{self._name} attends classes and studies\"\n",
    "    \n",
    "    def add_grade(self, subject, score):   # Encapsulation - controlled access\n",
    "        if 0 <= score <= 100:\n",
    "            self.__grades.append({\"subject\": subject, \"score\": score})\n",
    "            return f\"Grade added: {subject} = {score}\"\n",
    "        return \"Invalid grade\"\n",
    "    \n",
    "    def get_average(self):                 # Encapsulation - controlled access\n",
    "        if self.__grades:\n",
    "            total = sum(grade[\"score\"] for grade in self.__grades)\n",
    "            return total / len(self.__grades)\n",
    "        return 0\n",
    "\n",
    "# Inheritance - Teacher inherits from SchoolMember\n",
    "class Teacher(SchoolMember):\n",
    "    def __init__(self, name, id_number, subject):\n",
    "        super().__init__(name, id_number)\n",
    "        self.__subject = subject           # Encapsulation - private\n",
    "    \n",
    "    def daily_activity(self):              # Abstraction - implementation\n",
    "        return f\"{self._name} teaches {self.__subject} and grades assignments\""
   ]
  },
  {
   "cell_type": "code",
   "execution_count": null,
   "id": "37a2e366",
   "metadata": {},
   "outputs": [],
   "source": [
    "# Using all three principles together\n",
    "student = Student(\"Adunni Olaleye\", \"STU001\", \"SS2\")\n",
    "teacher = Teacher(\"Mr. Emeka Nwosu\", \"TCH001\", \"Mathematics\")"
   ]
  },
  {
   "cell_type": "code",
   "execution_count": null,
   "id": "81891119",
   "metadata": {},
   "outputs": [],
   "source": [
    "# Polymorphism - same method, different behavior\n",
    "print(student.daily_activity())    # Student-specific activity\n",
    "print(teacher.daily_activity())    # Teacher-specific activity"
   ]
  },
  {
   "cell_type": "code",
   "execution_count": null,
   "id": "3e80c26a",
   "metadata": {},
   "outputs": [],
   "source": [
    "# Encapsulation - controlled access to data\n",
    "print(student.add_grade(\"Mathematics\", 85))  # Grade added: Mathematics = 85\n",
    "print(student.add_grade(\"English\", 78))      # Grade added: English = 78\n",
    "print(f\"Average: {student.get_average()}\")   # Average: 81.5"
   ]
  },
  {
   "cell_type": "code",
   "execution_count": null,
   "id": "75e689fd",
   "metadata": {},
   "outputs": [],
   "source": [
    "# Can't access private data directly\n",
    "# print(student.__grades)  # This would cause an error"
   ]
  }
 ],
 "metadata": {
  "kernelspec": {
   "display_name": "Python 3",
   "language": "python",
   "name": "python3"
  },
  "language_info": {
   "name": "python",
   "version": "3.10.18"
  }
 },
 "nbformat": 4,
 "nbformat_minor": 5
}
