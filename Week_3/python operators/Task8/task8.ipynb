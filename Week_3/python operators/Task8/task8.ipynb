{
 "cells": [
  {
   "cell_type": "markdown",
   "id": "f8b93447",
   "metadata": {},
   "source": [
    "**Task1**\n",
    "- Explain each output of the program below.\n",
    "- Give 3 usecases or cenarios where you can apply the program below.\n",
    "- Write the code for 1 of the 3 use cases."
   ]
  },
  {
   "cell_type": "code",
   "execution_count": null,
   "id": "15148c75",
   "metadata": {},
   "outputs": [],
   "source": [
    "num1 = int(input(\"Enter first number: \"))\n",
    "num2 = int(input(\"Enter second number: \"))"
   ]
  },
  {
   "cell_type": "code",
   "execution_count": null,
   "id": "971cec3e",
   "metadata": {},
   "outputs": [
    {
     "name": "stdout",
     "output_type": "stream",
     "text": [
      "4 == 5 : False\n"
     ]
    }
   ],
   "source": [
    "print(f\"{num1} == {num2} : {num1 == num2}\")"
   ]
  },
  {
   "cell_type": "code",
   "execution_count": null,
   "id": "d397c191",
   "metadata": {},
   "outputs": [
    {
     "name": "stdout",
     "output_type": "stream",
     "text": [
      "4 != 5 : True\n"
     ]
    }
   ],
   "source": [
    "print(f\"{num1} != {num2} : {num1 != num2}\")"
   ]
  },
  {
   "cell_type": "code",
   "execution_count": null,
   "id": "d755b03c",
   "metadata": {},
   "outputs": [
    {
     "name": "stdout",
     "output_type": "stream",
     "text": [
      "4 > 5 : False\n"
     ]
    }
   ],
   "source": [
    "print(f\"{num1} > {num2} : {num1 > num2}\")"
   ]
  },
  {
   "cell_type": "code",
   "execution_count": null,
   "id": "c1e62bf4",
   "metadata": {},
   "outputs": [
    {
     "name": "stdout",
     "output_type": "stream",
     "text": [
      "4 < 5 : True\n"
     ]
    }
   ],
   "source": [
    "print(f\"{num1} < {num2} : {num1 < num2}\")"
   ]
  },
  {
   "cell_type": "markdown",
   "id": "c6e583bb",
   "metadata": {},
   "source": [
    "**Task2**\n",
    "- Comment the code below appropriately, and using doctring, explain what the code is doing.\n",
    "-  Adapt the code to the case below.\n",
    "\n",
    "- Federal Government Scholarship Key Eligibility Requirements:\n",
    "  - Citizenship:\n",
    "    - Applicant must be a citizen of Nigeria. \n",
    "  - Enrollment:\n",
    "    - Must be a registered, full-time undergraduate student in a recognized Nigerian university. \n",
    "  - Other Scholarships:\n",
    "    - Applicants cannot be currently receiving any other scholarship from an entity in the Oil and Gas industry, whether national or international. \n",
    "  - Academic Qualification:\n",
    "    - For undergraduate courses, applicants usually need five distinctions (As and Bs) in relevant subjects in their WAEC/WASSCE (May/June) exams, including English and Mathematics."
   ]
  },
  {
   "cell_type": "code",
   "execution_count": null,
   "id": "95654176",
   "metadata": {},
   "outputs": [
    {
     "name": "stdout",
     "output_type": "stream",
     "text": [
      "Candidate: 67\n",
      "Age: 56\n",
      "Score: 54\n",
      "Eligible: False\n"
     ]
    }
   ],
   "source": [
    "name = input(\"Enter your name: \")\n",
    "age = int(input(\"Enter your age: \"))\n",
    "score = int(input(\"Enter your test score: \"))\n",
    "\n",
    "eligibility = (age < 18) and (score > 70)\n",
    "print(f\"Candidate: {name}\\nAge: {age}\\nScore: {score}\\nEligible: {eligibility}\")"
   ]
  },
  {
   "cell_type": "markdown",
   "id": "16eeaa7c",
   "metadata": {},
   "source": [
    "**Task3: Online Store Cart Calculation**\n",
    "\n",
    "- Create a list of items (e.g., \"Book\", \"Pen\", \"Bag\") and another list of prices (e.g., 500, 100, 2000).\n",
    "\n",
    "- Start with an empty cart total (cart_total = 0).\n",
    "\n",
    "- Use assignment operators (+=) to add the price of some items into cart_total.\n",
    "\n",
    "- Print the list of items and the total price using an f-string like this:\n",
    "\n",
    "```\n",
    "Items: ['Book', 'Pen', 'Bag']\n",
    "Total Price: ₦600\n",
    "```\n"
   ]
  },
  {
   "cell_type": "markdown",
   "id": "dc591d4a",
   "metadata": {},
   "source": [
    "**Task4: Student Record**\n",
    "- Create an empty dictionary called student.\n",
    "\n",
    "- Ask the user to input their name and age, then store them in the dictionary.\n",
    "\n",
    "- Add a list of scores (e.g., [70, 85, 90]) to the dictionary.\n",
    "\n",
    "- Use a comparison operator to check if the student has passed (average score >= 50). Save the result (True/False) in the dictionary under the key \"passed\".\n",
    "\n",
    "- Use a logical operator to check if the student is a teenager (age between 13 and 19). Save the result as \"teenager\".\n",
    "\n",
    "- Print out the complete record in this format:\n",
    "\n",
    "```\n",
    "Student Record:\n",
    "Name: John\n",
    "Age: 16\n",
    "Scores: [70, 85, 90]\n",
    "Passed: True\n",
    "Teenager: True\n",
    "```"
   ]
  },
  {
   "cell_type": "markdown",
   "id": "d89a9f33",
   "metadata": {},
   "source": [
    "**Task5: Store Inventory Update**\n",
    "- Create a dictionary called store with items and their available quantities. Example:\n",
    "```\n",
    "store = {\"Book\": 10, \"Pen\": 20, \"Bag\": 5}\n",
    "```\n",
    "\n",
    "\n",
    "- Ask the user to input the item they want to buy (e.g., \"Pen\").\n",
    "\n",
    "- Ask the user to input the quantity they want to purchase.\n",
    "\n",
    "- Use the assignment operator -= to update (reduce) the item quantity in the dictionary.\n",
    "\n",
    "- Print the updated dictionary in this format:\n",
    "\n",
    "```\n",
    "Before purchase: {'Book': 10, 'Pen': 20, 'Bag': 5}\n",
    "After purchase: {'Book': 10, 'Pen': 18, 'Bag': 5}\n",
    "```"
   ]
  },
  {
   "cell_type": "markdown",
   "id": "8a1bc057",
   "metadata": {},
   "source": [
    "**Task6**\n",
    "\n",
    "- The Federal Government of Nigeria has set the minimum age for admission into federal tertiary institutions at 16 years old for the 2025/2026 academic session, according to the Minister of Education, Dr. Tunji Alausa. This policy, announced at the 2025 JAMB policy meeting, replaces the previous 18-year minimum age requirement. \n",
    "\n",
    "- For the 2025/2026 academic session, the University of Lagos (UNILAG) requires candidates to have a minimum UTME score of 200 to be eligible for the Post-UTME screening. The Post-UTME itself is an online screening exercise. UNILAG does not release specific departmental cut-off marks before the screening. The departmental cut-off marks are determined after the Post-UTME, based on merit and the performance of candidates in both UTME and the Post-UTME. \n",
    "\n",
    "Breakdown of the Admission Process:\n",
    "1. UTME:\n",
    "Candidates must score 200 or above in the UTME and choose UNILAG as their first choice. \n",
    "2. O'Level Requirements:\n",
    "Candidates must also have five (5) credit passes at one sitting in relevant O'Level subjects, including English Language and Mathematics. \n",
    "3. Post-UTME:\n",
    "Eligible candidates participate in the university's online Post-UTME screening. \n",
    "4. Departmental Cut-off Marks:\n",
    "After the Post-UTME, the university determines departmental cut-off marks based on merit and overall performance\n",
    "(This can range from 200 to 320). \n",
    "5. Final Admission:\n",
    "Candidates who meet the departmental cut-off marks are offered admission. \n",
    "\n",
    "- Write a program to account for all of the conditions above, Such that when a user imputes all their required details, they are told if they will be legible for admission or not."
   ]
  }
 ],
 "metadata": {
  "kernelspec": {
   "display_name": "test_env",
   "language": "python",
   "name": "python3"
  },
  "language_info": {
   "codemirror_mode": {
    "name": "ipython",
    "version": 3
   },
   "file_extension": ".py",
   "mimetype": "text/x-python",
   "name": "python",
   "nbconvert_exporter": "python",
   "pygments_lexer": "ipython3",
   "version": "3.13.6"
  }
 },
 "nbformat": 4,
 "nbformat_minor": 5
}
