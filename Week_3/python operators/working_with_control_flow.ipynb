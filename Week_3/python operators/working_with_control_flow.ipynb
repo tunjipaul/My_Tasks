{
 "cells": [
  {
   "cell_type": "markdown",
   "id": "051b9746",
   "metadata": {},
   "source": [
    "### **Control Flow in Python**"
   ]
  },
  {
   "cell_type": "markdown",
   "id": "aee6a91c",
   "metadata": {},
   "source": [
    "- Control flow refers to the order in which statements are executed in a program.\n",
    "Instead of always running line by line, control flow allows your program to:\n",
    "\n",
    "    - Make decisions (choose one path or another, explore alternatives).\n",
    "\n",
    "    - Repeat actions (loops).\n",
    "\n",
    "    - Exit or skip parts of code.\n",
    "\n",
    "- It is the foundation for logic and problem solving in programming.\n",
    "- Control flow is divided into 3 parts"
   ]
  },
  {
   "cell_type": "markdown",
   "id": "edbd6bca",
   "metadata": {},
   "source": [
    "#### **A. Conditional Statements**\n",
    "\n",
    "1. `if` Statement\n",
    "\n",
    "- Executes a block only when a condition is true."
   ]
  },
  {
   "cell_type": "code",
   "execution_count": 3,
   "id": "09fd2d2e",
   "metadata": {},
   "outputs": [
    {
     "name": "stdout",
     "output_type": "stream",
     "text": [
      "You are eligible to vote\n"
     ]
    }
   ],
   "source": [
    "age = 20\n",
    "if age >= 18:\n",
    "    print(\"You are eligible to vote\")"
   ]
  },
  {
   "cell_type": "markdown",
   "id": "b638da4d",
   "metadata": {},
   "source": [
    "**Some usecases**\n",
    "\n",
    "- Checking for eligibility.\n",
    "\n",
    "- Validating login attempts.\n",
    "\n",
    "- Ensuring a minimum purchase requirement, etc."
   ]
  },
  {
   "cell_type": "markdown",
   "id": "36afcbc6",
   "metadata": {},
   "source": [
    "2. `if-else` Statement\n",
    "\n",
    "- Provides two alternative paths."
   ]
  },
  {
   "cell_type": "code",
   "execution_count": 4,
   "id": "acb215cb",
   "metadata": {},
   "outputs": [
    {
     "name": "stdout",
     "output_type": "stream",
     "text": [
      "Insufficient balance\n"
     ]
    }
   ],
   "source": [
    "wallet = 400\n",
    "price = 500\n",
    "\n",
    "if wallet >= price:\n",
    "    print(\"Purchase successful\")\n",
    "else:\n",
    "    print(\"Insufficient balance\")"
   ]
  },
  {
   "cell_type": "markdown",
   "id": "98605552",
   "metadata": {},
   "source": [
    "**Some usecases**\n",
    "\n",
    "- Deciding success or failure of a payment.\n",
    "\n",
    "- Granting or denying access to a system.\n",
    "\n",
    "- Determining pass/fail in an exam, etc."
   ]
  },
  {
   "cell_type": "markdown",
   "id": "1c7550b5",
   "metadata": {},
   "source": [
    "3. `if-elif-else` Statement\n",
    "- Used for multiple conditions."
   ]
  },
  {
   "cell_type": "code",
   "execution_count": 5,
   "id": "9e7821fe",
   "metadata": {},
   "outputs": [
    {
     "name": "stdout",
     "output_type": "stream",
     "text": [
      "Grade A\n"
     ]
    }
   ],
   "source": [
    "score = 85\n",
    "if score >= 70:\n",
    "    print(\"Grade A\")\n",
    "elif score >= 50:\n",
    "    print(\"Grade B\")\n",
    "else:\n",
    "    print(\"Grade C\")\n"
   ]
  },
  {
   "cell_type": "markdown",
   "id": "4cea5cc6",
   "metadata": {},
   "source": [
    "**Some usecases**\n",
    "- Student grading systems.\n",
    "\n",
    "- Assigning ticket categories (VIP, Regular, Student).\n",
    "\n",
    "- Categorizing temperatures (Hot, Warm, Cold), etc."
   ]
  },
  {
   "cell_type": "markdown",
   "id": "b0b39f8d",
   "metadata": {},
   "source": [
    "4. Nested if\n",
    "- Placing an `if` inside another `if`."
   ]
  },
  {
   "cell_type": "code",
   "execution_count": 6,
   "id": "2c4df0ab",
   "metadata": {},
   "outputs": [
    {
     "name": "stdout",
     "output_type": "stream",
     "text": [
      "You can vote\n"
     ]
    }
   ],
   "source": [
    "age = 19\n",
    "citizen = True\n",
    "\n",
    "if age >= 18:\n",
    "    if citizen:\n",
    "        print(\"You can vote\")\n",
    "    else:\n",
    "        print(\"You must be a citizen to vote\")\n",
    "else:\n",
    "    print(\"Too young to vote\")\n"
   ]
  },
  {
   "cell_type": "markdown",
   "id": "61a022f2",
   "metadata": {},
   "source": [
    "**Some usecases**\n",
    "\n",
    "- Voting eligibility (age + citizenship).\n",
    "\n",
    "- Banking (account active + balance sufficient).\n",
    "\n",
    "- School admission (age + grade level)."
   ]
  },
  {
   "cell_type": "markdown",
   "id": "64f8c0ff",
   "metadata": {},
   "source": [
    "#### **B. Loops**"
   ]
  },
  {
   "cell_type": "markdown",
   "id": "ac807d55",
   "metadata": {},
   "source": [
    "**1. `for` loop**\n",
    "- This is used for iterating over a sequence (strings, list, tuple, dictionary)"
   ]
  },
  {
   "cell_type": "code",
   "execution_count": 7,
   "id": "2c06ef8b",
   "metadata": {},
   "outputs": [
    {
     "name": "stdout",
     "output_type": "stream",
     "text": [
      "I like apple\n",
      "I like banana\n",
      "I like orange\n"
     ]
    }
   ],
   "source": [
    "# Iterates through each element in a LIST.\n",
    "\n",
    "fruits = [\"apple\", \"banana\", \"orange\"]\n",
    "for fruit in fruits:\n",
    "    print(f\"I like {fruit}\")\n",
    "\n",
    "\n",
    "## Some usecases\n",
    "# Iterating through shopping lists.\n",
    "\n",
    "# Checking availability of products.\n",
    "\n",
    "# Displaying student names, etc.\n",
    "\n"
   ]
  },
  {
   "cell_type": "code",
   "execution_count": 8,
   "id": "14b81f4c",
   "metadata": {},
   "outputs": [
    {
     "name": "stdout",
     "output_type": "stream",
     "text": [
      "Point: 0.34654\n",
      "Point: -0.48585\n",
      "Point: 0.57477\n"
     ]
    }
   ],
   "source": [
    "# Iterates through each element in a TUPLE.This Works like lists, but remember that tuples are immutable.\n",
    "\n",
    "coordinates = (0.34654, -0.48585, 0.57477)\n",
    "for point in coordinates:\n",
    "    print(f\"Point: {point}\")\n",
    "\n",
    "## Some usecases\n",
    "# Storing fixed sensor readings.\n",
    "# Displaying fixed seating positions, etc.\n"
   ]
  },
  {
   "cell_type": "code",
   "execution_count": 9,
   "id": "2f5d2bb2",
   "metadata": {},
   "outputs": [
    {
     "name": "stdout",
     "output_type": "stream",
     "text": [
      "name: Tunde\n",
      "age: 16\n",
      "grade: A\n"
     ]
    }
   ],
   "source": [
    "# Iterates through each element in a DICTIONARY. Remember that dictionaries have key-value pairs.\n",
    "\n",
    "student = {\"name\": \"Tunde\", \"age\": 16, \"grade\": \"A\"}\n",
    "for key, value in student.items():\n",
    "    print(f\"{key}: {value}\")\n",
    "\n",
    "## Some usecases\n",
    "\n",
    "# Reading database records.\n",
    "\n",
    "# Showing user profile details.\n",
    "\n",
    "# Checking configuration settings, etc.\n"
   ]
  },
  {
   "cell_type": "code",
   "execution_count": 10,
   "id": "7c6d459c",
   "metadata": {},
   "outputs": [
    {
     "name": "stdout",
     "output_type": "stream",
     "text": [
      "P\n",
      "Y\n",
      "T\n",
      "H\n",
      "O\n",
      "N\n"
     ]
    }
   ],
   "source": [
    "# Iterates through each element in a STRING. Remember that strings are sequences of characters.\n",
    "\n",
    "word = \"PYTHON\"\n",
    "for char in word:\n",
    "    print(char)\n",
    "\n",
    "## Some usecases\n",
    "\n",
    "# Counting vowels/consonants.\n",
    "\n",
    "# Password validation (checking digits/special chars).\n",
    "\n",
    "# Text analysis, etc.\n"
   ]
  },
  {
   "cell_type": "markdown",
   "id": "f921e69f",
   "metadata": {},
   "source": [
    "**2. `While` loop**\n",
    "\n",
    "- A while loop is used to repeatedly execute a block of code **as long as a given condition is true.**\n",
    "Unlike the for loop (which iterates over sequences like lists, tuples, etc.), the while loop is condition-based.\n",
    "\n",
    "```\n",
    "while condition:\n",
    "    # code block\n",
    "```\n",
    "\n",
    "- The condition must evaluate to `True` for the loop to continue running.\n",
    "\n",
    "- When the condition becomes `False`, the loop stops."
   ]
  },
  {
   "cell_type": "code",
   "execution_count": 11,
   "id": "8a2ea1a6",
   "metadata": {},
   "outputs": [
    {
     "name": "stdout",
     "output_type": "stream",
     "text": [
      "Number: 1\n",
      "Number: 2\n",
      "Number: 3\n",
      "Number: 4\n",
      "Number: 5\n"
     ]
    }
   ],
   "source": [
    "# Using while loop\n",
    "\n",
    "## Documenting my thoughts##\n",
    "# Let the loop start with count = 1\n",
    "# Let it keep printing until count is greater than 5\n",
    "# Let the loop terminate when the condition is no longer true\n",
    "\n",
    "## My code\n",
    "count = 1\n",
    "while count <= 5:\n",
    "    print(\"Number:\", count)\n",
    "    count += 1\n"
   ]
  },
  {
   "cell_type": "code",
   "execution_count": 12,
   "id": "9039137f",
   "metadata": {},
   "outputs": [
    {
     "name": "stdout",
     "output_type": "stream",
     "text": [
      "1 2 3 4 5 6 7 8 9 10 "
     ]
    }
   ],
   "source": [
    "# Incrementing with `while`\n",
    "\n",
    "num = 1\n",
    "while num <= 10:\n",
    "    print(num, end=\" \")\n",
    "    num += 1\n"
   ]
  },
  {
   "cell_type": "code",
   "execution_count": 13,
   "id": "03302501",
   "metadata": {},
   "outputs": [
    {
     "name": "stdout",
     "output_type": "stream",
     "text": [
      "Countdown: 10\n",
      "Countdown: 9\n",
      "Countdown: 8\n",
      "Countdown: 7\n",
      "Countdown: 6\n",
      "Countdown: 5\n",
      "Countdown: 4\n",
      "Countdown: 3\n",
      "Countdown: 2\n",
      "Countdown: 1\n"
     ]
    }
   ],
   "source": [
    "# Decrementing with `while`\n",
    "\n",
    "timer = 10\n",
    "while timer > 0:\n",
    "    print(\"Countdown:\", timer)\n",
    "    timer -= 1"
   ]
  },
  {
   "cell_type": "code",
   "execution_count": null,
   "id": "f2bc90c8",
   "metadata": {},
   "outputs": [],
   "source": [
    "# While with User Input\n",
    "## Keep asking until the user enters a correct password.\n",
    "\n",
    "password = \"\"\n",
    "while password != \"python123\":\n",
    "    password = input(\"Enter the password: \")\n",
    "\n",
    "print(\"Access Granted!\")\n"
   ]
  },
  {
   "cell_type": "markdown",
   "id": "af634429",
   "metadata": {},
   "source": [
    "**Understanding `while True`**\n",
    "\n",
    "- The while True: loop is an infinite loop — it keeps running forever until you explicitly stop it with a break statement or by exiting the program.\n",
    "\n",
    "- It is commonly used when:\n",
    "\n",
    "- You don’t know in advance how many times you want the loop to run.\n",
    "\n",
    "- You want to keep asking the user for input until a valid condition is met.\n",
    "\n",
    "- You are building continuous programs like menus, login systems, or simulations.\n",
    "\n",
    "\n",
    "```\n",
    "while True:\n",
    "    # Code block\n",
    "    # Must include a break statement to stop\n",
    "\n",
    "```"
   ]
  },
  {
   "cell_type": "code",
   "execution_count": null,
   "id": "c16ca5a5",
   "metadata": {},
   "outputs": [],
   "source": [
    "# Keep asking the user for a name until they type \"exit\".\n",
    "\n",
    "while True:\n",
    "    name = input(\"Enter your name (type 'exit' to quit): \")\n",
    "    if name.lower() == \"exit\":\n",
    "        print(\"Goodbye!\")\n",
    "        break\n",
    "    print(f\"Hello, {name}\")\n",
    "\n",
    "# ---> I used `break` here. If you dont know what it is or what it is doing, its OK. I will explain it next...\n",
    "\n",
    "## Useful in chat-like applications, forms, or data entry programs where users may input multiple times until they decide to stop."
   ]
  },
  {
   "cell_type": "markdown",
   "id": "77f6ce8e",
   "metadata": {},
   "source": [
    "#### **Loop Control Statements (`break`, `continue` and `pass`)**\n"
   ]
  },
  {
   "cell_type": "markdown",
   "id": "d653157d",
   "metadata": {},
   "source": [
    "- These keywords help us control the behavior of loops (for and while). Instead of loops always running all iterations, we can skip steps, stop early, or do nothing intentionally."
   ]
  },
  {
   "cell_type": "markdown",
   "id": "73926aa0",
   "metadata": {},
   "source": [
    "**1. break**\n",
    "- Stops loop immediately. It is used if a condition is met and there’s no need to continue looping."
   ]
  },
  {
   "cell_type": "code",
   "execution_count": null,
   "id": "1cb387fa",
   "metadata": {},
   "outputs": [],
   "source": [
    "for num in range(1, 10):\n",
    "    if num == 5:\n",
    "        break\n",
    "    print(num)\n",
    "\n",
    "#The loop stops completely when num == 5.\n",
    "\n",
    "# Stop searching when an item is found.\n",
    "\n",
    "# Exit when user input matches a condition.\n",
    "\n",
    "# Prevent unnecessary iterations."
   ]
  },
  {
   "cell_type": "markdown",
   "id": "9449ce44",
   "metadata": {},
   "source": [
    "**2. Continue**\n",
    "- Skips the current iteration and moves to the next one. It is used if you want to ignore some values but keep the loop running."
   ]
  },
  {
   "cell_type": "code",
   "execution_count": null,
   "id": "a98706f6",
   "metadata": {},
   "outputs": [],
   "source": [
    "for num in range(1, 6):\n",
    "    if num == 3:\n",
    "        continue\n",
    "    print(num)\n",
    "\n",
    "# 3 is skipped, but the loop continues.\n",
    "\n",
    "## Some usecases\n",
    "\n",
    "#Skip invalid data.\n",
    "\n",
    "#Ignore unwanted characters (like spaces in a string).\n",
    "\n",
    "#Continue running but avoid certain cases, etc.\n"
   ]
  },
  {
   "cell_type": "markdown",
   "id": "6c44d4a5",
   "metadata": {},
   "source": [
    "**3. Pass**\n",
    "- Does nothing. A placeholder to avoid errors. It is used If you haven’t written the code yet but want to keep the structure."
   ]
  },
  {
   "cell_type": "code",
   "execution_count": null,
   "id": "69ade7fe",
   "metadata": {},
   "outputs": [],
   "source": [
    "for num in range(1, 6):\n",
    "    if num == 3:\n",
    "        pass   # do nothing for now\n",
    "    else:\n",
    "        print(num)\n",
    "\n",
    "# At num == 3, Python executes pass (nothing happens).\n",
    "\n",
    "## Some usecases\n",
    "\n",
    "# Writing code structure (to fill in later).\n",
    "\n",
    "# Placeholders in class/method definitions.\n",
    "\n",
    "# Temporarily disable parts of code."
   ]
  },
  {
   "cell_type": "markdown",
   "id": "84d7d5a4",
   "metadata": {},
   "source": [
    "**Lets try while True again**"
   ]
  },
  {
   "cell_type": "code",
   "execution_count": null,
   "id": "efaf0304",
   "metadata": {},
   "outputs": [
    {
     "name": "stdout",
     "output_type": "stream",
     "text": [
      "\n",
      "Menu:\n",
      "1. Say Hello\n",
      "2. Say Goodbye\n",
      "3. Exit\n"
     ]
    }
   ],
   "source": [
    "# Try and think through this...\n",
    "\n",
    "while True:\n",
    "    print(\"\\nMenu:\")\n",
    "    print(\"1. Say Hello\")\n",
    "    print(\"2. Say Goodbye\")\n",
    "    print(\"3. Exit\")\n",
    "    \n",
    "    choice = input(\"Choose an option: \")\n",
    "    \n",
    "    if choice == \"1\":\n",
    "        print(\"Hello\")\n",
    "    elif choice == \"2\":\n",
    "        print(\"Goodbye\")\n",
    "    elif choice == \"3\":\n",
    "        print(\"Exiting program...\")\n",
    "        break\n",
    "    else:\n",
    "        print(\"Invalid choice. Try again.\")\n"
   ]
  },
  {
   "cell_type": "code",
   "execution_count": null,
   "id": "b024ce89",
   "metadata": {},
   "outputs": [],
   "source": [
    "# Try and use while True for validation\n",
    "\n",
    "while True:\n",
    "    age = input(\"Enter your age: \")\n",
    "    if age.isdigit():\n",
    "        print(f\"Your age is {age}\")\n",
    "        break\n",
    "    else:\n",
    "        print(\"Invalid input. Please enter a number.\")\n"
   ]
  },
  {
   "cell_type": "code",
   "execution_count": null,
   "id": "95f29190",
   "metadata": {},
   "outputs": [],
   "source": [
    "# LEets make a guess\n",
    "\n",
    "secret = \"python\"\n",
    "\n",
    "while True:\n",
    "    guess = input(\"Guess the secret word: \")\n",
    "    if guess.lower() == secret:\n",
    "        print(\"Correct! You guessed the word.\")\n",
    "        break\n",
    "    else:\n",
    "        print(\"Wrong! Try again.\")\n"
   ]
  },
  {
   "cell_type": "code",
   "execution_count": null,
   "id": "017cd11c",
   "metadata": {},
   "outputs": [],
   "source": [
    "# Do you remember this?\n",
    "\n",
    "balance = 1000  \n",
    "\n",
    "while True:\n",
    "    print(\"\\nATM Menu:\")\n",
    "    print(\"1. Check Balance\")\n",
    "    print(\"2. Withdraw\")\n",
    "    print(\"3. Exit\")\n",
    "\n",
    "    choice = input(\"Enter choice: \")\n",
    "\n",
    "    if choice == \"1\":\n",
    "        print(f\"Your balance is: {balance}\")\n",
    "    elif choice == \"2\":\n",
    "        amount = int(input(\"Enter withdrawal amount: \"))\n",
    "        if amount <= balance:\n",
    "            balance -= amount\n",
    "            print(f\"Withdrawal successful. New balance: {balance}\")\n",
    "        else:\n",
    "            print(\"Insufficient funds.\")\n",
    "    elif choice == \"3\":\n",
    "        print(\"Thank you for using our ATM. Goodbye!\")\n",
    "        break\n",
    "    else:\n",
    "        print(\"Invalid option. Try again.\")\n"
   ]
  }
 ],
 "metadata": {
  "kernelspec": {
   "display_name": "test_env",
   "language": "python",
   "name": "python3"
  },
  "language_info": {
   "codemirror_mode": {
    "name": "ipython",
    "version": 3
   },
   "file_extension": ".py",
   "mimetype": "text/x-python",
   "name": "python",
   "nbconvert_exporter": "python",
   "pygments_lexer": "ipython3",
   "version": "3.13.7"
  }
 },
 "nbformat": 4,
 "nbformat_minor": 5
}
