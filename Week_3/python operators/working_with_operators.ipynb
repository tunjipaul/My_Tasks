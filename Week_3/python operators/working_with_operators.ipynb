{
 "cells": [
  {
   "cell_type": "markdown",
   "id": "8bc0d98b",
   "metadata": {},
   "source": [
    "### **Python Operators**"
   ]
  },
  {
   "cell_type": "markdown",
   "id": "a1f089a6",
   "metadata": {},
   "source": [
    "- Operators are special symbols in Python that perform operations on variables and values.\n",
    "Here we will focus on;\n",
    "\n",
    "  - Comparison Operators\n",
    "  \n",
    "  - Assignment Operators\n",
    "\n",
    "  - Logical Operators"
   ]
  },
  {
   "cell_type": "markdown",
   "id": "a99728b8",
   "metadata": {},
   "source": [
    "**Comparison Operators**\n",
    "- Comparison operators are used to compare two values. The result is always `True` or `False`."
   ]
  },
  {
   "cell_type": "markdown",
   "id": "61e24b9e",
   "metadata": {},
   "source": [
    "| Operator | Example  | Meaning                  |\n",
    "| -------- | -------- | ------------------------ |\n",
    "| `==`     | `5 == 5` | Equal to                 |\n",
    "| `!=`     | `5 != 3` | Not equal to             |\n",
    "| `>`      | `7 > 4`  | Greater than             |\n",
    "| `<`      | `3 < 8`  | Less than                |\n",
    "| `>=`     | `6 >= 6` | Greater than or equal to |\n",
    "| `<=`     | `2 <= 5` | Less than or equal to    |\n"
   ]
  },
  {
   "cell_type": "code",
   "execution_count": null,
   "id": "7684c1b9",
   "metadata": {},
   "outputs": [],
   "source": [
    "a = 10\n",
    "b = 20"
   ]
  },
  {
   "cell_type": "code",
   "execution_count": null,
   "id": "25af16bf",
   "metadata": {},
   "outputs": [],
   "source": [
    "print(a == b)   # False"
   ]
  },
  {
   "cell_type": "code",
   "execution_count": null,
   "id": "4f629764",
   "metadata": {},
   "outputs": [],
   "source": [
    "print(a != b)   # True"
   ]
  },
  {
   "cell_type": "code",
   "execution_count": null,
   "id": "c026c5b7",
   "metadata": {},
   "outputs": [],
   "source": [
    "print(a > b)    # False"
   ]
  },
  {
   "cell_type": "code",
   "execution_count": null,
   "id": "9577ff8a",
   "metadata": {},
   "outputs": [],
   "source": [
    "print(a < b)    # True"
   ]
  },
  {
   "cell_type": "code",
   "execution_count": null,
   "id": "1b7daf74",
   "metadata": {},
   "outputs": [],
   "source": [
    "print(a >= 10)  # True"
   ]
  },
  {
   "cell_type": "code",
   "execution_count": null,
   "id": "104f9412",
   "metadata": {},
   "outputs": [],
   "source": [
    "print(b <= 25)  # True"
   ]
  },
  {
   "cell_type": "code",
   "execution_count": null,
   "id": "8dda487b",
   "metadata": {},
   "outputs": [],
   "source": [
    "# Use case Example- Student Exam Result\n",
    "\n",
    "score = 75\n",
    "\n",
    "print(score >= 50)  # True (Passed)\n",
    "print(score < 50)   # False (Failed)\n",
    "print(score == 100) # False (Not full marks)\n"
   ]
  },
  {
   "cell_type": "markdown",
   "id": "d5846965",
   "metadata": {},
   "source": [
    "**Assignment Operators**\n",
    "- Assignment operators are used to assign values to variables. They can also combine an operation with assignment, so instead of writing `x = x + 5`, we can write x` += 5`."
   ]
  },
  {
   "cell_type": "markdown",
   "id": "cc556b77",
   "metadata": {},
   "source": [
    "| Operator | Example   | Meaning                         |\n",
    "| -------- | --------- | ------------------------------- |\n",
    "| `=`      | `x = 10`  | Assigns value 10 to `x`         |\n",
    "| `+=`     | `x += 5`  | Adds 5 to `x` (`x = x + 5`)     |\n",
    "| `-=`     | `x -= 3`  | Subtracts 3 from `x`            |\n",
    "| `*=`     | `x *= 2`  | Multiplies `x` by 2             |\n",
    "| `/=`     | `x /= 4`  | Divides `x` by 4                |\n",
    "| `%=`     | `x %= 3`  | Stores remainder after division |\n",
    "| `**=`    | `x **= 2` | Raises `x` to the power of 2    |\n",
    "| `//=`    | `x //= 2` | Floor divides `x` by 2          |\n"
   ]
  },
  {
   "cell_type": "code",
   "execution_count": null,
   "id": "bfb96391",
   "metadata": {},
   "outputs": [],
   "source": [
    "x = 10\n",
    "print(\"Initial value:\", x)"
   ]
  },
  {
   "cell_type": "code",
   "execution_count": null,
   "id": "e7099932",
   "metadata": {},
   "outputs": [],
   "source": [
    "x += 5\n",
    "print(\"After x += 5:\", x)"
   ]
  },
  {
   "cell_type": "code",
   "execution_count": null,
   "id": "9688fa9f",
   "metadata": {},
   "outputs": [],
   "source": [
    "x -= 2\n",
    "print(\"After x -= 2:\", x)"
   ]
  },
  {
   "cell_type": "code",
   "execution_count": null,
   "id": "77cf1865",
   "metadata": {},
   "outputs": [],
   "source": [
    "x *= 3\n",
    "print(\"After x *= 3:\", x)"
   ]
  },
  {
   "cell_type": "code",
   "execution_count": null,
   "id": "a5d1affd",
   "metadata": {},
   "outputs": [],
   "source": [
    "x /= 4\n",
    "print(\"After x /= 4:\", x)"
   ]
  },
  {
   "cell_type": "code",
   "execution_count": null,
   "id": "d839cbcc",
   "metadata": {},
   "outputs": [],
   "source": [
    "x %= 3\n",
    "print(\"After x %= 3:\", x)"
   ]
  },
  {
   "cell_type": "code",
   "execution_count": null,
   "id": "ceba6190",
   "metadata": {},
   "outputs": [],
   "source": [
    "x = 4\n",
    "x **= 2\n",
    "print(\"After x **= 2:\", x)"
   ]
  },
  {
   "cell_type": "code",
   "execution_count": null,
   "id": "4ab19193",
   "metadata": {},
   "outputs": [],
   "source": [
    "x //= 3\n",
    "print(\"After x //= 3:\", x)"
   ]
  },
  {
   "cell_type": "code",
   "execution_count": null,
   "id": "a14f2253",
   "metadata": {},
   "outputs": [],
   "source": [
    "# Use case Example:\n",
    "\n",
    "# Define variables\n",
    "balance = 1000\n",
    "deposit = 200\n",
    "withdraw = 150\n",
    "\n",
    "\n",
    "balance += deposit   # Add deposit\n",
    "balance -= withdraw  # Subtract withdrawal\n",
    "\n",
    "print(\"Updated Balance:\", balance)  \n",
    "# Output: Updated Balance: 1050\n"
   ]
  },
  {
   "cell_type": "markdown",
   "id": "38b1103d",
   "metadata": {},
   "source": [
    "**Logical Operators**\n",
    "- Logical operators are used to combine conditional statements. They work with Boolean values (True or False)."
   ]
  },
  {
   "cell_type": "markdown",
   "id": "84c73326",
   "metadata": {},
   "source": [
    "| Operator | Example            | Meaning                                |\n",
    "| -------- | ------------------ | -------------------------------------- |\n",
    "| `and`    | `x > 5 and x < 15` | True if both conditions are true       |\n",
    "| `or`     | `x < 5 or x > 20`  | True if at least one condition is true |\n",
    "| `not`    | `not(x == 10)`     | True if the condition is false         |\n"
   ]
  },
  {
   "cell_type": "code",
   "execution_count": null,
   "id": "f13375c1",
   "metadata": {},
   "outputs": [],
   "source": [
    "x = 10\n",
    "y = 20"
   ]
  },
  {
   "cell_type": "code",
   "execution_count": null,
   "id": "26ed519d",
   "metadata": {},
   "outputs": [],
   "source": [
    "# and operator\n",
    "print(x > 5 and y > 15)  # True"
   ]
  },
  {
   "cell_type": "code",
   "execution_count": null,
   "id": "be580609",
   "metadata": {},
   "outputs": [],
   "source": [
    "# or operator\n",
    "print(x < 5 or y > 15)   # True"
   ]
  },
  {
   "cell_type": "code",
   "execution_count": null,
   "id": "458b6e5d",
   "metadata": {},
   "outputs": [],
   "source": [
    "# not operator\n",
    "print(not(x == 10))      # False"
   ]
  },
  {
   "cell_type": "code",
   "execution_count": null,
   "id": "406b0141",
   "metadata": {},
   "outputs": [],
   "source": [
    "# Use case example1 - Scholarship Eligibility\n",
    "\n",
    "#Define variables\n",
    "age = 17\n",
    "score = 85\n",
    "\n",
    "# Must be younger than 18 AND score above 80\n",
    "eligible = (age < 18) and (score > 80)\n",
    "\n",
    "print(\"Scholarship Eligible:\", eligible)  \n",
    "# Output: Scholarship Eligible: True"
   ]
  },
  {
   "cell_type": "code",
   "execution_count": null,
   "id": "bd877075",
   "metadata": {},
   "outputs": [],
   "source": [
    "# Use case example2 - Event Access\n",
    "age = 22\n",
    "has_ticket = False\n",
    "\n",
    "can_enter = (age >= 18) and (has_ticket or age < 25)\n",
    "\n",
    "print(\"Access Granted:\", can_enter)  \n",
    "# Output: Access Granted: True (because age < 25 even without ticket)"
   ]
  }
 ],
 "metadata": {
  "kernelspec": {
   "display_name": "test_env",
   "language": "python",
   "name": "python3"
  },
  "language_info": {
   "name": "python",
   "version": "3.13.6"
  }
 },
 "nbformat": 4,
 "nbformat_minor": 5
}
