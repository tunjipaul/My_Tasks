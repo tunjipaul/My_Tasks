{
 "cells": [
  {
   "cell_type": "markdown",
   "id": "87144e80",
   "metadata": {},
   "source": [
    "### **Handling Errors in Python**"
   ]
  },
  {
   "cell_type": "markdown",
   "id": "5f40868c",
   "metadata": {},
   "source": [
    "- Errors in Python are classified into three main categories:\n",
    "\n",
    "1. Syntax Errors\n",
    "\n",
    "2. Runtime Errors\n",
    "\n",
    "3. Semantic Errors\n",
    "\n",
    "- Each category has its own characteristics, subtypes, and ways to handle them."
   ]
  },
  {
   "cell_type": "markdown",
   "id": "8cfcb635",
   "metadata": {},
   "source": [
    "#### **1. Syntax Errors**"
   ]
  },
  {
   "cell_type": "markdown",
   "id": "c410dc92",
   "metadata": {},
   "source": [
    "- It occur when the Python interpreter cannot understand your code because it breaks Python grammar rules.\n",
    "\n",
    " - *Please note that Program will not run until the error is fixed.*"
   ]
  },
  {
   "cell_type": "markdown",
   "id": "b4a1940b",
   "metadata": {},
   "source": [
    "**Common Subtypes of Syntax Errors**"
   ]
  },
  {
   "cell_type": "markdown",
   "id": "9a9957ad",
   "metadata": {},
   "source": [
    "**a. IndentationError – Incorrect spacing**"
   ]
  },
  {
   "cell_type": "code",
   "execution_count": 2,
   "id": "87fc9e99",
   "metadata": {},
   "outputs": [
    {
     "ename": "IndentationError",
     "evalue": "expected an indented block after 'for' statement on line 1 (1724303382.py, line 2)",
     "output_type": "error",
     "traceback": [
      "  \u001b[36mCell\u001b[39m\u001b[36m \u001b[39m\u001b[32mIn[2]\u001b[39m\u001b[32m, line 2\u001b[39m\n\u001b[31m    \u001b[39m\u001b[31mprint(i)   # Wrong indentation\u001b[39m\n    ^\n\u001b[31mIndentationError\u001b[39m\u001b[31m:\u001b[39m expected an indented block after 'for' statement on line 1\n"
     ]
    }
   ],
   "source": [
    "for i in range(3):\n",
    "print(i)   # Wrong indentation\n",
    "\n",
    "# This will through error except you fix the indentation"
   ]
  },
  {
   "cell_type": "markdown",
   "id": "2d98db1e",
   "metadata": {},
   "source": [
    "**b. Missing Colon/Parenthesis Error**"
   ]
  },
  {
   "cell_type": "code",
   "execution_count": null,
   "id": "e764b40e",
   "metadata": {},
   "outputs": [],
   "source": [
    "if 5 > 3   # Missing colon\n",
    "    print(\"Hello\")\n",
    "\n"
   ]
  },
  {
   "cell_type": "markdown",
   "id": "4d7311d7",
   "metadata": {},
   "source": [
    "**c. Invalid Syntax – General grammar mistakes.**"
   ]
  },
  {
   "cell_type": "code",
   "execution_count": null,
   "id": "baf6122e",
   "metadata": {},
   "outputs": [],
   "source": [
    "print \"Hello\"   # Missing parentheses in Python 3\n"
   ]
  },
  {
   "cell_type": "markdown",
   "id": "12b8dcc1",
   "metadata": {},
   "source": [
    "- *To Fix: Double check Python grammar, colons, parentheses, and indentation.*"
   ]
  },
  {
   "cell_type": "markdown",
   "id": "cff0fb1a",
   "metadata": {},
   "source": [
    "#### **2. Runtime Errors**"
   ]
  },
  {
   "cell_type": "markdown",
   "id": "de270aa7",
   "metadata": {},
   "source": [
    "- The program is syntactically correct, but an error occurs while it is running.\n",
    "\n",
    "- These are also called exceptions.\n",
    "\n",
    "- They can be handled with `try`, `except`, and `finally`."
   ]
  },
  {
   "cell_type": "markdown",
   "id": "016a783e",
   "metadata": {},
   "source": [
    "**Common Subtypes of Runtime Errors**"
   ]
  },
  {
   "cell_type": "markdown",
   "id": "c90b1965",
   "metadata": {},
   "source": [
    "**a. ZeroDivisionError – Dividing by zero.**\n"
   ]
  },
  {
   "cell_type": "code",
   "execution_count": null,
   "id": "728cf6f8",
   "metadata": {},
   "outputs": [],
   "source": [
    "x = 10 / 0   # This will throw error\n"
   ]
  },
  {
   "cell_type": "markdown",
   "id": "c2b15c0c",
   "metadata": {},
   "source": [
    "**b. NameError – Using a variable before defining it.**"
   ]
  },
  {
   "cell_type": "code",
   "execution_count": null,
   "id": "c220d546",
   "metadata": {},
   "outputs": [],
   "source": [
    "print(age)   # age not defined\n"
   ]
  },
  {
   "cell_type": "markdown",
   "id": "a90d889a",
   "metadata": {},
   "source": [
    "**c. TypeError – Wrong data type in an operation.**"
   ]
  },
  {
   "cell_type": "code",
   "execution_count": null,
   "id": "111f0f1c",
   "metadata": {},
   "outputs": [],
   "source": [
    "result = \"10\" + 5   # str + int not allowed\n"
   ]
  },
  {
   "cell_type": "markdown",
   "id": "f1cefee3",
   "metadata": {},
   "source": [
    "**d. ValueError – Invalid value for a function.**"
   ]
  },
  {
   "cell_type": "code",
   "execution_count": null,
   "id": "f7c5762f",
   "metadata": {},
   "outputs": [],
   "source": [
    "number = int(\"abc\")   # cannot convert string to int\n"
   ]
  },
  {
   "cell_type": "markdown",
   "id": "214cb282",
   "metadata": {},
   "source": [
    "**e. IndexError – Accessing list index out of range.**"
   ]
  },
  {
   "cell_type": "code",
   "execution_count": null,
   "id": "3ae272fa",
   "metadata": {},
   "outputs": [],
   "source": [
    "fruits = [\"apple\", \"banana\"]\n",
    "print(fruits[3])   # Index out of range\n"
   ]
  },
  {
   "cell_type": "markdown",
   "id": "516c63a9",
   "metadata": {},
   "source": [
    "**f. KeyError – Accessing a dictionary with a missing key.**"
   ]
  },
  {
   "cell_type": "code",
   "execution_count": null,
   "id": "a7944d7d",
   "metadata": {},
   "outputs": [],
   "source": [
    "data = {\"name\": \"Ada\"}\n",
    "print(data[\"age\"])   # Key not found\n"
   ]
  },
  {
   "cell_type": "markdown",
   "id": "56396598",
   "metadata": {},
   "source": [
    "**g. FileNotFoundError – File does not exist.**"
   ]
  },
  {
   "cell_type": "code",
   "execution_count": null,
   "id": "0e6404df",
   "metadata": {},
   "outputs": [],
   "source": [
    "f = open(\"missing.txt\")   # File not found\n"
   ]
  },
  {
   "cell_type": "markdown",
   "id": "591e24e7",
   "metadata": {},
   "source": [
    "**Handling Runtime Errors**"
   ]
  },
  {
   "cell_type": "markdown",
   "id": "dbc0c3a3",
   "metadata": {},
   "source": [
    "- Python provides exception handling to prevent programs from crashing when unexpected errors occur.\n",
    "\n",
    "The keywords used are;\n",
    "\n",
    " - a.`try` – block of code to test for errors.\n",
    "\n",
    " - b. `except` – block of code that runs if an error occurs.\n",
    "\n",
    " - c . `finally` – block of code that always runs (whether error occurs or not)."
   ]
  },
  {
   "cell_type": "markdown",
   "id": "d1b1e293",
   "metadata": {},
   "source": [
    "**The `try` Block**\n",
    "\n",
    "- It is used to wrap code that might raise an error.\n",
    "\n",
    "- If no error occurs Python skips the except block."
   ]
  },
  {
   "cell_type": "code",
   "execution_count": null,
   "id": "be1bea73",
   "metadata": {},
   "outputs": [],
   "source": [
    "try:\n",
    "    x = 10 / 2\n",
    "    print(\"Result:\", x)\n"
   ]
  },
  {
   "cell_type": "markdown",
   "id": "a75e24d5",
   "metadata": {},
   "source": [
    "**The `except` Block**\n",
    "\n",
    "- It defines what to do if an error occurs inside try.\n",
    "\n",
    "- It can catch specific errors or all errors."
   ]
  },
  {
   "cell_type": "code",
   "execution_count": null,
   "id": "55b7bf9f",
   "metadata": {},
   "outputs": [],
   "source": [
    "# This is a specific exception\n",
    "\n",
    "try:\n",
    "    x = 10 / 0\n",
    "except ZeroDivisionError:\n",
    "    print(\"Cannot divide by zero.\")\n"
   ]
  },
  {
   "cell_type": "code",
   "execution_count": null,
   "id": "1e2e3934",
   "metadata": {},
   "outputs": [],
   "source": [
    "# This is a case of multiple exception\n",
    "\n",
    "try:\n",
    "    number = int(\"abc\")   # ValueError\n",
    "    result = 10 / 0       # ZeroDivisionError\n",
    "\n",
    "except ValueError:\n",
    "    print(\"Invalid conversion to integer.\")\n",
    "\n",
    "except ZeroDivisionError:\n",
    "    print(\" Cannot divide by zero.\")\n"
   ]
  },
  {
   "cell_type": "markdown",
   "id": "af605fa5",
   "metadata": {},
   "source": [
    "**The `finally` Block**\n",
    "\n",
    "- Always runs, whether an error occurred or not.\n",
    "\n",
    "- Useful for cleanup tasks (e.g., closing files, releasing resources)."
   ]
  },
  {
   "cell_type": "code",
   "execution_count": null,
   "id": "8bcc7798",
   "metadata": {},
   "outputs": [],
   "source": [
    "# IF you don't understand this line of code now, It's Ok. But make sure you come back to it once we are done the *File Handling**.\n",
    "\n",
    "try:\n",
    "    f = open(\"sample.txt\", \"r\")\n",
    "    content = f.read()\n",
    "\n",
    "except FileNotFoundError:\n",
    "    print(\"File not found.\")\n",
    "\n",
    "finally:\n",
    "    print(\"Closing file if it was opened.\")"
   ]
  },
  {
   "cell_type": "code",
   "execution_count": null,
   "id": "ecd6ba5b",
   "metadata": {},
   "outputs": [],
   "source": [
    "# LEts have more example on the application of try-except-finally, but try to read in between the line for better understanding.\n",
    "\n",
    "\n",
    "balance = 5000  # starting balance\n",
    "\n",
    "print(\"Welcome to the ATM\")\n",
    "amount = input(\"Enter amount to withdraw: \")\n",
    "\n",
    "try:\n",
    "    amount = float(amount)  # convert input to number\n",
    "    \n",
    "    if amount > balance:\n",
    "        raise ValueError(\"Insufficient funds.\")\n",
    "    \n",
    "    balance -= amount\n",
    "    print(\"Withdrawal successful. New balance: ₦\", balance)\n",
    "\n",
    "except ValueError as e:\n",
    "    print(\"Error:\", e)\n",
    "\n",
    "except Exception as e:\n",
    "    print(\"Unexpected error:\", e)\n",
    "\n",
    "finally:\n",
    "    print(\"Transaction session closed.\")\n"
   ]
  },
  {
   "cell_type": "markdown",
   "id": "7e769f76",
   "metadata": {},
   "source": [
    "```\n",
    "# If user enters 2000\n",
    " - Withdrawal successful. New balance: ₦ 3000.0\n",
    " - Transaction session closed.\n",
    "\n",
    "```"
   ]
  },
  {
   "cell_type": "markdown",
   "id": "b9bec402",
   "metadata": {},
   "source": [
    "```\n",
    "# if user enters 6000\n",
    "\n",
    "- Error: Insufficient funds.\n",
    "- Transaction session closed.\n",
    "\n",
    "```"
   ]
  },
  {
   "cell_type": "markdown",
   "id": "65502d1a",
   "metadata": {},
   "source": [
    "```\n",
    "# if user enters abc\n",
    " - Error: could not convert string to float: 'abc'\n",
    " - Transaction session closed.\n",
    "\n",
    "```"
   ]
  },
  {
   "cell_type": "markdown",
   "id": "d2aa6eb6",
   "metadata": {},
   "source": [
    "#### **3. Semantic Errors**"
   ]
  },
  {
   "cell_type": "markdown",
   "id": "e876d825",
   "metadata": {},
   "source": [
    "- The code runs without crashing, but the output is logically wrong.\n",
    "\n",
    "- Hardest to detect because the interpreter sees no error.\n",
    "- Semantic errors are mostly logic mistakes, so subtypes are based on how the logic is wrong.\n",
    "- Note that semantic errors are not officially exceptions in Python, but they are real mistakes programmers make when the logic is wrong."
   ]
  },
  {
   "cell_type": "markdown",
   "id": "8a22e4eb",
   "metadata": {},
   "source": [
    "**Common Subtypes of Semantic Errors**"
   ]
  },
  {
   "cell_type": "code",
   "execution_count": null,
   "id": "5831205d",
   "metadata": {},
   "outputs": [],
   "source": [
    "# Wrong Condition in Logic\n",
    "\n",
    "age = 18\n",
    "if age > 18:   # Should be >=\n",
    "    print(\"Eligible to vote\")\n",
    "else:\n",
    "    print(\"Not eligible\")\n",
    "\n",
    "\n",
    "# output: Not eligible (wrong result)"
   ]
  },
  {
   "cell_type": "code",
   "execution_count": null,
   "id": "64facdee",
   "metadata": {},
   "outputs": [],
   "source": [
    "# Wrong Formula/Computation\n",
    "\n",
    "length = 10\n",
    "width = 5\n",
    "area = length + width   # should be multiplication\n",
    "print(\"Area:\", area)\n",
    "\n",
    "# output: 15 (expected 50)"
   ]
  },
  {
   "cell_type": "code",
   "execution_count": null,
   "id": "e386ffc5",
   "metadata": {},
   "outputs": [],
   "source": [
    "# Wrong Variable Usage\n",
    "\n",
    "marks = [70, 80, 90]\n",
    "total = marks[0] * marks[1] * marks[2]   #  wrong, should be sum\n",
    "print(\"Total:\", total)\n"
   ]
  },
  {
   "cell_type": "markdown",
   "id": "83a66c9e",
   "metadata": {},
   "source": [
    "*To fix semantic errors carefully review logic, test with multiple cases, use debugging or print statements.*"
   ]
  }
 ],
 "metadata": {
  "kernelspec": {
   "display_name": "test_env",
   "language": "python",
   "name": "python3"
  },
  "language_info": {
   "codemirror_mode": {
    "name": "ipython",
    "version": 3
   },
   "file_extension": ".py",
   "mimetype": "text/x-python",
   "name": "python",
   "nbconvert_exporter": "python",
   "pygments_lexer": "ipython3",
   "version": "3.13.7"
  }
 },
 "nbformat": 4,
 "nbformat_minor": 5
}
