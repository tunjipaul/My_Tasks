{
 "cells": [
  {
   "cell_type": "markdown",
   "id": "3589eb6c",
   "metadata": {},
   "source": [
    "**Task1: Your Favorite Life Quote**\n",
    "- Ask the user to input their favorite quote.\n",
    "\n",
    "- Convert it to title case.\n",
    "\n",
    "- Print it with quotation marks using escape sequences."
   ]
  },
  {
   "cell_type": "markdown",
   "id": "a5f2e171",
   "metadata": {},
   "source": [
    "**Task 2: Shopping List Manager**\n",
    "- Create an empty list.\n",
    "\n",
    "- Ask the user to enter 3 shopping items (one by one).\n",
    "\n",
    "- Add them to the list.\n",
    "\n",
    "- Display the list as a single string, separated by commas."
   ]
  },
  {
   "cell_type": "markdown",
   "id": "8dcd0bd1",
   "metadata": {},
   "source": [
    "**Task 3: Word Counter**\n",
    "- Ask the user for a sentence.\n",
    "\n",
    "- Split the sentence into a list of words.\n",
    "\n",
    "- Print how many words are in the sentence."
   ]
  },
  {
   "cell_type": "markdown",
   "id": "a7038065",
   "metadata": {},
   "source": [
    "**Task 4: Name Organizer**\n",
    "- Ask the user to enter 5 names (separated by spaces).\n",
    "\n",
    "- Convert all names to lowercase.\n",
    "\n",
    "- Sort the list alphabetically.\n",
    "\n",
    "- Display them one name per line.\n",
    "  -Tips: use `range()`,`sort()`, `for`, `in`, `split()`, `len()`,`lower()` "
   ]
  },
  {
   "cell_type": "markdown",
   "id": "fa05187e",
   "metadata": {},
   "source": [
    "**Task 5: Student Score Tracker**\n",
    "\n",
    "- Ask the user for 3 student names.\n",
    "\n",
    "- For each student, ask for their score.\n",
    "\n",
    "- Store the results in two lists (one for names, one for scores).\n",
    "\n",
    "- Print a formatted output showing Name — Score, aligned neatly.\n",
    "  - Tips: You are to start by creating two empty lists."
   ]
  },
  {
   "cell_type": "markdown",
   "id": "34d5e91a",
   "metadata": {},
   "source": [
    "**Task 6: Word Analyzer**\n",
    "- Ask the user to input a word.\n",
    "\n",
    "- Print the length of the word.\n",
    "\n",
    "- Check if it is all uppercase, all lowercase, or title case.\n",
    "\n",
    "- Reverse the word using slicing."
   ]
  },
  {
   "cell_type": "markdown",
   "id": "75e20a93",
   "metadata": {},
   "source": [
    "**Task 7: List Manipulation**\n",
    "- Create a list of five cities.\n",
    "\n",
    "- Replace the third city with a new one (entered by the user).\n",
    "\n",
    "- Remove the last city.\n",
    "\n",
    "- Add a new city to the beginning of the list.\n",
    "\n",
    "- Print the updated list."
   ]
  }
 ],
 "metadata": {
  "language_info": {
   "name": "python"
  }
 },
 "nbformat": 4,
 "nbformat_minor": 5
}
