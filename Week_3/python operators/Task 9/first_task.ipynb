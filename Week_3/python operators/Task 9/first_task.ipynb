{
 "cells": [
  {
   "cell_type": "markdown",
   "id": "daa9bf83",
   "metadata": {},
   "source": [
    "### **Class Task2**"
   ]
  },
  {
   "cell_type": "markdown",
   "id": "6b9d36ce",
   "metadata": {},
   "source": [
    "Using only the topics that you have been taught as listed below.\n",
    " - input() statement\n",
    "\n",
    " - print() statement\n",
    "\n",
    " - f-strings\n",
    "\n",
    " - Concatenation\n",
    "\n",
    " - Escape sequences\n",
    "\n",
    " - Variables\n",
    "\n",
    " - Data types\n",
    "\n",
    " - Type casting"
   ]
  },
  {
   "cell_type": "markdown",
   "id": "c4c72bab",
   "metadata": {},
   "source": [
    "1. Collecting User Details\n",
    "  - Ask the user for their first name and age, then print a welcome message using an f-string.\n",
    "\n",
    "```\n",
    "# likely output\n",
    "\n",
    "Welcome Ade, you are 25 years old.\n",
    "\n",
    "```"
   ]
  },
  {
   "cell_type": "markdown",
   "id": "0dadf00f",
   "metadata": {},
   "source": [
    "2. Price Display with Type Casting\n",
    " - Ask the user for the price of garri per paint in naira (as a string) and convert it to float. Display it with a message showing the amount in naira and kobo using print()."
   ]
  },
  {
   "cell_type": "markdown",
   "id": "00b29347",
   "metadata": {},
   "source": [
    "3. School Registration Form\n",
    "- Ask for student’s name, class, and state of origin. Use string concatenation to print them in one sentence.\n",
    "\n",
    "```\n",
    "#likely output\n",
    "\n",
    "Student Ade is in SS2 and is from Ogun State.\n",
    "\n",
    "\n",
    "```"
   ]
  },
  {
   "cell_type": "markdown",
   "id": "4e1f2349",
   "metadata": {},
   "source": [
    "4. Escape Sequence \n",
    "- Ask for the name of a Nigerian dish and the state it is popular in. Print the result in two lines using `\\n` and add a tab space before the state name using `\\t`."
   ]
  },
  {
   "cell_type": "markdown",
   "id": "d9f4e3e6",
   "metadata": {},
   "source": [
    "5. Daily Market Report\n",
    "Ask the user to input:\n",
    " - Market name\n",
    " - Number of traders\n",
    " - Daily revenue in naira\n",
    "- Display the result using f-string formatting with commas for thousands separator."
   ]
  },
  {
   "cell_type": "markdown",
   "id": "2319c707",
   "metadata": {},
   "source": [
    "6. Electricity Bill Formatter\n",
    " - Ask for:\n",
    "   - Customer’s full name\n",
    "   - Units consumed (kWh) – integer\n",
    "   - Cost per unit – float\n",
    "- Calculate the total bill and print it in a neatly formatted receipt using escape sequences for line breaks."
   ]
  },
  {
   "cell_type": "markdown",
   "id": "3d043955",
   "metadata": {},
   "source": [
    "7. Mixing Data Types\n",
    " - Ask the user for:\n",
    "    - Your age (integer)\n",
    "    - Your height in meters (float)\n",
    "    - Your name (string)\n",
    "- Print a sentence using f-string showing all details in one line, making sure you type-cast where necessary."
   ]
  },
  {
   "cell_type": "markdown",
   "id": "7571e464",
   "metadata": {},
   "source": [
    "8. Transport Fare Calculator\n",
    " - Ask for:\n",
    "    - Distance in km (float)\n",
    "    - Fare per km (float)\n",
    "- Calculate and display the total fare with two decimal places using `f\"{value:.2f}\"`.\n"
   ]
  },
  {
   "cell_type": "markdown",
   "id": "bb0fa948",
   "metadata": {},
   "source": [
    "9. Nigerian Festival Info\n",
    " - Ask for:\n",
    "     - Festival name (string)\n",
    "     - Location (string)\n",
    "     - Month held (string)\n",
    "- Display the info with quotation marks around the festival name using escape sequences `(\\\")`.\n"
   ]
  },
  {
   "cell_type": "markdown",
   "id": "2202120b",
   "metadata": {},
   "source": [
    "10. School Fees Breakdown\n",
    "  - Ask for:\n",
    "    - School name\n",
    "    - Tuition fee (float)\n",
    "    - Hostel fee (float)\n",
    "    - Feeding fee (float)\n",
    "\n",
    "- Calculate the total and print it in receipt format with each fee on a new line."
   ]
  },
  {
   "cell_type": "markdown",
   "id": "e8a2c364",
   "metadata": {},
   "source": [
    "11. Nigerian Currency Converter (Very Advanced)\n",
    "  - Ask for:\n",
    "    - Amount in Naira (float)\n",
    "    - Exchange rate to US Dollars (float)\n",
    "    - Exchange rate to British Pounds (float)\n",
    "\n",
    "- Convert and print results with thousands separators and currency symbols, neatly aligned in a table-like format using escape sequences."
   ]
  },
  {
   "cell_type": "markdown",
   "id": "4ff8f17e",
   "metadata": {},
   "source": [
    "12. Simulated USSD Menu Interaction\n",
    " - You are to design a mock USSD interface for a mobile service.\n",
    " - Requirements:\n",
    "   1. When the user runs the program, display a welcome screen with a Nigerian context greeting.\n",
    "   2. Ask the user to \"dial\" a USSD code (e.g., *123#) and store it in a variable.\n",
    "   3. Print a menu with at least 3 options (e.g., \"Check Balance\", \"Buy Airtime\", \"Buy Data\") using newline escape sequences `(\\n)` for formatting.\n",
    "   4. Ask the user to choose an option (1, 2, or 3) and store their choice in a variable.\n",
    "   5. Use f-strings and/or concatenation to display a confirmation message showing the selected option.\n",
    "   6. Ask for an amount (if applicable) and store it as a number using type casting.\n",
    "   7. Display a final message summarizing the transaction.\n",
    "\n",
    "\n"
   ]
  },
  {
   "cell_type": "markdown",
   "id": "2bd55c37",
   "metadata": {},
   "source": [
    "**Submission Instructions**\n",
    "- Create a folder name it `your_name_task2`\n",
    "- Create a .py for each question(that is, you will be have 12 files inside the folder)\n",
    "- Zip the folder and send it to the `assessments-and-assignment` channel on slack.\n",
    "- Link to join the channel \"https://publicaacademy.slack.com/archives/C08SBKMM33R\"\n",
    "- Deadline: 12 noon, Saturday 9th August,2025."
   ]
  }
 ],
 "metadata": {
  "kernelspec": {
   "display_name": "Python 3",
   "language": "python",
   "name": "python3"
  },
  "language_info": {
   "name": "python",
   "version": "3.11.3"
  }
 },
 "nbformat": 4,
 "nbformat_minor": 5
}
