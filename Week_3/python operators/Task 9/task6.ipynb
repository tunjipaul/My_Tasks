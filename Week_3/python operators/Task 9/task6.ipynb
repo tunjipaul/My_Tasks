{
 "cells": [
  {
   "cell_type": "markdown",
   "id": "4c8a4e3e",
   "metadata": {},
   "source": [
    "**Task1: Fruit collector**\n",
    "- Ask the user to enter 5 favourite fruits. Store them in a set and display the set."
   ]
  },
  {
   "cell_type": "markdown",
   "id": "bc37855a",
   "metadata": {},
   "source": [
    "**Task2: Unique Name Collector**\n",
    " - Write a program that collects the names of people attending a seminar (no duplicates allowed) and displays them in alphabetical order."
   ]
  },
  {
   "cell_type": "markdown",
   "id": "eafaf328",
   "metadata": {},
   "source": [
    "**Task3: Simulate a football match ticket system**\n",
    "\n",
    "- Store all seat numbers (1 to 50) in a set.\n",
    "\n",
    "- Ask users to \"book\" a seat by entering the number.\n",
    "\n",
    "- Remove booked seats from the set.\n",
    "\n",
    "- Show remaining seats after each booking."
   ]
  },
  {
   "cell_type": "markdown",
   "id": "87b0359a",
   "metadata": {},
   "source": [
    "**Task4: Create a Unique Voters Registration System**\n",
    "\n",
    "- Ask for voter names and store in a set.\n",
    "\n",
    "- If a voter tries to register twice, display a warning.\n",
    "\n",
    "- After registration, display the total number of unique voters."
   ]
  }
 ],
 "metadata": {
  "language_info": {
   "name": "python"
  }
 },
 "nbformat": 4,
 "nbformat_minor": 5
}
