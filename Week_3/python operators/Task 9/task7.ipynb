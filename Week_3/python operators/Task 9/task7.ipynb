{
 "cells": [
  {
   "cell_type": "markdown",
   "id": "304481b9",
   "metadata": {},
   "source": [
    "**Task1: Student Bio Data Storage**\n",
    "\n",
    "- Create a program that collects student bio-data from user input (name, age, gender, courses) and stores it in a dictionary.\n",
    "\n",
    "  - Courses should be stored as a list.\n",
    "\n",
    "  - Display the bio-data neatly using escape sequences.\n",
    "\n",
    "- Requirements:\n",
    "\n",
    "  - Use `input()` to collect details.\n",
    "\n",
    "  - Use dictionary operations `(dict[key] = value)` to store data.\n",
    "\n",
    "  - Use `print()` formatting with `\\n` and `\\t` for better output."
   ]
  },
  {
   "cell_type": "markdown",
   "id": "f92ecc74",
   "metadata": {},
   "source": [
    "**Task2: Super Market Price List**\n",
    "- Create a program that stores items and their prices in a dictionary.\n",
    "\n",
    "  - Items should come from a list.\n",
    "\n",
    "  - Prices are entered by the user.\n",
    "\n",
    "  - Display all items and prices, then allow the user to update the price of an item.\n",
    "\n",
    "- Requirements:\n",
    "\n",
    "  - Use dictionary update method `.update()` or assignment.\n",
    "\n",
    "  - Use `.keys()` to display available items.\n",
    "\n",
    "  - Use input validation (no advanced functions)."
   ]
  },
  {
   "cell_type": "markdown",
   "id": "fe47f19c",
   "metadata": {},
   "source": [
    "**Task3: Days and Activities Pairing**\n",
    "- Store days of the week in a tuple and ask the user to input an activity for three specific days.\n",
    "\n",
    "  - Use dictionary comprehension to pair days and activities.\n",
    "\n",
    "  - Print the dictionary.\n",
    "\n",
    "- Requirements:\n",
    "\n",
    "  - Use a tuple for days.\n",
    "\n",
    "  - Use {day: activity for day, activity in `zip(..., ...)`}.\n",
    "  Tip: Research on how to use `zip()`\n"
   ]
  },
  {
   "cell_type": "markdown",
   "id": "d96eec25",
   "metadata": {},
   "source": [
    "**Task4: Unique Members Registration**\n",
    "- Ask the user to enter three names separated by commas.\n",
    "\n",
    "   - Convert them to a set to ensure uniqueness.\n",
    "\n",
    "   - Create a dictionary where each name is a key and its length is the value.\n",
    "\n",
    "- Requirements:\n",
    "\n",
    "   - Use `.split(\",\")` and `set()` to remove duplicates.\n",
    "\n",
    "   - Use dictionary comprehension `{name: len(name) for name in set_of_names}`."
   ]
  },
  {
   "cell_type": "markdown",
   "id": "851c1042",
   "metadata": {},
   "source": [
    "**Task5: Contact Quick Lookup**\n",
    "- Store three names and their phone numbers in two separate tuples.\n",
    "\n",
    "  - Create a dictionary from them using `dict(zip(...))`.\n",
    "\n",
    "  - Ask the user for a name and display the corresponding number (or an error message).\n",
    "\n",
    "- Requirements:\n",
    "\n",
    "  - Use `zip()` and d`ict()` to combine tuples.\n",
    "\n",
    "  - Use `.get()` for safe retrieval.\n",
    "\n",
    "  - No loops."
   ]
  },
  {
   "cell_type": "markdown",
   "id": "c44ca94d",
   "metadata": {},
   "source": [
    "**Compulsory Task(but not graded): Student Profile Builder**\n",
    "\n",
    "- This program collects student details, academic scores, hobbies, and guardian info, stores them in a nested dictionary, and performs automatic calculations and transformations using dictionary comprehension, tuple unpacking, and set operations."
   ]
  },
  {
   "cell_type": "markdown",
   "id": "aae75a2a",
   "metadata": {},
   "source": [
    "**Requirements**\n",
    "- You are to are to study the project below, understand the thought process or flow, understand the codes and all the python components used.\n",
    "- Then let it inspire you to create something similar. You are free to be creative and adapt it to anything you wish to create."
   ]
  },
  {
   "cell_type": "markdown",
   "id": "fa6851b1",
   "metadata": {},
   "source": [
    "**My thought flow**\n",
    "\n",
    "1. understanding the task\n",
    "- I want to create a program that collects student information and presents it in a clean, organized way.\n",
    "\n",
    "- The program should:\n",
    "\n",
    "  - Collect personal details (name, age, gender).\n",
    "\n",
    "  - Collect academic scores for a fixed set of subjects.\n",
    "\n",
    "  - Store guardian information.\n",
    "\n",
    "  - Store hobbies without duplicates.\n",
    "\n",
    "  - Automatically calculate average score and initials."
   ]
  },
  {
   "cell_type": "markdown",
   "id": "6b10051c",
   "metadata": {},
   "source": [
    "2. What rules should I follow base on my understanding of the task?\n",
    "\n",
    "- Use print() and input() for interaction.\n",
    "\n",
    "- Use allowed data types: string, integer, float, list, tuple, set, dictionary.\n",
    "\n",
    "- Will include nested dictionaries for well organized structure."
   ]
  },
  {
   "cell_type": "markdown",
   "id": "b868a7e1",
   "metadata": {},
   "source": [
    "3. Identifying the users inputs\n",
    "\n",
    "- `name` → Student’s full name (string).\n",
    "\n",
    "- `age` → Student’s age (integer).\n",
    "\n",
    "- `gender` → Student’s gender (string).\n",
    "\n",
    "- `scores` → 3 subject scores (float).\n",
    "\n",
    " - `guardian_name` → Guardian’s name (string).\n",
    "\n",
    "- `guardian_phone` → Guardian’s phone number (string, since numbers may have +).\n",
    "\n",
    "- `hobbies_input` → List of hobbies (string, comma-separated)."
   ]
  },
  {
   "cell_type": "markdown",
   "id": "96aef8a0",
   "metadata": {},
   "source": [
    "4. Identifying my outputs\n",
    "\n",
    "- Student’s name, age, gender, and initials.\n",
    "- Academic scores per subject. \n",
    "- Average score (calculated). \n",
    "- Guardian’s name and phone.\n",
    "- List of hobbies without duplicates.\n",
    "- Total number of hobbies."
   ]
  },
  {
   "cell_type": "markdown",
   "id": "8ee96717",
   "metadata": {},
   "source": [
    "5. How should I store my outputs\n",
    "\n",
    "- `Subjects` → tuple: (\"Math\", \"English\", \"Science\") (since the values are not changing).\n",
    "\n",
    "- `Scores` → tuple (matching subjects).\n",
    "\n",
    "- `Hobbies` → set to remove duplicates, then converted to a list.\n",
    "\n",
    "- `Student Profile` → nested dictionary for organization"
   ]
  },
  {
   "cell_type": "markdown",
   "id": "3a843f6b",
   "metadata": {},
   "source": [
    "6. My final step - How to start writing my codes\n",
    "\n",
    "- Ask for basic student info using input().\n",
    "\n",
    "- Store subjects in a tuple.\n",
    "\n",
    "- Collect each subject’s score (using tuple comprehension).\n",
    "\n",
    "- Ask for guardian details.\n",
    "\n",
    "- Ask for hobbies as a comma-separated string, split into a set.\n",
    "\n",
    "- Build the student_profile dictionary using:\n",
    "\n",
    "   - Nested dictionaries for structure.\n",
    "\n",
    "   - Dictionary comprehension to pair subjects with scores.\n",
    "\n",
    "- Add calculated values:\n",
    "\n",
    "  - Average score.\n",
    "\n",
    "  - Initials (first letters of each name).\n",
    "\n",
    "  - Hobbies count.\n",
    "\n",
    "- Display results neatly using `print()` with formatting and `escape sequences`."
   ]
  },
  {
   "cell_type": "markdown",
   "id": "177e1b52",
   "metadata": {},
   "source": [
    "- Putting it all together, one step at a time..."
   ]
  },
  {
   "cell_type": "code",
   "execution_count": null,
   "id": "2b417b11",
   "metadata": {
    "vscode": {
     "languageId": "plaintext"
    }
   },
   "outputs": [],
   "source": [
    "\n",
    "# Basic Info\n",
    "name = input(\"Enter student's full name: \")\n",
    "age = int(input(\"Enter student's age: \"))\n",
    "gender = input(\"Enter gender (Male/Female): \")\n",
    "\n",
    "# Academic Scores (3 subjects)\n",
    "subjects = (\"Math\", \"English\", \"Science\")\n",
    "scores = tuple(float(input(f\"Enter score for {subj}: \")) for subj in subjects)\n",
    "\n",
    "# Guardian Info\n",
    "guardian_name = input(\"Enter guardian's name: \")\n",
    "guardian_phone = input(\"Enter guardian's phone number: \")\n",
    "\n",
    "# Hobbies - ensure uniqueness with set\n",
    "hobbies_input = input(\"Enter at least 3 hobbies (comma-separated): \")\n",
    "hobbies_set = set(h.strip() for h in hobbies_input.split(\",\"))\n",
    "\n",
    "# Student Dictionary\n",
    "student_profile = {\n",
    "    \"Basic Info\": {\n",
    "        \"Name\": name.title(),\n",
    "        \"Age\": age,\n",
    "        \"Gender\": gender.capitalize()\n",
    "    },\n",
    "    \"Academics\": {subj: score for subj, score in zip(subjects, scores)},\n",
    "    \"Guardian\": {\n",
    "        \"Name\": guardian_name.title(),\n",
    "        \"Phone\": guardian_phone\n",
    "    },\n",
    "    \"Hobbies\": list(hobbies_set)\n",
    "}\n",
    "\n",
    "# Derived Data\n",
    "student_profile[\"Academics\"][\"Average\"] = sum(scores) / len(scores)\n",
    "student_profile[\"Basic Info\"][\"Initials\"] = \"\".join([n[0] for n in name.split()])\n",
    "student_profile[\"Hobbies Count\"] = len(hobbies_set)\n",
    "\n",
    "# Output Section\n",
    "print(\"\\n\\t=== STUDENT PROFILE ===\")\n",
    "print(f\"Name:\\t\\t{student_profile['Basic Info']['Name']}\")\n",
    "print(f\"Age:\\t\\t{student_profile['Basic Info']['Age']}\")\n",
    "print(f\"Gender:\\t\\t{student_profile['Basic Info']['Gender']}\")\n",
    "print(f\"Initials:\\t{student_profile['Basic Info']['Initials']}\")\n",
    "print(\"\\n--- Academic Scores ---\")\n",
    "print(student_profile[\"Academics\"])\n",
    "print(\"\\n--- Guardian Info ---\")\n",
    "print(student_profile[\"Guardian\"])\n",
    "print(\"\\n--- Hobbies ---\")\n",
    "print(student_profile[\"Hobbies\"])\n",
    "print(f\"\\nTotal Hobbies:\\t{student_profile['Hobbies Count']}\")\n",
    "print(f\"Average Score:\\t{student_profile['Academics']['Average']:.2f}\")\n"
   ]
  }
 ],
 "metadata": {
  "language_info": {
   "name": "python"
  }
 },
 "nbformat": 4,
 "nbformat_minor": 5
}
