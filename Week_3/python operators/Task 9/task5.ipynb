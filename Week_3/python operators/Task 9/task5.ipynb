{
 "cells": [
  {
   "cell_type": "markdown",
   "id": "172d1940",
   "metadata": {},
   "source": [
    "**Tuple Practice**"
   ]
  },
  {
   "cell_type": "markdown",
   "id": "d26d98d3",
   "metadata": {},
   "source": [
    "**Task1:  Create and Display**\n",
    "\n",
    "- Ask the user to enter three favorite Nigerian dishes (one at a time).\n",
    "\n",
    " - Store them in a tuple called dishes.\n",
    "\n",
    "- Print the tuple in a single line, separating items with commas.\n",
    "\n",
    "- Use the \\n escape sequence to print each dish on a new line."
   ]
  },
  {
   "cell_type": "markdown",
   "id": "88a70a12",
   "metadata": {},
   "source": [
    "**Task2: Tuple and Input**\n",
    "\n",
    "- Ask the user for 5 best friends’ names.\n",
    "\n",
    "- Store them in a tuple friends.\n",
    "\n",
    "- Print the tuple in reverse order."
   ]
  },
  {
   "cell_type": "markdown",
   "id": "0845f561",
   "metadata": {},
   "source": [
    "**Task3: Tuple Operations**\n",
    "- Create a tuple of 5 Nigerian states entered by the user.\n",
    "\n",
    "  - Print the first state and last state.\n",
    "\n",
    "  - Check if \"Lagos\" is in the tuple and print \"Yes\" or \"No\".\n",
    "\n",
    "  - Print the number of states entered.\n",
    "    - (Hint: use the tuple membership)"
   ]
  },
  {
   "cell_type": "markdown",
   "id": "a6a8a883",
   "metadata": {},
   "source": [
    "**Task4: Tuple Unpacking**\n",
    " - Ask a user for their;\n",
    "\n",
    "  - First name\n",
    "\n",
    "  - Age\n",
    "\n",
    "  - Favorite color\n",
    "\n",
    "  - Home town\n",
    "\n",
    "  - Store them in a tuple profile and unpack into variables.\n",
    "\n",
    "  - Print and use  escape sequence to align each piece of information nicely."
   ]
  },
  {
   "cell_type": "markdown",
   "id": "86c61457",
   "metadata": {},
   "source": [
    "**Task5: Modify Tuple Indirectly**\n",
    "Ask a user to enter three items for their shopping list.\n",
    "\n",
    "  - Store in a tuple shopping_list.\n",
    "\n",
    "  - Convert it to a list, then ask for two more items to add.\n",
    "\n",
    "  - Convert back to a tuple and print the updated list using join() to display items separated by \" | \"."
   ]
  },
  {
   "cell_type": "markdown",
   "id": "536c14d1",
   "metadata": {},
   "source": [
    "**Task6: Attendance Tracker**\n",
    "- Write a Python program that;\n",
    "\n",
    " - Stores the days of the week in a tuple.\n",
    "\n",
    " - Stores the months of the year in another tuple.\n",
    "\n",
    " - Asks the user to enter:\n",
    "\n",
    "   - Student’s name\n",
    "\n",
    "   - Gender\n",
    "\n",
    "   - Course Track\n",
    "   \n",
    "   - Current month number (1-12)\n",
    "\n",
    "   - Current day number (1-7)\n"
   ]
  },
  {
   "cell_type": "markdown",
   "id": "9e3819d6",
   "metadata": {},
   "source": [
    "**Requirements**\n",
    "- Use only what you have learned so far.\n",
    "\n",
    "**Exceptions**\n",
    " - You may explore advanced libraries or functions beyond these topics if you are curious and want to challenge yourself.\n",
    "\n",
    " - However, this is optional and will not be counted as part of the official task.\n",
    "\n",
    "**Submission**\n",
    "- Push the task to your github repo and share your repo link on the `assessment_and_assignment` channel. Deadline is 11:59 pm tonight."
   ]
  },
  {
   "cell_type": "markdown",
   "id": "a6dac7fa",
   "metadata": {},
   "source": []
  }
 ],
 "metadata": {
  "language_info": {
   "name": "python"
  }
 },
 "nbformat": 4,
 "nbformat_minor": 5
}
